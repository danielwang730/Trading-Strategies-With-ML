{
 "cells": [
  {
   "cell_type": "markdown",
   "id": "ccd860b8-e487-4864-9a65-2422276a1912",
   "metadata": {},
   "source": [
    "# Data Cleaning ALL 1 Minute Files From FirstRate Data\n",
    "Previously, we had a cleaning process where Hayes started with the entire set of FRD csv files, converted them into parquet files, uploaded them onto Google Drive, and then filtered them down based on a certain set of criteria. I then continued filtering that down even further on Google Drive (through Google Colab), and I ended up with only the parquet day files that had 1) data starting from 8:00am at the latest, and 2) a PM volume of at least 100,000 shares traded. This limited the number of stocks significantly, and we were planning on testing that with the BHOD python backtester I developed.\n",
    "\n",
    "However, we switched gears and started focusing on 1) forward testing through a TWS API bot, and 2) developing ML-based strategies. As of April 2025, Hayes has continued working on the bot, and while I spent the last month working on my own bot as well, I'm dedicating these notebooks to testing ML strategies that do not take in our pre-conceived notions of a \"Stock in Play\" or what might be considered a good entry or exit. Therefore, I'm going to re-download and re-clean all of the files from FirstRate Data, just so we have as much data as possible, and then I'll likely limit the amount of data that we use to a certain subset. More specifically, the plan is to only use data after the market returned to normal after the COVID pandemic (i.e., starting ~October 2020) and build our models based off of future time periods."
   ]
  },
  {
   "cell_type": "markdown",
   "id": "287d24f9-8ea6-490a-884d-88f30b14140f",
   "metadata": {},
   "source": [
    "## Imports"
   ]
  },
  {
   "cell_type": "code",
   "execution_count": 171,
   "id": "c36e14a5-dfea-445d-b5f0-29a177670f13",
   "metadata": {},
   "outputs": [],
   "source": [
    "import pandas as pd\n",
    "import numpy as np\n",
    "import yfinance as yf\n",
    "from datetime import date, datetime\n",
    "import matplotlib.pyplot as plt\n",
    "import seaborn as sns\n",
    "from mlxtend.plotting import heatmap\n",
    "import dask\n",
    "import dask.dataframe as dd\n",
    "from dask import delayed\n",
    "from pyarrow.parquet import ParquetFile\n",
    "import pyarrow as pa\n",
    "from tqdm import tqdm\n",
    "\n",
    "import tulipy as ti\n",
    "\n",
    "import sklearn\n",
    "from sklearn.preprocessing import MinMaxScaler\n",
    "from sklearn.model_selection import train_test_split\n",
    "from sklearn.metrics import mean_squared_error\n",
    "from sklearn.metrics import confusion_matrix, ConfusionMatrixDisplay\n",
    "from sklearn.preprocessing import StandardScaler\n",
    "from sklearn.decomposition import PCA\n",
    "from sklearn.decomposition import KernelPCA\n",
    "from sklearn.decomposition import IncrementalPCA\n",
    "\n",
    "import tensorflow as tf\n",
    "from tensorflow import keras\n",
    "from tensorflow.keras.models import Sequential\n",
    "from tensorflow.keras.layers import LSTM, Dense, Dropout\n",
    "from tensorflow.keras import initializers\n",
    "from tensorflow.keras.models import load_model\n",
    "from tensorflow.keras.utils import register_keras_serializable\n",
    "from tensorflow.keras.optimizers import SGD\n",
    "import keras_tuner as kt\n",
    "from keras_tuner import HyperParameters\n",
    "\n",
    "import os\n",
    "import sys\n",
    "import warnings\n",
    "import shutil"
   ]
  },
  {
   "cell_type": "markdown",
   "id": "65e2cbe6-5f1c-4d34-8440-6c7890940c6a",
   "metadata": {},
   "source": [
    "## Downloading process for csv files\n",
    "One problem that I'm running into is deciding which tickers to actually include in my dataset. More specifically, in the current shared Google Drive, we have the raw 1-min csv files from FRD, and we also have a filtered folder after filtering for an average volume of at least 500,000, a 14-day ATR of at least \\\\$0.50, an Open price of at least \\\\$10, and a market cap of at least 50M (as of 1/20/25).\n",
    "\n",
    "Here's the thing: I'm conflicted on whether to use that dataset (since some of the day data will likely be missing and I need ALL the sequential day data), or try re-creating it on my own (which will be quite cumbersome). Furthermore, I'm not sure which criteria I want to include in the first place. For example, while I believe I'm only going to trade stocks that are at least \\\\$10, that's a criteria I set for myself when I was day trading. Theoretically, with an ML model, there's no reason why I can't trade stocks below \\\\$10 if they can potentially be profitable. On the other hand, I really do think I should keep the 50M market cap condition, since I don't want to be trading penny stocks.\n",
    "\n",
    "After some consideration, I believe I'll recreate the data on my own from the raw 1-min FRD csv files. However, I maintain that I don't want to be trading penny stocks. Therefore, I'm going to do a few checks:\n",
    "1. I'm going to take each ticker in the filtered-parquet files and see if they're included in my 475 S&P500 tickers from my DATASCI 207 ML class. If most of them are there, I can be rest assured that I have at least most of the tickers I want.\n",
    "   - The reason I'm checking this is because even though I only want the 50M market cap condition, the filtered-parquet files are also filtered based on the other 3 criteria I mentioned above. Therefore, even though all the tickers in the filtered-parquet folder meet the 50M market cap condition, there might be some that are missing based on the other criteria.\n",
    "2. If I'm comfortable with the tickers that are in the folder, I will take that ticker list and only create the separated csv (and then parquet) files that are on that list.\n",
    "   - So the difference now is that I'm not checking for every day's volume, ATR, or price, and I will include **all** the available data from the stocks on my list. Yes, some of those tickers may have been filtered out when Hayes was creating the filtered-parquet folders initially, but the hope is that there's at least one day that exists for the >50M market cap stocks that meet the other criteria as well, which then means I can include that ticker's entire history."
   ]
  },
  {
   "cell_type": "markdown",
   "id": "5148c12e-59ee-4e3f-9550-3dc639d1ccff",
   "metadata": {
    "jp-MarkdownHeadingCollapsed": true
   },
   "source": [
    "## Checking which tickers from the 475 S&P500 tickers from DATASCI 207 exist in the filtered-parquet folder\n",
    "I've downloaded the list of the tickers (3148) that Hayes has filtered out previously (from the filtered-parquet folder on the Google Drive). We can now compare that to the tickers in the S&P500 list that we downloaded and see which ones match (the more the better)."
   ]
  },
  {
   "cell_type": "code",
   "execution_count": 3,
   "id": "c488e079-6059-4105-a411-7ffcd58edab2",
   "metadata": {},
   "outputs": [],
   "source": [
    "# Getting the paths for the filtered tickers and the S&P500 data\n",
    "filtered_parquet_tickers_path = '/Users/danielwang/Desktop/Work stuff/Coding Stuff/Day Trading Stuff/Trading-Strategies-With-ML/Archive/all_tickers_in_filtered_parquet.csv'\n",
    "sp500_path = '/Users/danielwang/Desktop/Berkeley MIDS Stuff/Berkeley MIDS Spring 2025 Stuff/Berkeley MIDS DATASCI 207/datasci-207-final-project/SP500_updated_data_2025_03_26.csv'"
   ]
  },
  {
   "cell_type": "code",
   "execution_count": 20,
   "id": "de6d7267-0fea-4235-a9ca-57e6cf3ce882",
   "metadata": {},
   "outputs": [],
   "source": [
    "# Getting tickers from the filtered_parquet_tickers_path\n",
    "filtered_parquet_tickers = pd.read_csv(filtered_parquet_tickers_path, index_col='Unnamed: 0')\n",
    "filtered_parquet_tickers = list(filtered_parquet_tickers.iloc[:, 0].unique())\n",
    "\n",
    "# Getting just the tickers from the sp500 df\n",
    "sp500_df = pd.read_csv(sp500_path)\n",
    "sp500_tickers = list(sp500_df['Ticker'].unique())"
   ]
  },
  {
   "cell_type": "code",
   "execution_count": 43,
   "id": "e819eb1b-b592-44ed-9d50-84449b80c44b",
   "metadata": {},
   "outputs": [
    {
     "name": "stdout",
     "output_type": "stream",
     "text": [
      "Tickers in the filtered-parquet folder that are missing from the 475 S&P500 list:\n",
      " - AMCR\n",
      " - BDX\n",
      " - CB\n",
      " - CHD\n",
      " - CME\n",
      " - CSX\n",
      " - CVS\n",
      " - DPZ\n",
      " - ETN\n",
      " - FIS\n",
      " - GPN\n",
      " - HD\n",
      " - HSIC\n",
      " - IP\n",
      " - IPG\n",
      " - JNJ\n",
      " - K\n",
      " - MRK\n",
      " - NVR\n",
      " - POOL\n",
      " - PPG\n",
      " - SBUX\n",
      " - SO\n",
      " - TAP\n",
      " - WY\n"
     ]
    }
   ],
   "source": [
    "# Initializing list to add missing tickers to\n",
    "missing_tickers_in_sp500 = []\n",
    "\n",
    "# Checking which tickers are in the filtered-parquet\n",
    "print(\"Tickers in the filtered-parquet folder that are missing from the 475 S&P500 list:\")\n",
    "for sp500_ticker in sp500_tickers:\n",
    "    if sp500_ticker not in filtered_parquet_tickers:\n",
    "        print(\" -\", sp500_ticker)\n",
    "        missing_tickers_in_sp500.append(sp500_ticker)"
   ]
  },
  {
   "cell_type": "markdown",
   "id": "056ba805-9828-485d-8b50-796e0575e885",
   "metadata": {},
   "source": [
    "While we have most of the stocks from S&P500, there are definitely some notable ones missing, such as CVS, JNJ, K, MRK, or SBUX. Therefore, we'll add all the stocks that are missing from our S&P500 list onto our final list."
   ]
  },
  {
   "cell_type": "markdown",
   "id": "e3d7dc3b-b84f-4a5b-ad3a-e888b9ec57a8",
   "metadata": {
    "jp-MarkdownHeadingCollapsed": true
   },
   "source": [
    "## Obtaining final list of tickers that we want in our dataset\n",
    "For the most part, these are stocks that have a market cap of at least 50M, and we've included all stocks in the S&P500 as well (as of April 6, 2025). There is also some slight cleaning up that we need to do, and we'll do that here as well."
   ]
  },
  {
   "cell_type": "code",
   "execution_count": 125,
   "id": "a41b6b1f-fd2c-4348-8ebd-a9d4be08388d",
   "metadata": {},
   "outputs": [
    {
     "data": {
      "text/html": [
       "<div>\n",
       "<style scoped>\n",
       "    .dataframe tbody tr th:only-of-type {\n",
       "        vertical-align: middle;\n",
       "    }\n",
       "\n",
       "    .dataframe tbody tr th {\n",
       "        vertical-align: top;\n",
       "    }\n",
       "\n",
       "    .dataframe thead th {\n",
       "        text-align: right;\n",
       "    }\n",
       "</style>\n",
       "<table border=\"1\" class=\"dataframe\">\n",
       "  <thead>\n",
       "    <tr style=\"text-align: right;\">\n",
       "      <th></th>\n",
       "      <th>Ticker</th>\n",
       "    </tr>\n",
       "  </thead>\n",
       "  <tbody>\n",
       "    <tr>\n",
       "      <th>0</th>\n",
       "      <td>A</td>\n",
       "    </tr>\n",
       "    <tr>\n",
       "      <th>1</th>\n",
       "      <td>AA</td>\n",
       "    </tr>\n",
       "    <tr>\n",
       "      <th>2</th>\n",
       "      <td>AADI</td>\n",
       "    </tr>\n",
       "    <tr>\n",
       "      <th>3</th>\n",
       "      <td>AAL</td>\n",
       "    </tr>\n",
       "    <tr>\n",
       "      <th>4</th>\n",
       "      <td>AAOI</td>\n",
       "    </tr>\n",
       "    <tr>\n",
       "      <th>...</th>\n",
       "      <td>...</td>\n",
       "    </tr>\n",
       "    <tr>\n",
       "      <th>3166</th>\n",
       "      <td>ZURA</td>\n",
       "    </tr>\n",
       "    <tr>\n",
       "      <th>3167</th>\n",
       "      <td>ZVRA</td>\n",
       "    </tr>\n",
       "    <tr>\n",
       "      <th>3168</th>\n",
       "      <td>ZWS</td>\n",
       "    </tr>\n",
       "    <tr>\n",
       "      <th>3169</th>\n",
       "      <td>ZYME</td>\n",
       "    </tr>\n",
       "    <tr>\n",
       "      <th>3170</th>\n",
       "      <td>ZYXI</td>\n",
       "    </tr>\n",
       "  </tbody>\n",
       "</table>\n",
       "<p>3171 rows × 1 columns</p>\n",
       "</div>"
      ],
      "text/plain": [
       "     Ticker\n",
       "0         A\n",
       "1        AA\n",
       "2      AADI\n",
       "3       AAL\n",
       "4      AAOI\n",
       "...     ...\n",
       "3166   ZURA\n",
       "3167   ZVRA\n",
       "3168    ZWS\n",
       "3169   ZYME\n",
       "3170   ZYXI\n",
       "\n",
       "[3171 rows x 1 columns]"
      ]
     },
     "execution_count": 125,
     "metadata": {},
     "output_type": "execute_result"
    }
   ],
   "source": [
    "# Adding the missing tickers in the S&P500 to the full list of tickers\n",
    "full_ticker_list = filtered_parquet_tickers + missing_tickers_in_sp500\n",
    "\n",
    "# Converting list back into df and sorting\n",
    "full_ticker_df = pd.DataFrame(full_ticker_list)\n",
    "full_ticker_df = full_ticker_df.sort_values(by=0).reset_index(drop=True)\n",
    "full_ticker_df = full_ticker_df.iloc[:-2]  # Dropping 'ls' and 'NaN'\n",
    "full_ticker_df = full_ticker_df.rename(columns={0: 'Ticker'})\n",
    "full_ticker_df"
   ]
  },
  {
   "cell_type": "markdown",
   "id": "3839c1ac-6016-48ed-819e-c6a19b64e498",
   "metadata": {},
   "source": [
    "In the end, we see that we get 3171 tickers in our final list. While this will likely decrease some more (after we remove tickers that don't have either sequential data or enough data spanning from October 1, 2020 to the last date of the dataset), this is a good start to limiting the number of tickers we need to analyze."
   ]
  },
  {
   "cell_type": "markdown",
   "id": "fc3f1bea-acf6-46a8-9c67-8c1627ed91be",
   "metadata": {},
   "source": [
    "# Getting Fully Cleaned Data from FRD\n",
    "The previous steps have all been to figure out which stocks I wanted to keep in my final dataset, and now I'm ready to do the cleaning process. In fact, if I purchase more FRD data in the future, or even if I get data from other sources that come in this format (i.e., large csv files for every ticker), I'll be able to go through this process the exact same way.\n",
    "\n",
    "Here is everything I will be doing to obtain the final cleaned dataset:\n",
    "1. Get a final list of tickers that I want in my dataset and keep only the data from those stocks. Some criteria include the following:\n",
    "   - Market cap of at least 50M\n",
    "   - All stocks in the S&P500\n",
    "2. Separate out each stock into individual csv files with one day of 1-minute data in each.\n",
    "3. Choose a start date that I want data for, and filter the data based on that start date.\n",
    "   - This date will likely be sometime around October 1, 2020, as that's when the market recovered from COVID.\n",
    "4. Convert the remaining csv files into parquet files.\n",
    "5. Ensure that each stock in our dataset has continuous data for every single trading day available since our chosen start date.\n",
    "   - Assuming that there aren't too many stocks that don't have every single trading day (e.g., BIIB), filter out those stocks and keep only the ones with all the data.\n",
    "6. Clean the data by doing the following*:\n",
    "   - Start by forward-filling all missing data so that we have a continuous stream of data. All OHLC prices will be equal to the Close price of the most recent candlestick, and their volumes will be set to 0.\n",
    "   - Backfill any data to 4:00am (if data doesn't exist) based on the earliest PM 1-min candlestick. All OHLC prices will be equal to the first Open price in the PM, and their volumes will be set to 0.\n",
    "   - Forward-fill any data to 7:59pm (if data doesn't exist) based on the last RTH (regular trading hours) or EHT (extended-hours trading) candlestick. All OHLC prices will be equal to the Close price of the last candlestick, and their volumes will be set to 0.\n",
    "7. Data is ready for use, and we can now take what we want and feed it into our models.\n",
    "   - For example, we may only want data from 8:00am to 3:59pm, or we may only want stocks in certain sectors. With this cleaned dataset, we can easily accommodate both requests, and we'll only need to do some slight additional cleaning to get what we want.\n",
    "\n",
    "**This technically introduces price data that never existed, which may cause some problems with the modeling. However, I believe the benefits outweigh this drawback for the following reasons: 1) We'll have consistent data for our model, which allows us to generate same-length sequences, making our modeling (and QA) tasks much easier, and 2) The 0-volume candlesticks might give our model more information to work from, and I'm hoping it can actually learn something from that.*"
   ]
  },
  {
   "cell_type": "markdown",
   "id": "8da09ace-0819-4a1a-838f-4c881896eb99",
   "metadata": {
    "jp-MarkdownHeadingCollapsed": true
   },
   "source": [
    "## 1. Filtering for only the tickers that are in the final list\n",
    "I've downloaded all the FRD 1-min data onto the SSD, and now I'll begin process of creating a new folder and only transferring over the tickers in my final list to that folder."
   ]
  },
  {
   "cell_type": "code",
   "execution_count": 126,
   "id": "aa63514d-6c62-45f6-87b2-dfe91673bdc6",
   "metadata": {},
   "outputs": [
    {
     "data": {
      "text/plain": [
       "7606"
      ]
     },
     "execution_count": 126,
     "metadata": {},
     "output_type": "execute_result"
    }
   ],
   "source": [
    "# Getting the path to the full FRD tickers and initializing its list of tickers\n",
    "full_FRD_tickers_path = '/Volumes/T7/Original_FRD_Data_Till_Dec_2024/unzipped-FRD-csv-full'\n",
    "full_FRD_tickers_list = []\n",
    "\n",
    "# Going through all the tickers and keeping the ones in the final list\n",
    "for ticker_path in os.listdir(full_FRD_tickers_path):\n",
    "    ticker = ticker_path.split('_')[0]\n",
    "    full_FRD_tickers_list.append(ticker)\n",
    "\n",
    "len(full_FRD_tickers_list)"
   ]
  },
  {
   "cell_type": "code",
   "execution_count": 128,
   "id": "24e819c1-8e5e-42fe-b676-eb3735e6ed56",
   "metadata": {},
   "outputs": [
    {
     "name": "stdout",
     "output_type": "stream",
     "text": [
      "Tickers from final list that don't appear in the FRD data:\n"
     ]
    }
   ],
   "source": [
    "# Checking to see if all the tickers in FRD are also in the final list\n",
    "print(\"Tickers from final list that don't appear in the FRD data:\")\n",
    "for ticker in full_ticker_df['Ticker']:\n",
    "    if ticker not in full_FRD_tickers_list:\n",
    "        print(\" -\", ticker)"
   ]
  },
  {
   "cell_type": "markdown",
   "id": "1abe1bcf-6a9f-4310-af34-79d2ecf5329a",
   "metadata": {},
   "source": [
    "Therefore, it does appear that every single ticker from our final list appears in the FRD data. Now that we've confirmed this, I can move on to creating a folder with just those tickers."
   ]
  },
  {
   "cell_type": "code",
   "execution_count": 139,
   "id": "566c6dd8-248c-400e-b869-f4556a9a6ff9",
   "metadata": {},
   "outputs": [
    {
     "name": "stderr",
     "output_type": "stream",
     "text": [
      "100%|███████████████████████████████████████| 7606/7606 [07:57<00:00, 15.94it/s]\n"
     ]
    }
   ],
   "source": [
    "# Copying only the tickers in my final list to a new folder\n",
    "source_dir = \"/Volumes/T7/Original_FRD_Data_Till_Dec_2024/unzipped-FRD-csv-full\"\n",
    "target_dir = \"/Volumes/T7/FRD-High-Market-Cap-Tickers\"\n",
    "\n",
    "# Making sure the target directory exists\n",
    "os.makedirs(target_dir, exist_ok=True)\n",
    "\n",
    "# Getting the list of tickers from the DataFrame\n",
    "tickers_set = set(full_ticker_df['Ticker'].astype(str))\n",
    "\n",
    "# Looping through files in the source directory\n",
    "for file in tqdm(os.listdir(source_dir)):\n",
    "    ticker = file.split('_')[0]  # Getting the ticker name\n",
    "    \n",
    "    if ticker in tickers_set:\n",
    "        src_path = os.path.join(source_dir, file)\n",
    "        dst_path = os.path.join(target_dir, file)\n",
    "        shutil.copy(src_path, dst_path)"
   ]
  },
  {
   "cell_type": "code",
   "execution_count": 140,
   "id": "a91f0e7e-cd25-4d24-b16c-195a696d3d2a",
   "metadata": {},
   "outputs": [
    {
     "data": {
      "text/plain": [
       "3171"
      ]
     },
     "execution_count": 140,
     "metadata": {},
     "output_type": "execute_result"
    }
   ],
   "source": [
    "# Confirming that that we have the same number of tickers in our new folder as we did in our final list\n",
    "len(os.listdir(target_dir))"
   ]
  },
  {
   "cell_type": "markdown",
   "id": "07b62e88-5acb-4fa0-9023-0219b7a8fb9a",
   "metadata": {},
   "source": [
    "We do indeed have the same number of tickers, which means that we can move onto the next step."
   ]
  },
  {
   "cell_type": "markdown",
   "id": "160a9e29-fbac-43b7-b5cf-d4871bb9ff84",
   "metadata": {
    "jp-MarkdownHeadingCollapsed": true
   },
   "source": [
    "## 2. Splitting the full csv files for every ticker into individual csv files for each day\n",
    "Now that I have my folder with only the csv files that match the tickers in my final list, I can begin the process of creating new folders for every ticker and splitting the combined csv file into individual csv files for each day."
   ]
  },
  {
   "cell_type": "code",
   "execution_count": 168,
   "id": "dbcbd129-ed86-4a0f-94da-3c612566a46c",
   "metadata": {},
   "outputs": [
    {
     "name": "stderr",
     "output_type": "stream",
     "text": [
      "100%|████████████████████████████████████| 3171/3171 [12:47:02<00:00, 14.51s/it]\n"
     ]
    }
   ],
   "source": [
    "# Setting the input and output directory\n",
    "base_dir = \"/Volumes/T7/FRD-High-Market-Cap-Tickers\"\n",
    "\n",
    "# Getting a list of all _full_1min_UNADJUSTED.csv files\n",
    "csv_files = [f for f in os.listdir(base_dir) if f.endswith(\"_full_1min_UNADJUSTED.csv\")]\n",
    "\n",
    "for filename in tqdm(csv_files):\n",
    "    ticker = filename.split('_')[0]  # Getting just the ticker name\n",
    "    \n",
    "    # Setting the paths\n",
    "    csv_path = os.path.join(base_dir, filename)\n",
    "    output_folder = os.path.join(base_dir, f\"{ticker}_1min_csv\")\n",
    "    os.makedirs(output_folder, exist_ok=True)\n",
    "    \n",
    "    # Loading the CSV and parsing the datetime\n",
    "    df = pd.read_csv(csv_path)\n",
    "    df['Datetime'] = pd.to_datetime(df['Datetime'])\n",
    "    \n",
    "    # Grouping by date\n",
    "    df['Date'] = df['Datetime'].dt.date\n",
    "    grouped = df.groupby('Date')\n",
    "    \n",
    "    # Writing one file per date\n",
    "    for date, group in grouped:\n",
    "        date_str = date.strftime(\"%Y-%m-%d\")\n",
    "        output_filename = f\"{date_str}_{ticker}_1min.csv\"\n",
    "        output_path = os.path.join(output_folder, output_filename)\n",
    "        group.drop(columns=['Date']).to_csv(output_path, index=False)"
   ]
  },
  {
   "cell_type": "markdown",
   "id": "8c5ab9ac-cdf9-47ab-9a84-b2c0e084f4ef",
   "metadata": {
    "jp-MarkdownHeadingCollapsed": true
   },
   "source": [
    "## 3. Filtering the stocks for only the dates that are on or after 10/1/20\n",
    "In hindsight, I definitely should have done this with the previous step after I grouped by date time, but alas, it's too late now."
   ]
  },
  {
   "cell_type": "code",
   "execution_count": 175,
   "id": "6a464a4e-c3e8-47fa-b280-735a30aadf4b",
   "metadata": {},
   "outputs": [
    {
     "name": "stderr",
     "output_type": "stream",
     "text": [
      "100%|█████████████████████████████████████| 3171/3171 [1:06:53<00:00,  1.27s/it]\n"
     ]
    }
   ],
   "source": [
    "# Defining base directory\n",
    "base_dir = \"/Volumes/T7/FRD-High-Market-Cap-Tickers\"\n",
    "cutoff_date = datetime.strptime(\"2020-10-01\", \"%Y-%m-%d\")\n",
    "\n",
    "# Looping through all ticker folders ending with \"_1min_csv\"\n",
    "for folder_name in tqdm(os.listdir(base_dir)):\n",
    "    folder_path = os.path.join(base_dir, folder_name)\n",
    "    \n",
    "    if os.path.isdir(folder_path) and folder_name.endswith(\"_1min_csv\"):\n",
    "        for file_name in os.listdir(folder_path):\n",
    "            if file_name.endswith(\"_1min.csv\"):\n",
    "                try:\n",
    "                    # Extracting the date part from the filename\n",
    "                    date_str = file_name.split('_')[0]\n",
    "                    file_date = datetime.strptime(date_str, \"%Y-%m-%d\")\n",
    "                    \n",
    "                    # Deleting the file if it's before the cutoff date\n",
    "                    if file_date < cutoff_date:\n",
    "                        os.remove(os.path.join(folder_path, file_name))\n",
    "                except Exception as e:\n",
    "                    print(f\"Skipping {file_name} due to error: {e}\")"
   ]
  },
  {
   "cell_type": "code",
   "execution_count": 181,
   "id": "dc9283d0-af2a-47b8-bd77-618692e0901a",
   "metadata": {},
   "outputs": [
    {
     "name": "stderr",
     "output_type": "stream",
     "text": [
      "100%|██████████████████████████████████████| 3171/3171 [00:28<00:00, 111.93it/s]\n"
     ]
    }
   ],
   "source": [
    "# Confirming that we have no dates before 2020-10-01\n",
    "test_list = os.listdir(base_dir)\n",
    "test_list.sort()\n",
    "cutoff_date = datetime.strptime(\"2020-10-01\", \"%Y-%m-%d\")\n",
    "\n",
    "for folder in tqdm(test_list):\n",
    "    folder_path = os.path.join(base_dir, folder_name)\n",
    "\n",
    "    for file_name in os.listdir(folder_path):\n",
    "        date_str = file_name.split('_')[0]\n",
    "        file_date = datetime.strptime(date_str, \"%Y-%m-%d\")\n",
    "\n",
    "        if file_date < cutoff_date:\n",
    "            print(\"Previous date still exists:\", folder, file_name, file_date)"
   ]
  },
  {
   "cell_type": "markdown",
   "id": "b3dbba04-559a-4d22-a5f8-8bb4a6be1035",
   "metadata": {},
   "source": [
    "Now that we have filtered our data, we can convert all the csv files into parquet files."
   ]
  },
  {
   "cell_type": "markdown",
   "id": "2ab7c6b2-9df9-4292-9b9e-40533c1066bd",
   "metadata": {
    "jp-MarkdownHeadingCollapsed": true
   },
   "source": [
    "## 4. Converting all filtered FRD csv files to parquet files\n",
    "With the csv files now filtered, I can convert all those files into parquet format. Again, in hindsight, I probably should've just converted the files directly to parquet, but this will work too."
   ]
  },
  {
   "cell_type": "code",
   "execution_count": 200,
   "id": "d54e0085-dce7-4baa-94f7-b2f76d2da5d0",
   "metadata": {},
   "outputs": [
    {
     "data": {
      "text/html": [
       "<div>\n",
       "<style scoped>\n",
       "    .dataframe tbody tr th:only-of-type {\n",
       "        vertical-align: middle;\n",
       "    }\n",
       "\n",
       "    .dataframe tbody tr th {\n",
       "        vertical-align: top;\n",
       "    }\n",
       "\n",
       "    .dataframe thead th {\n",
       "        text-align: right;\n",
       "    }\n",
       "</style>\n",
       "<table border=\"1\" class=\"dataframe\">\n",
       "  <thead>\n",
       "    <tr style=\"text-align: right;\">\n",
       "      <th></th>\n",
       "      <th>Open</th>\n",
       "      <th>High</th>\n",
       "      <th>Low</th>\n",
       "      <th>Close</th>\n",
       "      <th>Volume</th>\n",
       "      <th>Ticker</th>\n",
       "    </tr>\n",
       "    <tr>\n",
       "      <th>Datetime</th>\n",
       "      <th></th>\n",
       "      <th></th>\n",
       "      <th></th>\n",
       "      <th></th>\n",
       "      <th></th>\n",
       "      <th></th>\n",
       "    </tr>\n",
       "  </thead>\n",
       "  <tbody>\n",
       "    <tr>\n",
       "      <th>2020-10-01 04:00:00</th>\n",
       "      <td>12.44</td>\n",
       "      <td>12.44</td>\n",
       "      <td>12.37</td>\n",
       "      <td>12.37</td>\n",
       "      <td>4940</td>\n",
       "      <td>AAL</td>\n",
       "    </tr>\n",
       "    <tr>\n",
       "      <th>2020-10-01 04:01:00</th>\n",
       "      <td>12.38</td>\n",
       "      <td>12.38</td>\n",
       "      <td>12.38</td>\n",
       "      <td>12.38</td>\n",
       "      <td>780</td>\n",
       "      <td>AAL</td>\n",
       "    </tr>\n",
       "    <tr>\n",
       "      <th>2020-10-01 04:02:00</th>\n",
       "      <td>12.36</td>\n",
       "      <td>12.36</td>\n",
       "      <td>12.30</td>\n",
       "      <td>12.30</td>\n",
       "      <td>4476</td>\n",
       "      <td>AAL</td>\n",
       "    </tr>\n",
       "    <tr>\n",
       "      <th>2020-10-01 04:07:00</th>\n",
       "      <td>12.38</td>\n",
       "      <td>12.40</td>\n",
       "      <td>12.38</td>\n",
       "      <td>12.40</td>\n",
       "      <td>879</td>\n",
       "      <td>AAL</td>\n",
       "    </tr>\n",
       "    <tr>\n",
       "      <th>2020-10-01 04:08:00</th>\n",
       "      <td>12.44</td>\n",
       "      <td>12.44</td>\n",
       "      <td>12.44</td>\n",
       "      <td>12.44</td>\n",
       "      <td>2800</td>\n",
       "      <td>AAL</td>\n",
       "    </tr>\n",
       "    <tr>\n",
       "      <th>...</th>\n",
       "      <td>...</td>\n",
       "      <td>...</td>\n",
       "      <td>...</td>\n",
       "      <td>...</td>\n",
       "      <td>...</td>\n",
       "      <td>...</td>\n",
       "    </tr>\n",
       "    <tr>\n",
       "      <th>2020-10-01 19:55:00</th>\n",
       "      <td>12.48</td>\n",
       "      <td>12.49</td>\n",
       "      <td>12.48</td>\n",
       "      <td>12.49</td>\n",
       "      <td>3220</td>\n",
       "      <td>AAL</td>\n",
       "    </tr>\n",
       "    <tr>\n",
       "      <th>2020-10-01 19:56:00</th>\n",
       "      <td>12.49</td>\n",
       "      <td>12.50</td>\n",
       "      <td>12.49</td>\n",
       "      <td>12.50</td>\n",
       "      <td>10750</td>\n",
       "      <td>AAL</td>\n",
       "    </tr>\n",
       "    <tr>\n",
       "      <th>2020-10-01 19:57:00</th>\n",
       "      <td>12.50</td>\n",
       "      <td>12.50</td>\n",
       "      <td>12.49</td>\n",
       "      <td>12.49</td>\n",
       "      <td>13350</td>\n",
       "      <td>AAL</td>\n",
       "    </tr>\n",
       "    <tr>\n",
       "      <th>2020-10-01 19:58:00</th>\n",
       "      <td>12.49</td>\n",
       "      <td>12.50</td>\n",
       "      <td>12.47</td>\n",
       "      <td>12.47</td>\n",
       "      <td>3699</td>\n",
       "      <td>AAL</td>\n",
       "    </tr>\n",
       "    <tr>\n",
       "      <th>2020-10-01 19:59:00</th>\n",
       "      <td>12.48</td>\n",
       "      <td>12.50</td>\n",
       "      <td>12.47</td>\n",
       "      <td>12.49</td>\n",
       "      <td>6690</td>\n",
       "      <td>AAL</td>\n",
       "    </tr>\n",
       "  </tbody>\n",
       "</table>\n",
       "<p>761 rows × 6 columns</p>\n",
       "</div>"
      ],
      "text/plain": [
       "                      Open   High    Low  Close  Volume Ticker\n",
       "Datetime                                                      \n",
       "2020-10-01 04:00:00  12.44  12.44  12.37  12.37    4940    AAL\n",
       "2020-10-01 04:01:00  12.38  12.38  12.38  12.38     780    AAL\n",
       "2020-10-01 04:02:00  12.36  12.36  12.30  12.30    4476    AAL\n",
       "2020-10-01 04:07:00  12.38  12.40  12.38  12.40     879    AAL\n",
       "2020-10-01 04:08:00  12.44  12.44  12.44  12.44    2800    AAL\n",
       "...                    ...    ...    ...    ...     ...    ...\n",
       "2020-10-01 19:55:00  12.48  12.49  12.48  12.49    3220    AAL\n",
       "2020-10-01 19:56:00  12.49  12.50  12.49  12.50   10750    AAL\n",
       "2020-10-01 19:57:00  12.50  12.50  12.49  12.49   13350    AAL\n",
       "2020-10-01 19:58:00  12.49  12.50  12.47  12.47    3699    AAL\n",
       "2020-10-01 19:59:00  12.48  12.50  12.47  12.49    6690    AAL\n",
       "\n",
       "[761 rows x 6 columns]"
      ]
     },
     "execution_count": 200,
     "metadata": {},
     "output_type": "execute_result"
    }
   ],
   "source": [
    "AAL_path = \"/Volumes/T7/FRD-High-Market-Cap-Tickers/AAL_1min_csv/2020-10-01_AAL_1min.csv\"\n",
    "AAL_df = pd.read_csv(AAL_path)\n",
    "AAL_df['Datetime'] = pd.to_datetime(AAL_df['Datetime'])\n",
    "AAL_df = AAL_df.set_index('Datetime')\n",
    "\n",
    "AAL_df"
   ]
  },
  {
   "cell_type": "code",
   "execution_count": 201,
   "id": "f2e36cdc-ce14-452a-ac1e-6fb5b5ee0544",
   "metadata": {},
   "outputs": [
    {
     "name": "stderr",
     "output_type": "stream",
     "text": [
      "100%|█████████████████████████████████████| 3171/3171 [4:29:30<00:00,  5.10s/it]\n"
     ]
    }
   ],
   "source": [
    "# Source and target root directories\n",
    "csv_root = \"/Volumes/T7/FRD-High-Market-Cap-Tickers\"\n",
    "parquet_root = \"/Volumes/T7/Filtered-Cleaned-Parquet-ML\"\n",
    "\n",
    "# Ensuring the destination root folder exists\n",
    "os.makedirs(parquet_root, exist_ok=True)\n",
    "\n",
    "# Looping through all folders ending with _1min_csv\n",
    "for folder_name in tqdm(os.listdir(csv_root)):\n",
    "    if folder_name.endswith(\"_1min_csv\"):\n",
    "        ticker = folder_name.split('_')[0]\n",
    "        source_folder = os.path.join(csv_root, folder_name)\n",
    "        dest_folder = os.path.join(parquet_root, f\"{ticker}_1min_parquet\")\n",
    "        \n",
    "        # Creating destination folder\n",
    "        os.makedirs(dest_folder, exist_ok=True)\n",
    "        \n",
    "        # Looping through CSV files\n",
    "        for file_name in os.listdir(source_folder):\n",
    "            if file_name.endswith(\".csv\"):\n",
    "                csv_path = os.path.join(source_folder, file_name)\n",
    "                \n",
    "                # Reading CSV\n",
    "                try:\n",
    "                    df = pd.read_csv(csv_path)\n",
    "                    \n",
    "                    # Converting 'Datetime' column to datetime and setting as index\n",
    "                    df['Datetime'] = pd.to_datetime(df['Datetime'])\n",
    "                    df = df.set_index('Datetime')\n",
    "                    \n",
    "                    # Saving to Parquet\n",
    "                    parquet_file_name = file_name.replace(\".csv\", \".parquet\")\n",
    "                    parquet_path = os.path.join(dest_folder, parquet_file_name)\n",
    "                    df.to_parquet(parquet_path, index=True)\n",
    "                except Exception as e:\n",
    "                    print(f\"Error processing {csv_path}: {e}\")"
   ]
  },
  {
   "cell_type": "markdown",
   "id": "4b144343-0143-4747-975d-df52fa750a77",
   "metadata": {},
   "source": [
    "## 5. Filtering only for stocks that have continuous data for all trading day since our chosen start date\n",
    "With the list that we have, there may be some stocks that have disappeared for one reason or another, and there may be others that popped up only recently. In either case, we'll remove those stocks since they don't have data for our entire time period."
   ]
  },
  {
   "cell_type": "code",
   "execution_count": 212,
   "id": "07abd59b-968d-4735-be15-1075556477dc",
   "metadata": {},
   "outputs": [
    {
     "data": {
      "text/html": [
       "<div>\n",
       "<style scoped>\n",
       "    .dataframe tbody tr th:only-of-type {\n",
       "        vertical-align: middle;\n",
       "    }\n",
       "\n",
       "    .dataframe tbody tr th {\n",
       "        vertical-align: top;\n",
       "    }\n",
       "\n",
       "    .dataframe thead th {\n",
       "        text-align: right;\n",
       "    }\n",
       "</style>\n",
       "<table border=\"1\" class=\"dataframe\">\n",
       "  <thead>\n",
       "    <tr style=\"text-align: right;\">\n",
       "      <th></th>\n",
       "      <th>Open</th>\n",
       "      <th>High</th>\n",
       "      <th>Low</th>\n",
       "      <th>Close</th>\n",
       "      <th>Volume</th>\n",
       "      <th>Ticker</th>\n",
       "    </tr>\n",
       "    <tr>\n",
       "      <th>Datetime</th>\n",
       "      <th></th>\n",
       "      <th></th>\n",
       "      <th></th>\n",
       "      <th></th>\n",
       "      <th></th>\n",
       "      <th></th>\n",
       "    </tr>\n",
       "  </thead>\n",
       "  <tbody>\n",
       "    <tr>\n",
       "      <th>2023-06-09 19:05:00</th>\n",
       "      <td>325.00</td>\n",
       "      <td>330.00</td>\n",
       "      <td>325.00</td>\n",
       "      <td>330.00</td>\n",
       "      <td>716</td>\n",
       "      <td>BIIB</td>\n",
       "    </tr>\n",
       "    <tr>\n",
       "      <th>2023-06-09 19:14:00</th>\n",
       "      <td>334.00</td>\n",
       "      <td>334.00</td>\n",
       "      <td>334.00</td>\n",
       "      <td>334.00</td>\n",
       "      <td>100</td>\n",
       "      <td>BIIB</td>\n",
       "    </tr>\n",
       "    <tr>\n",
       "      <th>2023-06-09 19:22:00</th>\n",
       "      <td>334.58</td>\n",
       "      <td>334.58</td>\n",
       "      <td>334.58</td>\n",
       "      <td>334.58</td>\n",
       "      <td>130</td>\n",
       "      <td>BIIB</td>\n",
       "    </tr>\n",
       "    <tr>\n",
       "      <th>2023-06-09 19:25:00</th>\n",
       "      <td>330.00</td>\n",
       "      <td>330.00</td>\n",
       "      <td>330.00</td>\n",
       "      <td>330.00</td>\n",
       "      <td>100</td>\n",
       "      <td>BIIB</td>\n",
       "    </tr>\n",
       "    <tr>\n",
       "      <th>2023-06-09 19:31:00</th>\n",
       "      <td>332.80</td>\n",
       "      <td>332.80</td>\n",
       "      <td>332.80</td>\n",
       "      <td>332.80</td>\n",
       "      <td>100</td>\n",
       "      <td>BIIB</td>\n",
       "    </tr>\n",
       "    <tr>\n",
       "      <th>2023-06-09 19:42:00</th>\n",
       "      <td>330.00</td>\n",
       "      <td>330.00</td>\n",
       "      <td>330.00</td>\n",
       "      <td>330.00</td>\n",
       "      <td>100</td>\n",
       "      <td>BIIB</td>\n",
       "    </tr>\n",
       "    <tr>\n",
       "      <th>2023-06-09 19:46:00</th>\n",
       "      <td>329.00</td>\n",
       "      <td>329.00</td>\n",
       "      <td>329.00</td>\n",
       "      <td>329.00</td>\n",
       "      <td>500</td>\n",
       "      <td>BIIB</td>\n",
       "    </tr>\n",
       "    <tr>\n",
       "      <th>2023-06-09 19:49:00</th>\n",
       "      <td>328.94</td>\n",
       "      <td>329.00</td>\n",
       "      <td>328.94</td>\n",
       "      <td>329.00</td>\n",
       "      <td>296</td>\n",
       "      <td>BIIB</td>\n",
       "    </tr>\n",
       "    <tr>\n",
       "      <th>2023-06-09 19:50:00</th>\n",
       "      <td>329.00</td>\n",
       "      <td>329.00</td>\n",
       "      <td>329.00</td>\n",
       "      <td>329.00</td>\n",
       "      <td>600</td>\n",
       "      <td>BIIB</td>\n",
       "    </tr>\n",
       "    <tr>\n",
       "      <th>2023-06-09 19:51:00</th>\n",
       "      <td>328.99</td>\n",
       "      <td>329.00</td>\n",
       "      <td>328.99</td>\n",
       "      <td>329.00</td>\n",
       "      <td>500</td>\n",
       "      <td>BIIB</td>\n",
       "    </tr>\n",
       "    <tr>\n",
       "      <th>2023-06-09 19:53:00</th>\n",
       "      <td>328.80</td>\n",
       "      <td>328.80</td>\n",
       "      <td>328.80</td>\n",
       "      <td>328.80</td>\n",
       "      <td>100</td>\n",
       "      <td>BIIB</td>\n",
       "    </tr>\n",
       "    <tr>\n",
       "      <th>2023-06-09 19:58:00</th>\n",
       "      <td>328.00</td>\n",
       "      <td>328.00</td>\n",
       "      <td>328.00</td>\n",
       "      <td>328.00</td>\n",
       "      <td>100</td>\n",
       "      <td>BIIB</td>\n",
       "    </tr>\n",
       "  </tbody>\n",
       "</table>\n",
       "</div>"
      ],
      "text/plain": [
       "                       Open    High     Low   Close  Volume Ticker\n",
       "Datetime                                                          \n",
       "2023-06-09 19:05:00  325.00  330.00  325.00  330.00     716   BIIB\n",
       "2023-06-09 19:14:00  334.00  334.00  334.00  334.00     100   BIIB\n",
       "2023-06-09 19:22:00  334.58  334.58  334.58  334.58     130   BIIB\n",
       "2023-06-09 19:25:00  330.00  330.00  330.00  330.00     100   BIIB\n",
       "2023-06-09 19:31:00  332.80  332.80  332.80  332.80     100   BIIB\n",
       "2023-06-09 19:42:00  330.00  330.00  330.00  330.00     100   BIIB\n",
       "2023-06-09 19:46:00  329.00  329.00  329.00  329.00     500   BIIB\n",
       "2023-06-09 19:49:00  328.94  329.00  328.94  329.00     296   BIIB\n",
       "2023-06-09 19:50:00  329.00  329.00  329.00  329.00     600   BIIB\n",
       "2023-06-09 19:51:00  328.99  329.00  328.99  329.00     500   BIIB\n",
       "2023-06-09 19:53:00  328.80  328.80  328.80  328.80     100   BIIB\n",
       "2023-06-09 19:58:00  328.00  328.00  328.00  328.00     100   BIIB"
      ]
     },
     "execution_count": 212,
     "metadata": {},
     "output_type": "execute_result"
    }
   ],
   "source": [
    "# Analyzing BIIB on 6/9/23 because we know from previous experiments that it's missing data:\n",
    "BIIB_parquet_root = \"/Volumes/T7/Filtered-Cleaned-Parquet-ML/BIIB_1min_parquet/2023-06-09_BIIB_1min.parquet\"\n",
    "pd.read_parquet(BIIB_parquet_root)"
   ]
  },
  {
   "cell_type": "markdown",
   "id": "cb796e48-57ec-4dcf-8203-b8436304e88e",
   "metadata": {},
   "source": [
    "In actuality, we see that no trading occurred for BIIB during RTH, but there appears to have been some trading during the extended hours. While I personally still want to remove this stock as I do not believe it will add much value, there's something to be said about including BIIB in our data and having our model learn from this particular day (0 volume). Also, there may be other stocks that have this problem, and unless we want to filter all those stocks out as well (which might dramatically reduce our data size), we might as well just keep this day in our data and backfill the other candlesticks, but just keeping the volume at 0."
   ]
  },
  {
   "cell_type": "code",
   "execution_count": 214,
   "id": "763602ab-444e-4aef-9d6c-5f09890e2310",
   "metadata": {},
   "outputs": [
    {
     "name": "stderr",
     "output_type": "stream",
     "text": [
      "100%|██████████████████████████████████████| 3171/3171 [00:28<00:00, 110.59it/s]\n"
     ]
    }
   ],
   "source": [
    "# Checking how many days of data there are in total\n",
    "parquet_root = \"/Volumes/T7/Filtered-Cleaned-Parquet-ML\"\n",
    "days_of_data = {}\n",
    "\n",
    "for folder_name in tqdm(os.listdir(parquet_root)):\n",
    "    folder_path = os.path.join(parquet_root, folder_name)\n",
    "    ticker_name = folder_name.split('_')[0]\n",
    "    days_of_data[ticker_name] = len(os.listdir(folder_path))"
   ]
  },
  {
   "cell_type": "code",
   "execution_count": 220,
   "id": "e6428f9e-f704-497f-aef7-a7d3f8cb4f02",
   "metadata": {},
   "outputs": [
    {
     "data": {
      "text/plain": [
       "1055"
      ]
     },
     "execution_count": 220,
     "metadata": {},
     "output_type": "execute_result"
    }
   ],
   "source": [
    "# Finding the max number of days in the data\n",
    "num_days_total = max(days_of_data.values())\n",
    "\n",
    "num_days_total"
   ]
  },
  {
   "cell_type": "code",
   "execution_count": 249,
   "id": "50ea44f5-29ff-4712-98a9-15994ffe4d7c",
   "metadata": {},
   "outputs": [
    {
     "name": "stdout",
     "output_type": "stream",
     "text": [
      "SARO 25\n",
      "SNRE 26\n",
      "ZJK 27\n",
      "AMTM 27\n",
      "CURB 29\n",
      "ECG 31\n",
      "KLC 44\n",
      "SOBO 45\n",
      "CON 97\n",
      "LTM 97\n",
      "LINE 97\n",
      "OS 98\n",
      "ARDT 102\n",
      "TLN 108\n",
      "SDST 109\n",
      "LB 115\n",
      "WBTN 116\n",
      "TEM 124\n",
      "SILA 125\n",
      "GRAL 126\n",
      "WAY 129\n",
      "LIF 130\n",
      "OKLO 148\n",
      "ZK 148\n",
      "SVCO 149\n",
      "NNE 150\n",
      "VIK 155\n",
      "RBRK 159\n",
      "LOAR 159\n",
      "MRX 159\n",
      "SERV 164\n",
      "IBTA 164\n",
      "CTRI 164\n",
      "ULS 168\n",
      "PACS 169\n",
      "GEV 179\n",
      "SOLV 180\n",
      "DJTWW 180\n",
      "DXYZ 180\n",
      "RDDT 183\n",
      "ALAB 184\n",
      "SOC 207\n",
      "UMAC 208\n",
      "TBBB 211\n",
      "KYTX 212\n",
      "AHR 213\n",
      "ANRO 216\n",
      "AS 217\n",
      "FLUT 220\n",
      "AVBP 221\n",
      "BTSG 221\n",
      "CGON 222\n",
      "KSPI 226\n",
      "LLYVK 238\n",
      "AISP 243\n",
      "DEC 246\n",
      "WS 259\n",
      "HG 272\n",
      "CRGX 272\n",
      "NLOP 276\n",
      "LXEO 277\n",
      "ATGL 278\n",
      "AIRE 286\n",
      "NATL 294\n",
      "BIRK 294\n",
      "KLG 304\n",
      "VLTO 304\n",
      "VSTS 304\n",
      "KVYO 309\n",
      "CART 310\n",
      "NMRA 312\n",
      "ARM 313\n",
      "TKO 315\n",
      "VFS 334\n",
      "DBD 335\n",
      "FTEL 339\n",
      "SN 345\n",
      "ODD 353\n",
      "APGE 356\n",
      "SGMT 356\n",
      "SVV 366\n",
      "KGS 366\n",
      "FIHL 366\n",
      "PHIN 367\n",
      "FTRE 372\n",
      "CAVA 375\n",
      "INDV 378\n",
      "NPWR 379\n",
      "KNF 385\n",
      "ATMU 388\n",
      "SLRN 403\n",
      "KVUE 404\n",
      "MSGE 413\n",
      "BTDR 418\n",
      "PKST 418\n",
      "CHSN 418\n",
      "CXT 425\n",
      "ZURA 435\n",
      "AESI 443\n",
      "BMR 450\n",
      "LUNR 459\n",
      "HSAI 462\n",
      "NXT 462\n",
      "GPCR 466\n",
      "GNLX 472\n",
      "VTS 479\n",
      "SKWD 480\n",
      "ATLX 483\n",
      "GEHC 499\n",
      "MBC 503\n",
      "FG 509\n",
      "DRS 511\n",
      "NAMS 514\n",
      "ACRV 520\n",
      "NWTN 521\n",
      "ATAT 522\n",
      "RXO 533\n",
      "MBLY 534\n",
      "PRME 538\n",
      "LASE 552\n",
      "SDRL 563\n",
      "CRBG 563\n",
      "AMPX 563\n",
      "TFPM 574\n",
      "GCT 582\n",
      "PSQH 585\n",
      "GETY 600\n",
      "HKD 606\n",
      "IE 618\n",
      "EHAB 620\n",
      "PGY 621\n",
      "ALVO 625\n",
      "TOP 626\n",
      "WDS 635\n",
      "ACDC 648\n",
      "CORZ 649\n",
      "PEPG 653\n",
      "BLCO 653\n",
      "SMR 656\n",
      "BLTE 658\n",
      "SOUN 659\n",
      "FATBB 659\n",
      "VEEA 663\n",
      "EE 669\n",
      "ESAB 675\n",
      "WBD 676\n",
      "EMBC 677\n",
      "MLTX 679\n",
      "SATX 684\n",
      "DRTS 695\n",
      "SDA 697\n",
      "CEG 698\n",
      "ZIMV 701\n",
      "RGC 703\n",
      "ACLX 716\n",
      "OBE 720\n",
      "CRDO 722\n",
      "SKYH 723\n",
      "MTAL 730\n",
      "TPG 731\n",
      "AMLX 734\n",
      "DAVE 736\n",
      "ZGN 748\n",
      "ACT 749\n",
      "BRCC 750\n",
      "IOT 751\n",
      "HCP 755\n",
      "BBAI 756\n",
      "CRGY 756\n",
      "TSAT 768\n",
      "SG 769\n",
      "IREN 770\n",
      "BRZE 770\n",
      "WEAV 774\n",
      "BLZE 774\n",
      "EXFY 775\n",
      "RIVN 775\n",
      "HTZ 776\n",
      "PRM 776\n",
      "DRUG 776\n",
      "ONL 777\n",
      "TSVT 778\n",
      "ARHS 779\n",
      "CDRE 779\n",
      "NRDS 779\n",
      "CMTG 780\n",
      "BIRD 780\n",
      "CIVI 781\n",
      "UDMY 783\n",
      "NN 783\n",
      "FLNC 784\n",
      "GFS 784\n",
      "BXSL 784\n",
      "DTC 784\n",
      "INFA 785\n",
      "KD 788\n",
      "ARIS 788\n",
      "VTYX 789\n",
      "ENFN 789\n",
      "COCO 789\n",
      "PTLO 789\n",
      "NVTS 790\n",
      "SDIG 790\n",
      "ASTL 790\n",
      "SEAT 791\n",
      "FBRT 791\n",
      "BKKT 792\n",
      "FNA 793\n",
      "GTLB 794\n",
      "AVDX 795\n",
      "IVT 796\n",
      "ARBE 798\n",
      "LTH 799\n",
      "FWRG 803\n",
      "SLVM 803\n",
      "ROIV 803\n",
      "DJT 804\n",
      "CCSI 804\n",
      "OLPX 804\n",
      "WRBY 805\n",
      "ECAT 806\n",
      "AMPL 806\n",
      "CWAN 808\n",
      "RELY 809\n",
      "TOST 810\n",
      "FRSH 810\n",
      "ERO 814\n",
      "DH 815\n",
      "BROS 815\n",
      "ONON 815\n",
      "PRCT 815\n",
      "TYRA 815\n",
      "SRAD 816\n",
      "SGML 817\n",
      "BETR 818\n",
      "ARQQ 821\n",
      "RDW 822\n",
      "JXN 824\n",
      "CLBT 825\n",
      "SMRT 829\n",
      "RNW 830\n",
      "JOBY 839\n",
      "EWCZ 843\n",
      "CYBN 843\n",
      "CCCS 846\n",
      "MXCT 847\n",
      "DOLE 847\n",
      "RXST 847\n",
      "HOOD 848\n",
      "NUVL 848\n",
      "COOK 848\n",
      "RSKD 848\n",
      "MLNK 849\n",
      "DUOL 849\n",
      "CADL 850\n",
      "OB 852\n",
      "GAMB 852\n",
      "XPOF 852\n",
      "CNM 852\n",
      "CRBU 852\n",
      "GXO 852\n",
      "CTKB 852\n",
      "RYAN 853\n",
      "PYCR 854\n",
      "VSCO 854\n",
      "LAW 854\n",
      "KLTR 854\n",
      "VTEX 854\n",
      "AUID 855\n",
      "NABL 855\n",
      "STVN 857\n",
      "ERAS 857\n",
      "BRDG 857\n",
      "BLND 857\n",
      "PECO 858\n",
      "SHCO 858\n",
      "SLI 860\n",
      "PROK 864\n",
      "DNUT 867\n",
      "HEPS 867\n",
      "CURV 867\n",
      "EVCM 867\n",
      "IAS 868\n",
      "LZ 868\n",
      "CVRX 868\n",
      "S 868\n",
      "INTA 868\n",
      "XMTR 868\n",
      "YOU 868\n",
      "LPA 870\n",
      "LENZ 871\n",
      "MCW 871\n",
      "NEUE 872\n",
      "CFLT 872\n",
      "GLUE 872\n",
      "DOCS 872\n",
      "FA 873\n",
      "RUM 873\n",
      "CXM 873\n",
      "YMM 874\n",
      "ATAI 876\n",
      "DTM 876\n",
      "ME 877\n",
      "LYEL 877\n",
      "VERV 877\n",
      "HUT 879\n",
      "JANX 881\n",
      "INDI 881\n",
      "BZ 881\n",
      "TASK 881\n",
      "HGTY 882\n",
      "LFST 882\n",
      "MNDY 882\n",
      "MQ 883\n",
      "NE 883\n",
      "DLO 887\n",
      "SCLX 888\n",
      "WFRD 888\n",
      "CNTA 890\n",
      "FIGS 891\n",
      "KIND 891\n",
      "DAWN 891\n",
      "NBXG 892\n",
      "FLYW 892\n",
      "ZIP 892\n",
      "PAY 892\n",
      "SLDP 893\n",
      "PCOR 896\n",
      "VMEO 896\n",
      "OTLY 896\n",
      "PFX 899\n",
      "OGN 900\n",
      "VERA 900\n",
      "SMWB 902\n",
      "GLBE 902\n",
      "AUR 904\n",
      "TRML 905\n",
      "HNST 907\n",
      "BYRN 907\n",
      "FYBR 908\n",
      "VAL 909\n",
      "AVAH 911\n",
      "PRVA 911\n",
      "EDR 911\n",
      "FTCI 912\n",
      "PL 912\n",
      "MNMD 913\n",
      "SWIM 915\n",
      "TMCI 915\n",
      "DV 917\n",
      "PATH 917\n",
      "SKYT 917\n",
      "DNA 919\n",
      "WBX 919\n",
      "RXRX 920\n",
      "BMEA 920\n",
      "APP 921\n",
      "AGL 921\n",
      "COIN 922\n",
      "ALKT 922\n",
      "INVZ 928\n",
      "NRGV 928\n",
      "ULCC 930\n",
      "COMP 930\n",
      "COUR 931\n",
      "HPH 931\n",
      "DSGN 934\n",
      "BIGZ 934\n",
      "TDUP 934\n",
      "ALHC 934\n",
      "EWTX 934\n",
      "ZH 934\n",
      "SEMR 935\n",
      "CRCT 935\n",
      "ACVA 936\n",
      "DOCN 936\n",
      "TIL 939\n",
      "PCT 940\n",
      "TUYA 940\n",
      "OLO 941\n",
      "EXE 941\n",
      "SNCY 941\n",
      "SYM 944\n",
      "HAYW 944\n",
      "CPNG 945\n",
      "DCGO 946\n",
      "RBLX 946\n",
      "CSAN 948\n",
      "FERG 948\n",
      "INNV 950\n",
      "OSCR 951\n",
      "SES 952\n",
      "ISPO 954\n",
      "PHVS 955\n",
      "LFMD 958\n",
      "PPTA 960\n",
      "RKLB 962\n",
      "LDI 964\n",
      "BMBL 964\n",
      "BVS 964\n",
      "DSP 965\n",
      "TERN 968\n",
      "IMCR 968\n",
      "SANA 969\n",
      "GWH 969\n",
      "AMPS 970\n",
      "ONTF 970\n",
      "TIXT 970\n",
      "MTTR 971\n",
      "FRGE 971\n",
      "CAMP 971\n",
      "CGNT 971\n",
      "WFG 972\n",
      "TRIN 973\n",
      "AGFY 974\n",
      "ZIM 974\n",
      "SHLS 975\n",
      "AMBI 975\n",
      "GRND 977\n",
      "RLX 978\n",
      "PAX 978\n",
      "MNTK 978\n",
      "DFH 979\n",
      "MYTE 979\n",
      "DRVN 982\n",
      "PLTK 982\n",
      "WOOF 983\n",
      "AFRM 984\n",
      "HUMA 984\n",
      "HIPO 985\n",
      "ENVX 985\n",
      "JSPR 986\n",
      "CLOV 987\n",
      "ZVRA 987\n",
      "CGEM 987\n",
      "FSK 990\n",
      "HASI 990\n",
      "RHP 990\n",
      "CWH 990\n",
      "ADCT 990\n",
      "EAF 990\n",
      "GBDC 990\n",
      "APG 990\n",
      "ALT 990\n",
      "IONQ 991\n",
      "QRTEB 994\n",
      "CMPO 995\n",
      "CIFR 997\n",
      "MYPS 999\n",
      "MASS 1000\n",
      "ACHR 1000\n",
      "BARK 1000\n",
      "UPST 1002\n",
      "LOGC 1002\n",
      "OWL 1004\n",
      "CERT 1005\n",
      "OPAD 1005\n",
      "ABCL 1005\n",
      "FDMT 1005\n",
      "ABNB 1006\n",
      "AI 1007\n",
      "PUBM 1007\n",
      "DASH 1007\n",
      "TNGX 1008\n",
      "HLMN 1010\n",
      "ONDS 1010\n",
      "SEER 1010\n",
      "SPRY 1010\n",
      "SOFI 1012\n",
      "NRDY 1013\n",
      "QSI 1013\n",
      "CNXC 1014\n",
      "HLLY 1015\n",
      "APLD 1015\n",
      "SKIN 1016\n",
      "PWP 1017\n",
      "CHRD 1019\n",
      "EVGO 1019\n",
      "SHC 1019\n",
      "MRVI 1019\n",
      "TLS 1020\n",
      "OLMA 1020\n",
      "YSG 1020\n",
      "AIRT 1021\n",
      "WGS 1023\n",
      "VTRS 1025\n",
      "BEDU 1030\n",
      "EVTL 1030\n",
      "BWIN 1031\n",
      "SHO 1031\n",
      "CSQ 1031\n",
      "CNO 1031\n",
      "SPIR 1031\n",
      "CNH 1031\n",
      "PSEC 1031\n",
      "ROOT 1033\n",
      "GATO 1033\n",
      "FHTX 1033\n",
      "AVIR 1033\n",
      "MAX 1033\n",
      "CRC 1033\n",
      "LESL 1033\n",
      "ALGM 1033\n",
      "LU 1033\n",
      "SNDA 1037\n",
      "CSBR 1037\n",
      "NESR 1037\n",
      "ARL 1039\n",
      "OUST 1042\n",
      "MESO 1043\n",
      "IH 1043\n",
      "ALGS 1044\n",
      "PRAX 1044\n",
      "TARS 1044\n",
      "MDIA 1045\n",
      "BNR 1045\n",
      "ARRY 1045\n",
      "BLDE 1045\n",
      "MNSO 1045\n",
      "EBC 1045\n",
      "VIRC 1048\n",
      "KRON 1049\n",
      "VSTA 1049\n",
      "AXR 1049\n",
      "RCAT 1049\n",
      "PSFE 1049\n",
      "MKFG 1049\n",
      "GB 1050\n",
      "STEM 1050\n",
      "FUBO 1050\n",
      "ASTS 1050\n",
      "FREY 1051\n",
      "AMBP 1051\n",
      "GSK 1052\n",
      "NAUT 1052\n",
      "EH 1052\n",
      "WULF 1052\n",
      "GENI 1052\n",
      "ACNT 1052\n",
      "SIEB 1053\n",
      "SST 1053\n",
      "NUVB 1053\n",
      "INBX 1053\n",
      "KOSS 1053\n",
      "NWG 1053\n",
      "IMNM 1053\n",
      "PLL 1053\n",
      "PMTS 1053\n",
      "CELC 1054\n",
      "ICLK 1054\n",
      "QXO 1054\n",
      "HYLN 1054\n",
      "BMTX 1054\n",
      "TMDX 1054\n",
      "BFLY 1054\n",
      "XBIT 1054\n",
      "CCCC 1054\n",
      "ACAD 1054\n",
      "IPWR 1054\n",
      "ALTS 1054\n",
      "ELDN 1054\n",
      "IRON 1054\n",
      "MNPR 1054\n",
      "BKSY 1054\n",
      "ASO 1054\n",
      "VIV 1054\n",
      "CLSK 1054\n",
      "LXRX 1054\n",
      "OCFT 1054\n",
      "KINS 1054\n",
      "BAM 1054\n",
      "XYF 1054\n"
     ]
    }
   ],
   "source": [
    "# Getting the tickers that have fewer than 1055 days\n",
    "missing_days_data = pd.Series(days_of_data)\n",
    "missing_days_data = missing_days_data[missing_days_data < num_days_total]\n",
    "missing_days_data = missing_days_data.sort_values().sort_values()\n",
    "\n",
    "for ticker, num in zip(missing_days_data.index, missing_days_data):\n",
    "    print(ticker, num)"
   ]
  },
  {
   "cell_type": "markdown",
   "id": "b97df347-cb81-4e8b-ae88-c3ccf3fcb1f4",
   "metadata": {},
   "source": [
    "After scanning through every single ticker, there does not seem to be any noticeable ones that we're missing. Some tickers, like ARM, SERV, or OKLO, may be popular now, but they are too new to be included in the full list. Others, like RDDT, CAVA, CART, BIRD, HOOD, DNUT, WOOF, or AMLX, might have been around for awhile, but only went public recently, so we don't have all the data for those tickers either. There are, however, definitely a few notable stocks in this list that have both been around for and publicly traded for longer than the cutoff date (e.g., ATAT, CLSK), but I'll assume that something happened with those stocks between October 1, 2020 and the end date, and I'll leave them out of the final dataset."
   ]
  },
  {
   "cell_type": "code",
   "execution_count": 253,
   "id": "df645eb1-4f09-43fd-bc7b-82611b7d0b82",
   "metadata": {},
   "outputs": [
    {
     "name": "stderr",
     "output_type": "stream",
     "text": [
      "  0%|                                          | 1/3171 [00:00<08:32,  6.19it/s]"
     ]
    },
    {
     "name": "stdout",
     "output_type": "stream",
     "text": [
      "Deleting ATGL_1min_parquet — only 278 files found.\n",
      "Deleting ATLX_1min_parquet — only 483 files found.\n"
     ]
    },
    {
     "name": "stderr",
     "output_type": "stream",
     "text": [
      "  0%|                                          | 3/3171 [00:00<08:14,  6.41it/s]"
     ]
    },
    {
     "name": "stdout",
     "output_type": "stream",
     "text": [
      "Deleting AS_1min_parquet — only 217 files found.\n",
      "Deleting ATAT_1min_parquet — only 522 files found.\n"
     ]
    },
    {
     "name": "stderr",
     "output_type": "stream",
     "text": [
      "  0%|                                          | 4/3171 [00:00<10:04,  5.24it/s]"
     ]
    },
    {
     "name": "stdout",
     "output_type": "stream",
     "text": [
      "Deleting ATAI_1min_parquet — only 876 files found.\n"
     ]
    },
    {
     "name": "stderr",
     "output_type": "stream",
     "text": [
      "  0%|                                          | 7/3171 [00:01<08:51,  5.95it/s]"
     ]
    },
    {
     "name": "stdout",
     "output_type": "stream",
     "text": [
      "Deleting ASTS_1min_parquet — only 1050 files found.\n"
     ]
    },
    {
     "name": "stderr",
     "output_type": "stream",
     "text": [
      "  0%|                                          | 9/3171 [00:01<10:44,  4.91it/s]"
     ]
    },
    {
     "name": "stdout",
     "output_type": "stream",
     "text": [
      "Deleting ASTL_1min_parquet — only 790 files found.\n"
     ]
    },
    {
     "name": "stderr",
     "output_type": "stream",
     "text": [
      "  0%|▏                                        | 11/3171 [00:02<10:25,  5.05it/s]"
     ]
    },
    {
     "name": "stdout",
     "output_type": "stream",
     "text": [
      "Deleting ASO_1min_parquet — only 1054 files found.\n"
     ]
    },
    {
     "name": "stderr",
     "output_type": "stream",
     "text": [
      "  1%|▎                                        | 27/3171 [00:02<03:17, 15.96it/s]"
     ]
    },
    {
     "name": "stdout",
     "output_type": "stream",
     "text": [
      "Deleting ARRY_1min_parquet — only 1045 files found.\n",
      "Deleting ARQQ_1min_parquet — only 821 files found.\n"
     ]
    },
    {
     "name": "stderr",
     "output_type": "stream",
     "text": [
      "  1%|▍                                        | 31/3171 [00:03<05:41,  9.19it/s]"
     ]
    },
    {
     "name": "stdout",
     "output_type": "stream",
     "text": [
      "Deleting ARL_1min_parquet — only 1039 files found.\n"
     ]
    },
    {
     "name": "stderr",
     "output_type": "stream",
     "text": [
      "  1%|▌                                        | 39/3171 [00:04<04:50, 10.77it/s]"
     ]
    },
    {
     "name": "stdout",
     "output_type": "stream",
     "text": [
      "Deleting ARM_1min_parquet — only 313 files found.\n",
      "Deleting ARIS_1min_parquet — only 788 files found.\n",
      "Deleting ARDT_1min_parquet — only 102 files found.\n",
      "Deleting ARHS_1min_parquet — only 779 files found.\n"
     ]
    },
    {
     "name": "stderr",
     "output_type": "stream",
     "text": [
      "  1%|▌                                        | 42/3171 [00:05<07:02,  7.40it/s]"
     ]
    },
    {
     "name": "stdout",
     "output_type": "stream",
     "text": [
      "Deleting ARBE_1min_parquet — only 798 files found.\n"
     ]
    },
    {
     "name": "stderr",
     "output_type": "stream",
     "text": [
      "  1%|▌                                        | 44/3171 [00:05<07:34,  6.89it/s]"
     ]
    },
    {
     "name": "stdout",
     "output_type": "stream",
     "text": [
      "Deleting AMTM_1min_parquet — only 27 files found.\n",
      "Deleting AMBI_1min_parquet — only 975 files found.\n"
     ]
    },
    {
     "name": "stderr",
     "output_type": "stream",
     "text": [
      "  2%|▋                                        | 54/3171 [00:06<05:05, 10.22it/s]"
     ]
    },
    {
     "name": "stdout",
     "output_type": "stream",
     "text": [
      "Deleting ALVO_1min_parquet — only 625 files found.\n",
      "Deleting ACT_1min_parquet — only 749 files found.\n"
     ]
    },
    {
     "name": "stderr",
     "output_type": "stream",
     "text": [
      "  2%|▋                                        | 56/3171 [00:06<06:41,  7.77it/s]"
     ]
    },
    {
     "name": "stdout",
     "output_type": "stream",
     "text": [
      "Deleting ACDC_1min_parquet — only 648 files found.\n"
     ]
    },
    {
     "name": "stderr",
     "output_type": "stream",
     "text": [
      "  2%|▋                                        | 58/3171 [00:07<06:54,  7.52it/s]"
     ]
    },
    {
     "name": "stdout",
     "output_type": "stream",
     "text": [
      "Deleting CMPO_1min_parquet — only 995 files found.\n"
     ]
    },
    {
     "name": "stderr",
     "output_type": "stream",
     "text": [
      "  2%|▊                                        | 60/3171 [00:07<08:04,  6.42it/s]"
     ]
    },
    {
     "name": "stdout",
     "output_type": "stream",
     "text": [
      "Deleting CIFR_1min_parquet — only 997 files found.\n"
     ]
    },
    {
     "name": "stderr",
     "output_type": "stream",
     "text": [
      "  2%|▊                                        | 61/3171 [00:08<10:18,  5.03it/s]"
     ]
    },
    {
     "name": "stdout",
     "output_type": "stream",
     "text": [
      "Deleting BYRN_1min_parquet — only 907 files found.\n"
     ]
    },
    {
     "name": "stderr",
     "output_type": "stream",
     "text": [
      "  2%|▊                                        | 64/3171 [00:08<09:37,  5.38it/s]"
     ]
    },
    {
     "name": "stdout",
     "output_type": "stream",
     "text": [
      "Deleting BZ_1min_parquet — only 881 files found.\n"
     ]
    },
    {
     "name": "stderr",
     "output_type": "stream",
     "text": [
      "  2%|▊                                        | 67/3171 [00:09<08:59,  5.75it/s]"
     ]
    },
    {
     "name": "stdout",
     "output_type": "stream",
     "text": [
      "Deleting EBC_1min_parquet — only 1045 files found.\n"
     ]
    },
    {
     "name": "stderr",
     "output_type": "stream",
     "text": [
      "  2%|▉                                        | 70/3171 [00:09<09:09,  5.64it/s]"
     ]
    },
    {
     "name": "stdout",
     "output_type": "stream",
     "text": [
      "Deleting EAF_1min_parquet — only 990 files found.\n"
     ]
    },
    {
     "name": "stderr",
     "output_type": "stream",
     "text": [
      "  3%|█▏                                       | 95/3171 [00:10<02:07, 24.12it/s]"
     ]
    },
    {
     "name": "stdout",
     "output_type": "stream",
     "text": [
      "Deleting APGE_1min_parquet — only 356 files found.\n",
      "Deleting APLD_1min_parquet — only 1015 files found.\n"
     ]
    },
    {
     "name": "stderr",
     "output_type": "stream",
     "text": [
      "  3%|█▎                                      | 101/3171 [00:11<03:04, 16.67it/s]"
     ]
    },
    {
     "name": "stdout",
     "output_type": "stream",
     "text": [
      "Deleting APP_1min_parquet — only 921 files found.\n"
     ]
    },
    {
     "name": "stderr",
     "output_type": "stream",
     "text": [
      "  3%|█▍                                      | 110/3171 [00:11<03:01, 16.90it/s]"
     ]
    },
    {
     "name": "stdout",
     "output_type": "stream",
     "text": [
      "Deleting ANRO_1min_parquet — only 216 files found.\n",
      "Deleting APG_1min_parquet — only 990 files found.\n"
     ]
    },
    {
     "name": "stderr",
     "output_type": "stream",
     "text": [
      "  4%|█▍                                      | 114/3171 [00:12<03:34, 14.28it/s]"
     ]
    },
    {
     "name": "stdout",
     "output_type": "stream",
     "text": [
      "Deleting AMPX_1min_parquet — only 563 files found.\n"
     ]
    },
    {
     "name": "stderr",
     "output_type": "stream",
     "text": [
      "  4%|█▌                                      | 128/3171 [00:12<02:51, 17.77it/s]"
     ]
    },
    {
     "name": "stdout",
     "output_type": "stream",
     "text": [
      "Deleting AESI_1min_parquet — only 443 files found.\n",
      "Deleting ACRV_1min_parquet — only 520 files found.\n",
      "Deleting ADCT_1min_parquet — only 990 files found.\n"
     ]
    },
    {
     "name": "stderr",
     "output_type": "stream",
     "text": [
      "  5%|█▊                                      | 143/3171 [00:13<02:29, 20.22it/s]"
     ]
    },
    {
     "name": "stdout",
     "output_type": "stream",
     "text": [
      "Deleting ALHC_1min_parquet — only 934 files found.\n"
     ]
    },
    {
     "name": "stderr",
     "output_type": "stream",
     "text": [
      "  5%|█▊                                      | 148/3171 [00:14<03:05, 16.26it/s]"
     ]
    },
    {
     "name": "stdout",
     "output_type": "stream",
     "text": [
      "Deleting ALGM_1min_parquet — only 1033 files found.\n"
     ]
    },
    {
     "name": "stderr",
     "output_type": "stream",
     "text": [
      "  5%|█▉                                      | 156/3171 [00:14<03:34, 14.08it/s]"
     ]
    },
    {
     "name": "stdout",
     "output_type": "stream",
     "text": [
      "Deleting AISP_1min_parquet — only 243 files found.\n",
      "Deleting AI_1min_parquet — only 1007 files found.\n"
     ]
    },
    {
     "name": "stderr",
     "output_type": "stream",
     "text": [
      "  5%|██                                      | 159/3171 [00:15<04:37, 10.85it/s]"
     ]
    },
    {
     "name": "stdout",
     "output_type": "stream",
     "text": [
      "Deleting AIRT_1min_parquet — only 1021 files found.\n"
     ]
    },
    {
     "name": "stderr",
     "output_type": "stream",
     "text": [
      "  5%|██                                      | 162/3171 [00:16<05:54,  8.48it/s]"
     ]
    },
    {
     "name": "stdout",
     "output_type": "stream",
     "text": [
      "Deleting AIRE_1min_parquet — only 286 files found.\n",
      "Deleting AMLX_1min_parquet — only 734 files found.\n"
     ]
    },
    {
     "name": "stderr",
     "output_type": "stream",
     "text": [
      "  5%|██▏                                     | 171/3171 [00:16<04:16, 11.69it/s]"
     ]
    },
    {
     "name": "stdout",
     "output_type": "stream",
     "text": [
      "Deleting AMPL_1min_parquet — only 806 files found.\n",
      "Deleting AMPS_1min_parquet — only 970 files found.\n"
     ]
    },
    {
     "name": "stderr",
     "output_type": "stream",
     "text": [
      "  6%|██▎                                     | 185/3171 [00:17<03:18, 15.02it/s]"
     ]
    },
    {
     "name": "stdout",
     "output_type": "stream",
     "text": [
      "Deleting AMBP_1min_parquet — only 1051 files found.\n"
     ]
    },
    {
     "name": "stderr",
     "output_type": "stream",
     "text": [
      "  6%|██▍                                     | 190/3171 [00:18<03:51, 12.87it/s]"
     ]
    },
    {
     "name": "stdout",
     "output_type": "stream",
     "text": [
      "Deleting ALTS_1min_parquet — only 1054 files found.\n"
     ]
    },
    {
     "name": "stderr",
     "output_type": "stream",
     "text": [
      "  6%|██▍                                     | 194/3171 [00:18<04:33, 10.90it/s]"
     ]
    },
    {
     "name": "stdout",
     "output_type": "stream",
     "text": [
      "Deleting ALT_1min_parquet — only 990 files found.\n"
     ]
    },
    {
     "name": "stderr",
     "output_type": "stream",
     "text": [
      "  6%|██▍                                     | 197/3171 [00:19<05:08,  9.63it/s]"
     ]
    },
    {
     "name": "stdout",
     "output_type": "stream",
     "text": [
      "Deleting ALKT_1min_parquet — only 922 files found.\n"
     ]
    },
    {
     "name": "stderr",
     "output_type": "stream",
     "text": [
      "  6%|██▌                                     | 203/3171 [00:19<04:43, 10.47it/s]"
     ]
    },
    {
     "name": "stdout",
     "output_type": "stream",
     "text": [
      "Deleting ALGS_1min_parquet — only 1044 files found.\n"
     ]
    },
    {
     "name": "stderr",
     "output_type": "stream",
     "text": [
      "  6%|██▌                                     | 205/3171 [00:20<06:30,  7.60it/s]"
     ]
    },
    {
     "name": "stdout",
     "output_type": "stream",
     "text": [
      "Deleting ALAB_1min_parquet — only 184 files found.\n",
      "Deleting AHR_1min_parquet — only 213 files found.\n"
     ]
    },
    {
     "name": "stderr",
     "output_type": "stream",
     "text": [
      "  7%|██▌                                     | 207/3171 [00:20<05:53,  8.39it/s]"
     ]
    },
    {
     "name": "stdout",
     "output_type": "stream",
     "text": [
      "Deleting ACLX_1min_parquet — only 716 files found.\n"
     ]
    },
    {
     "name": "stderr",
     "output_type": "stream",
     "text": [
      "  7%|██▊                                     | 220/3171 [00:20<02:48, 17.48it/s]"
     ]
    },
    {
     "name": "stdout",
     "output_type": "stream",
     "text": [
      "Deleting ABNB_1min_parquet — only 1006 files found.\n"
     ]
    },
    {
     "name": "stderr",
     "output_type": "stream",
     "text": [
      "  7%|██▊                                     | 224/3171 [00:21<03:42, 13.24it/s]"
     ]
    },
    {
     "name": "stdout",
     "output_type": "stream",
     "text": [
      "Deleting BWIN_1min_parquet — only 1031 files found.\n"
     ]
    },
    {
     "name": "stderr",
     "output_type": "stream",
     "text": [
      "  7%|██▉                                     | 233/3171 [00:22<03:27, 14.13it/s]"
     ]
    },
    {
     "name": "stdout",
     "output_type": "stream",
     "text": [
      "Deleting BTSG_1min_parquet — only 221 files found.\n",
      "Deleting BTDR_1min_parquet — only 418 files found.\n",
      "Deleting DUOL_1min_parquet — only 849 files found.\n",
      "Deleting DTM_1min_parquet — only 876 files found.\n"
     ]
    },
    {
     "name": "stderr",
     "output_type": "stream",
     "text": [
      "  7%|██▉                                     | 236/3171 [00:23<06:20,  7.71it/s]"
     ]
    },
    {
     "name": "stdout",
     "output_type": "stream",
     "text": [
      "Deleting AVIR_1min_parquet — only 1033 files found.\n"
     ]
    },
    {
     "name": "stderr",
     "output_type": "stream",
     "text": [
      "  8%|███                                     | 238/3171 [00:23<07:57,  6.14it/s]"
     ]
    },
    {
     "name": "stdout",
     "output_type": "stream",
     "text": [
      "Deleting AVBP_1min_parquet — only 221 files found.\n",
      "Deleting AVAH_1min_parquet — only 911 files found.\n",
      "Deleting DRTS_1min_parquet — only 695 files found.\n"
     ]
    },
    {
     "name": "stderr",
     "output_type": "stream",
     "text": [
      "  8%|███                                     | 240/3171 [00:24<10:13,  4.78it/s]"
     ]
    },
    {
     "name": "stdout",
     "output_type": "stream",
     "text": [
      "Deleting BRDG_1min_parquet — only 857 files found.\n"
     ]
    },
    {
     "name": "stderr",
     "output_type": "stream",
     "text": [
      "  8%|███▏                                    | 253/3171 [00:25<04:06, 11.85it/s]"
     ]
    },
    {
     "name": "stdout",
     "output_type": "stream",
     "text": [
      "Deleting AFRM_1min_parquet — only 984 files found.\n"
     ]
    },
    {
     "name": "stderr",
     "output_type": "stream",
     "text": [
      "  8%|███▎                                    | 263/3171 [00:25<03:28, 13.97it/s]"
     ]
    },
    {
     "name": "stdout",
     "output_type": "stream",
     "text": [
      "Deleting AGFY_1min_parquet — only 974 files found.\n",
      "Deleting AGL_1min_parquet — only 921 files found.\n"
     ]
    },
    {
     "name": "stderr",
     "output_type": "stream",
     "text": [
      "  8%|███▎                                    | 267/3171 [00:26<05:02,  9.59it/s]"
     ]
    },
    {
     "name": "stdout",
     "output_type": "stream",
     "text": [
      "Deleting ACNT_1min_parquet — only 1052 files found.\n"
     ]
    },
    {
     "name": "stderr",
     "output_type": "stream",
     "text": [
      "  9%|███▍                                    | 275/3171 [00:27<04:32, 10.62it/s]"
     ]
    },
    {
     "name": "stdout",
     "output_type": "stream",
     "text": [
      "Deleting ACHR_1min_parquet — only 1000 files found.\n"
     ]
    },
    {
     "name": "stderr",
     "output_type": "stream",
     "text": [
      "  9%|███▊                                    | 298/3171 [00:27<02:04, 23.06it/s]"
     ]
    },
    {
     "name": "stdout",
     "output_type": "stream",
     "text": [
      "Deleting ACVA_1min_parquet — only 936 files found.\n"
     ]
    },
    {
     "name": "stderr",
     "output_type": "stream",
     "text": [
      " 10%|███▉                                    | 317/3171 [00:28<01:35, 29.81it/s]"
     ]
    },
    {
     "name": "stdout",
     "output_type": "stream",
     "text": [
      "Deleting CMTG_1min_parquet — only 780 files found.\n",
      "Deleting ABCL_1min_parquet — only 1005 files found.\n"
     ]
    },
    {
     "name": "stderr",
     "output_type": "stream",
     "text": [
      " 11%|████▏                                   | 336/3171 [00:29<01:52, 25.15it/s]"
     ]
    },
    {
     "name": "stdout",
     "output_type": "stream",
     "text": [
      "Deleting CGEM_1min_parquet — only 987 files found.\n"
     ]
    },
    {
     "name": "stderr",
     "output_type": "stream",
     "text": [
      " 11%|████▎                                   | 343/3171 [00:30<02:13, 21.10it/s]"
     ]
    },
    {
     "name": "stdout",
     "output_type": "stream",
     "text": [
      "Deleting CLOV_1min_parquet — only 987 files found.\n",
      "Deleting CLSK_1min_parquet — only 1054 files found.\n",
      "Deleting CLBT_1min_parquet — only 825 files found.\n"
     ]
    },
    {
     "name": "stderr",
     "output_type": "stream",
     "text": [
      " 11%|████▌                                   | 360/3171 [00:31<02:47, 16.81it/s]"
     ]
    },
    {
     "name": "stdout",
     "output_type": "stream",
     "text": [
      "Deleting CIVI_1min_parquet — only 781 files found.\n"
     ]
    },
    {
     "name": "stderr",
     "output_type": "stream",
     "text": [
      " 12%|████▌                                   | 366/3171 [00:32<03:15, 14.31it/s]"
     ]
    },
    {
     "name": "stdout",
     "output_type": "stream",
     "text": [
      "Deleting CHSN_1min_parquet — only 418 files found.\n"
     ]
    },
    {
     "name": "stderr",
     "output_type": "stream",
     "text": [
      " 12%|████▋                                   | 371/3171 [00:32<02:52, 16.19it/s]"
     ]
    },
    {
     "name": "stdout",
     "output_type": "stream",
     "text": [
      "Deleting CGON_1min_parquet — only 222 files found.\n",
      "Deleting CHRD_1min_parquet — only 1019 files found.\n"
     ]
    },
    {
     "name": "stderr",
     "output_type": "stream",
     "text": [
      " 12%|████▉                                   | 388/3171 [00:33<02:05, 22.19it/s]"
     ]
    },
    {
     "name": "stdout",
     "output_type": "stream",
     "text": [
      "Deleting CGNT_1min_parquet — only 971 files found.\n",
      "Deleting CFLT_1min_parquet — only 872 files found.\n"
     ]
    },
    {
     "name": "stderr",
     "output_type": "stream",
     "text": [
      " 12%|████▉                                   | 394/3171 [00:34<03:27, 13.36it/s]"
     ]
    },
    {
     "name": "stdout",
     "output_type": "stream",
     "text": [
      "Deleting CDRE_1min_parquet — only 779 files found.\n",
      "Deleting CERT_1min_parquet — only 1005 files found.\n",
      "Deleting CCCS_1min_parquet — only 846 files found.\n"
     ]
    },
    {
     "name": "stderr",
     "output_type": "stream",
     "text": [
      " 13%|█████                                   | 399/3171 [00:35<06:14,  7.39it/s]"
     ]
    },
    {
     "name": "stdout",
     "output_type": "stream",
     "text": [
      "Deleting CELC_1min_parquet — only 1054 files found.\n"
     ]
    },
    {
     "name": "stderr",
     "output_type": "stream",
     "text": [
      " 13%|█████                                   | 406/3171 [00:36<05:34,  8.27it/s]"
     ]
    },
    {
     "name": "stdout",
     "output_type": "stream",
     "text": [
      "Deleting CEG_1min_parquet — only 698 files found.\n"
     ]
    },
    {
     "name": "stderr",
     "output_type": "stream",
     "text": [
      " 13%|█████▏                                  | 409/3171 [00:36<05:40,  8.12it/s]"
     ]
    },
    {
     "name": "stdout",
     "output_type": "stream",
     "text": [
      "Deleting CCSI_1min_parquet — only 804 files found.\n"
     ]
    },
    {
     "name": "stderr",
     "output_type": "stream",
     "text": [
      " 13%|█████▎                                  | 421/3171 [00:37<03:55, 11.66it/s]"
     ]
    },
    {
     "name": "stdout",
     "output_type": "stream",
     "text": [
      "Deleting CCCC_1min_parquet — only 1054 files found.\n"
     ]
    },
    {
     "name": "stderr",
     "output_type": "stream",
     "text": [
      " 14%|█████▍                                  | 433/3171 [00:38<03:22, 13.54it/s]"
     ]
    },
    {
     "name": "stdout",
     "output_type": "stream",
     "text": [
      "Deleting CART_1min_parquet — only 310 files found.\n",
      "Deleting CAVA_1min_parquet — only 375 files found.\n"
     ]
    },
    {
     "name": "stderr",
     "output_type": "stream",
     "text": [
      " 14%|█████▍                                  | 435/3171 [00:38<03:32, 12.86it/s]"
     ]
    },
    {
     "name": "stdout",
     "output_type": "stream",
     "text": [
      "Deleting BXSL_1min_parquet — only 784 files found.\n"
     ]
    },
    {
     "name": "stderr",
     "output_type": "stream",
     "text": [
      " 14%|█████▌                                  | 441/3171 [00:38<03:31, 12.90it/s]"
     ]
    },
    {
     "name": "stdout",
     "output_type": "stream",
     "text": [
      "Deleting BVS_1min_parquet — only 964 files found.\n"
     ]
    },
    {
     "name": "stderr",
     "output_type": "stream",
     "text": [
      " 14%|█████▌                                  | 443/3171 [00:39<04:36,  9.87it/s]"
     ]
    },
    {
     "name": "stdout",
     "output_type": "stream",
     "text": [
      "Deleting AXR_1min_parquet — only 1049 files found.\n"
     ]
    },
    {
     "name": "stderr",
     "output_type": "stream",
     "text": [
      " 15%|█████▊                                  | 461/3171 [00:39<02:31, 17.87it/s]"
     ]
    },
    {
     "name": "stdout",
     "output_type": "stream",
     "text": [
      "Deleting ECG_1min_parquet — only 31 files found.\n",
      "Deleting DV_1min_parquet — only 917 files found.\n",
      "Deleting DTC_1min_parquet — only 784 files found.\n"
     ]
    },
    {
     "name": "stderr",
     "output_type": "stream",
     "text": [
      " 15%|█████▊                                  | 465/3171 [00:40<04:04, 11.06it/s]"
     ]
    },
    {
     "name": "stdout",
     "output_type": "stream",
     "text": [
      "Deleting DRVN_1min_parquet — only 982 files found.\n",
      "Deleting DOLE_1min_parquet — only 847 files found.\n",
      "Deleting DNA_1min_parquet — only 919 files found.\n"
     ]
    },
    {
     "name": "stderr",
     "output_type": "stream",
     "text": [
      " 15%|█████▉                                  | 468/3171 [00:42<07:10,  6.28it/s]"
     ]
    },
    {
     "name": "stdout",
     "output_type": "stream",
     "text": [
      "Deleting FHTX_1min_parquet — only 1033 files found.\n",
      "Deleting COIN_1min_parquet — only 922 files found.\n"
     ]
    },
    {
     "name": "stderr",
     "output_type": "stream",
     "text": [
      " 15%|█████▉                                  | 470/3171 [00:43<09:16,  4.85it/s]"
     ]
    },
    {
     "name": "stdout",
     "output_type": "stream",
     "text": [
      "Deleting COCO_1min_parquet — only 789 files found.\n"
     ]
    },
    {
     "name": "stderr",
     "output_type": "stream",
     "text": [
      " 15%|█████▉                                  | 472/3171 [00:43<09:11,  4.89it/s]"
     ]
    },
    {
     "name": "stdout",
     "output_type": "stream",
     "text": [
      "Deleting IONQ_1min_parquet — only 991 files found.\n"
     ]
    },
    {
     "name": "stderr",
     "output_type": "stream",
     "text": [
      " 15%|██████                                  | 476/3171 [00:44<08:15,  5.44it/s]"
     ]
    },
    {
     "name": "stdout",
     "output_type": "stream",
     "text": [
      "Deleting DEC_1min_parquet — only 246 files found.\n",
      "Deleting BLND_1min_parquet — only 857 files found.\n"
     ]
    },
    {
     "name": "stderr",
     "output_type": "stream",
     "text": [
      " 15%|██████                                  | 480/3171 [00:44<07:05,  6.33it/s]"
     ]
    },
    {
     "name": "stdout",
     "output_type": "stream",
     "text": [
      "Deleting FBRT_1min_parquet — only 791 files found.\n"
     ]
    },
    {
     "name": "stderr",
     "output_type": "stream",
     "text": [
      " 15%|██████▏                                 | 487/3171 [00:45<05:05,  8.79it/s]"
     ]
    },
    {
     "name": "stdout",
     "output_type": "stream",
     "text": [
      "Deleting FATBB_1min_parquet — only 659 files found.\n"
     ]
    },
    {
     "name": "stderr",
     "output_type": "stream",
     "text": [
      " 16%|██████▏                                 | 494/3171 [00:45<03:54, 11.43it/s]"
     ]
    },
    {
     "name": "stdout",
     "output_type": "stream",
     "text": [
      "Deleting FA_1min_parquet — only 873 files found.\n"
     ]
    },
    {
     "name": "stderr",
     "output_type": "stream",
     "text": [
      " 16%|██████▎                                 | 496/3171 [00:46<04:37,  9.64it/s]"
     ]
    },
    {
     "name": "stdout",
     "output_type": "stream",
     "text": [
      "Deleting IMNM_1min_parquet — only 1053 files found.\n",
      "Deleting BLCO_1min_parquet — only 653 files found.\n"
     ]
    },
    {
     "name": "stderr",
     "output_type": "stream",
     "text": [
      " 16%|██████▍                                 | 510/3171 [00:46<03:00, 14.72it/s]"
     ]
    },
    {
     "name": "stdout",
     "output_type": "stream",
     "text": [
      "Deleting CADL_1min_parquet — only 850 files found.\n"
     ]
    },
    {
     "name": "stderr",
     "output_type": "stream",
     "text": [
      " 16%|██████▌                                 | 518/3171 [00:47<02:50, 15.58it/s]"
     ]
    },
    {
     "name": "stdout",
     "output_type": "stream",
     "text": [
      "Deleting CAMP_1min_parquet — only 971 files found.\n"
     ]
    },
    {
     "name": "stderr",
     "output_type": "stream",
     "text": [
      " 17%|██████▋                                 | 535/3171 [00:47<01:53, 23.31it/s]"
     ]
    },
    {
     "name": "stdout",
     "output_type": "stream",
     "text": [
      "Deleting EDR_1min_parquet — only 911 files found.\n"
     ]
    },
    {
     "name": "stderr",
     "output_type": "stream",
     "text": [
      " 17%|██████▉                                 | 549/3171 [00:48<01:46, 24.58it/s]"
     ]
    },
    {
     "name": "stdout",
     "output_type": "stream",
     "text": [
      "Deleting DXYZ_1min_parquet — only 180 files found.\n",
      "Deleting ECAT_1min_parquet — only 806 files found.\n"
     ]
    },
    {
     "name": "stderr",
     "output_type": "stream",
     "text": [
      " 17%|██████▉                                 | 554/3171 [00:49<02:09, 20.20it/s]"
     ]
    },
    {
     "name": "stdout",
     "output_type": "stream",
     "text": [
      "Deleting AUR_1min_parquet — only 904 files found.\n"
     ]
    },
    {
     "name": "stderr",
     "output_type": "stream",
     "text": [
      " 18%|███████▏                                | 569/3171 [00:49<01:40, 25.83it/s]"
     ]
    },
    {
     "name": "stdout",
     "output_type": "stream",
     "text": [
      "Deleting BRCC_1min_parquet — only 750 files found.\n"
     ]
    },
    {
     "name": "stderr",
     "output_type": "stream",
     "text": [
      " 18%|███████▎                                | 581/3171 [00:50<01:52, 22.98it/s]"
     ]
    },
    {
     "name": "stdout",
     "output_type": "stream",
     "text": [
      "Deleting FIHL_1min_parquet — only 366 files found.\n",
      "Deleting DOCS_1min_parquet — only 872 files found.\n"
     ]
    },
    {
     "name": "stderr",
     "output_type": "stream",
     "text": [
      " 19%|███████▍                                | 587/3171 [00:50<02:16, 18.95it/s]"
     ]
    },
    {
     "name": "stdout",
     "output_type": "stream",
     "text": [
      "Deleting ATMU_1min_parquet — only 388 files found.\n",
      "Deleting FIGS_1min_parquet — only 891 files found.\n"
     ]
    },
    {
     "name": "stderr",
     "output_type": "stream",
     "text": [
      " 19%|███████▍                                | 590/3171 [00:51<03:20, 12.85it/s]"
     ]
    },
    {
     "name": "stdout",
     "output_type": "stream",
     "text": [
      "Deleting DJTWW_1min_parquet — only 180 files found.\n",
      "Deleting DJT_1min_parquet — only 804 files found.\n",
      "Deleting BNR_1min_parquet — only 1045 files found.\n"
     ]
    },
    {
     "name": "stderr",
     "output_type": "stream",
     "text": [
      " 19%|███████▍                                | 593/3171 [00:52<05:12,  8.25it/s]"
     ]
    },
    {
     "name": "stdout",
     "output_type": "stream",
     "text": [
      "Deleting FERG_1min_parquet — only 948 files found.\n"
     ]
    },
    {
     "name": "stderr",
     "output_type": "stream",
     "text": [
      " 19%|███████▋                                | 607/3171 [00:52<02:43, 15.65it/s]"
     ]
    },
    {
     "name": "stdout",
     "output_type": "stream",
     "text": [
      "Deleting AVDX_1min_parquet — only 795 files found.\n"
     ]
    },
    {
     "name": "stderr",
     "output_type": "stream",
     "text": [
      " 19%|███████▋                                | 613/3171 [00:53<02:55, 14.57it/s]"
     ]
    },
    {
     "name": "stdout",
     "output_type": "stream",
     "text": [
      "Deleting DSP_1min_parquet — only 965 files found.\n"
     ]
    },
    {
     "name": "stderr",
     "output_type": "stream",
     "text": [
      " 19%|███████▊                                | 617/3171 [00:53<03:23, 12.55it/s]"
     ]
    },
    {
     "name": "stdout",
     "output_type": "stream",
     "text": [
      "Deleting DRUG_1min_parquet — only 776 files found.\n"
     ]
    },
    {
     "name": "stderr",
     "output_type": "stream",
     "text": [
      " 20%|███████▊                                | 620/3171 [00:54<03:47, 11.22it/s]"
     ]
    },
    {
     "name": "stdout",
     "output_type": "stream",
     "text": [
      "Deleting BRZE_1min_parquet — only 770 files found.\n",
      "Deleting DSGN_1min_parquet — only 934 files found.\n"
     ]
    },
    {
     "name": "stderr",
     "output_type": "stream",
     "text": [
      " 20%|███████▊                                | 623/3171 [00:54<05:26,  7.81it/s]"
     ]
    },
    {
     "name": "stdout",
     "output_type": "stream",
     "text": [
      "Deleting AUID_1min_parquet — only 855 files found.\n"
     ]
    },
    {
     "name": "stderr",
     "output_type": "stream",
     "text": [
      " 20%|███████▉                                | 625/3171 [00:55<05:58,  7.10it/s]"
     ]
    },
    {
     "name": "stdout",
     "output_type": "stream",
     "text": [
      "Deleting DRS_1min_parquet — only 511 files found.\n"
     ]
    },
    {
     "name": "stderr",
     "output_type": "stream",
     "text": [
      " 20%|███████▉                                | 627/3171 [00:55<05:47,  7.32it/s]"
     ]
    },
    {
     "name": "stdout",
     "output_type": "stream",
     "text": [
      "Deleting BROS_1min_parquet — only 815 files found.\n"
     ]
    },
    {
     "name": "stderr",
     "output_type": "stream",
     "text": [
      " 20%|███████▉                                | 630/3171 [00:55<05:42,  7.43it/s]"
     ]
    },
    {
     "name": "stdout",
     "output_type": "stream",
     "text": [
      "Deleting CON_1min_parquet — only 97 files found.\n",
      "Deleting BMR_1min_parquet — only 450 files found.\n"
     ]
    },
    {
     "name": "stderr",
     "output_type": "stream",
     "text": [
      " 20%|████████▏                               | 648/3171 [00:56<01:59, 21.18it/s]"
     ]
    },
    {
     "name": "stdout",
     "output_type": "stream",
     "text": [
      "Deleting DBD_1min_parquet — only 335 files found.\n"
     ]
    },
    {
     "name": "stderr",
     "output_type": "stream",
     "text": [
      " 21%|████████▏                               | 653/3171 [00:56<02:02, 20.51it/s]"
     ]
    },
    {
     "name": "stdout",
     "output_type": "stream",
     "text": [
      "Deleting BIRK_1min_parquet — only 294 files found.\n",
      "Deleting BIGZ_1min_parquet — only 934 files found.\n"
     ]
    },
    {
     "name": "stderr",
     "output_type": "stream",
     "text": [
      " 21%|████████▎                               | 657/3171 [00:57<03:09, 13.27it/s]"
     ]
    },
    {
     "name": "stdout",
     "output_type": "stream",
     "text": [
      "Deleting DNUT_1min_parquet — only 867 files found.\n"
     ]
    },
    {
     "name": "stderr",
     "output_type": "stream",
     "text": [
      " 21%|████████▎                               | 660/3171 [00:57<03:44, 11.19it/s]"
     ]
    },
    {
     "name": "stdout",
     "output_type": "stream",
     "text": [
      "Deleting DOCN_1min_parquet — only 936 files found.\n"
     ]
    },
    {
     "name": "stderr",
     "output_type": "stream",
     "text": [
      " 21%|████████▍                               | 667/3171 [00:58<03:33, 11.74it/s]"
     ]
    },
    {
     "name": "stdout",
     "output_type": "stream",
     "text": [
      "Deleting FG_1min_parquet — only 509 files found.\n"
     ]
    },
    {
     "name": "stderr",
     "output_type": "stream",
     "text": [
      " 21%|████████▍                               | 672/3171 [00:58<03:15, 12.78it/s]"
     ]
    },
    {
     "name": "stdout",
     "output_type": "stream",
     "text": [
      "Deleting DLO_1min_parquet — only 887 files found.\n"
     ]
    },
    {
     "name": "stderr",
     "output_type": "stream",
     "text": [
      " 22%|████████▋                               | 693/3171 [00:59<01:49, 22.55it/s]"
     ]
    },
    {
     "name": "stdout",
     "output_type": "stream",
     "text": [
      "Deleting CORZ_1min_parquet — only 649 files found.\n"
     ]
    },
    {
     "name": "stderr",
     "output_type": "stream",
     "text": [
      " 22%|████████▊                               | 697/3171 [00:59<02:14, 18.43it/s]"
     ]
    },
    {
     "name": "stdout",
     "output_type": "stream",
     "text": [
      "Deleting DH_1min_parquet — only 815 files found.\n"
     ]
    },
    {
     "name": "stderr",
     "output_type": "stream",
     "text": [
      " 22%|████████▊                               | 701/3171 [01:00<02:38, 15.59it/s]"
     ]
    },
    {
     "name": "stdout",
     "output_type": "stream",
     "text": [
      "Deleting CPNG_1min_parquet — only 945 files found.\n"
     ]
    },
    {
     "name": "stderr",
     "output_type": "stream",
     "text": [
      " 22%|████████▉                               | 704/3171 [01:00<03:16, 12.57it/s]"
     ]
    },
    {
     "name": "stdout",
     "output_type": "stream",
     "text": [
      "Deleting COUR_1min_parquet — only 931 files found.\n"
     ]
    },
    {
     "name": "stderr",
     "output_type": "stream",
     "text": [
      " 22%|████████▉                               | 710/3171 [01:00<03:18, 12.39it/s]"
     ]
    },
    {
     "name": "stdout",
     "output_type": "stream",
     "text": [
      "Deleting COOK_1min_parquet — only 848 files found.\n"
     ]
    },
    {
     "name": "stderr",
     "output_type": "stream",
     "text": [
      " 23%|█████████                               | 715/3171 [01:01<03:23, 12.08it/s]"
     ]
    },
    {
     "name": "stdout",
     "output_type": "stream",
     "text": [
      "Deleting COMP_1min_parquet — only 930 files found.\n"
     ]
    },
    {
     "name": "stderr",
     "output_type": "stream",
     "text": [
      " 23%|█████████                               | 722/3171 [01:01<03:13, 12.68it/s]"
     ]
    },
    {
     "name": "stdout",
     "output_type": "stream",
     "text": [
      "Deleting INNV_1min_parquet — only 950 files found.\n"
     ]
    },
    {
     "name": "stderr",
     "output_type": "stream",
     "text": [
      " 23%|█████████▎                              | 735/3171 [01:02<02:12, 18.43it/s]"
     ]
    },
    {
     "name": "stdout",
     "output_type": "stream",
     "text": [
      "Deleting CNTA_1min_parquet — only 890 files found.\n",
      "Deleting CNXC_1min_parquet — only 1014 files found.\n"
     ]
    },
    {
     "name": "stderr",
     "output_type": "stream",
     "text": [
      " 23%|█████████▎                              | 740/3171 [01:03<03:36, 11.23it/s]"
     ]
    },
    {
     "name": "stdout",
     "output_type": "stream",
     "text": [
      "Deleting CNM_1min_parquet — only 852 files found.\n"
     ]
    },
    {
     "name": "stderr",
     "output_type": "stream",
     "text": [
      " 23%|█████████▍                              | 744/3171 [01:03<03:45, 10.77it/s]"
     ]
    },
    {
     "name": "stdout",
     "output_type": "stream",
     "text": [
      "Deleting IPWR_1min_parquet — only 1054 files found.\n"
     ]
    },
    {
     "name": "stderr",
     "output_type": "stream",
     "text": [
      " 24%|█████████▍                              | 747/3171 [01:04<04:26,  9.08it/s]"
     ]
    },
    {
     "name": "stdout",
     "output_type": "stream",
     "text": [
      "Deleting CNH_1min_parquet — only 1031 files found.\n"
     ]
    },
    {
     "name": "stderr",
     "output_type": "stream",
     "text": [
      " 24%|█████████▍                              | 749/3171 [01:04<05:16,  7.66it/s]"
     ]
    },
    {
     "name": "stdout",
     "output_type": "stream",
     "text": [
      "Deleting IOT_1min_parquet — only 751 files found.\n"
     ]
    },
    {
     "name": "stderr",
     "output_type": "stream",
     "text": [
      " 24%|█████████▍                              | 753/3171 [01:05<04:47,  8.41it/s]"
     ]
    },
    {
     "name": "stdout",
     "output_type": "stream",
     "text": [
      "Deleting INVZ_1min_parquet — only 928 files found.\n"
     ]
    },
    {
     "name": "stderr",
     "output_type": "stream",
     "text": [
      " 24%|█████████▌                              | 756/3171 [01:05<05:02,  7.98it/s]"
     ]
    },
    {
     "name": "stdout",
     "output_type": "stream",
     "text": [
      "Deleting BMTX_1min_parquet — only 1054 files found.\n"
     ]
    },
    {
     "name": "stderr",
     "output_type": "stream",
     "text": [
      " 24%|█████████▌                              | 758/3171 [01:06<06:01,  6.67it/s]"
     ]
    },
    {
     "name": "stdout",
     "output_type": "stream",
     "text": [
      "Deleting BMEA_1min_parquet — only 920 files found.\n"
     ]
    },
    {
     "name": "stderr",
     "output_type": "stream",
     "text": [
      " 24%|█████████▌                              | 759/3171 [01:06<07:21,  5.47it/s]"
     ]
    },
    {
     "name": "stdout",
     "output_type": "stream",
     "text": [
      "Deleting BLDE_1min_parquet — only 1045 files found.\n"
     ]
    },
    {
     "name": "stderr",
     "output_type": "stream",
     "text": [
      " 24%|█████████▌                              | 762/3171 [01:07<07:08,  5.63it/s]"
     ]
    },
    {
     "name": "stdout",
     "output_type": "stream",
     "text": [
      "Deleting DCGO_1min_parquet — only 946 files found.\n"
     ]
    },
    {
     "name": "stderr",
     "output_type": "stream",
     "text": [
      " 24%|█████████▋                              | 765/3171 [01:07<06:49,  5.88it/s]"
     ]
    },
    {
     "name": "stdout",
     "output_type": "stream",
     "text": [
      "Deleting IMCR_1min_parquet — only 968 files found.\n"
     ]
    },
    {
     "name": "stderr",
     "output_type": "stream",
     "text": [
      " 24%|█████████▋                              | 769/3171 [01:08<06:02,  6.63it/s]"
     ]
    },
    {
     "name": "stdout",
     "output_type": "stream",
     "text": [
      "Deleting BKSY_1min_parquet — only 1054 files found.\n"
     ]
    },
    {
     "name": "stderr",
     "output_type": "stream",
     "text": [
      " 25%|█████████▊                              | 778/3171 [01:08<04:10,  9.54it/s]"
     ]
    },
    {
     "name": "stdout",
     "output_type": "stream",
     "text": [
      "Deleting IH_1min_parquet — only 1043 files found.\n"
     ]
    },
    {
     "name": "stderr",
     "output_type": "stream",
     "text": [
      " 25%|█████████▊                              | 780/3171 [01:09<05:17,  7.54it/s]"
     ]
    },
    {
     "name": "stdout",
     "output_type": "stream",
     "text": [
      "Deleting CNO_1min_parquet — only 1031 files found.\n"
     ]
    },
    {
     "name": "stderr",
     "output_type": "stream",
     "text": [
      " 25%|█████████▉                              | 783/3171 [01:09<05:40,  7.01it/s]"
     ]
    },
    {
     "name": "stdout",
     "output_type": "stream",
     "text": [
      "Deleting INTA_1min_parquet — only 868 files found.\n"
     ]
    },
    {
     "name": "stderr",
     "output_type": "stream",
     "text": [
      " 25%|██████████                              | 801/3171 [01:10<02:24, 16.38it/s]"
     ]
    },
    {
     "name": "stdout",
     "output_type": "stream",
     "text": [
      "Deleting INDV_1min_parquet — only 378 files found.\n"
     ]
    },
    {
     "name": "stderr",
     "output_type": "stream",
     "text": [
      " 26%|██████████▏                             | 810/3171 [01:10<01:59, 19.72it/s]"
     ]
    },
    {
     "name": "stdout",
     "output_type": "stream",
     "text": [
      "Deleting DFH_1min_parquet — only 979 files found.\n",
      "Deleting BLTE_1min_parquet — only 658 files found.\n"
     ]
    },
    {
     "name": "stderr",
     "output_type": "stream",
     "text": [
      " 26%|██████████▎                             | 814/3171 [01:11<03:14, 12.09it/s]"
     ]
    },
    {
     "name": "stdout",
     "output_type": "stream",
     "text": [
      "Deleting FDMT_1min_parquet — only 1005 files found.\n"
     ]
    },
    {
     "name": "stderr",
     "output_type": "stream",
     "text": [
      " 26%|██████████▎                             | 817/3171 [01:12<03:50, 10.20it/s]"
     ]
    },
    {
     "name": "stdout",
     "output_type": "stream",
     "text": [
      "Deleting INFA_1min_parquet — only 785 files found.\n"
     ]
    },
    {
     "name": "stderr",
     "output_type": "stream",
     "text": [
      " 26%|██████████▎                             | 822/3171 [01:12<03:47, 10.32it/s]"
     ]
    },
    {
     "name": "stdout",
     "output_type": "stream",
     "text": [
      "Deleting BLZE_1min_parquet — only 774 files found.\n"
     ]
    },
    {
     "name": "stderr",
     "output_type": "stream",
     "text": [
      " 26%|██████████▍                             | 826/3171 [01:13<03:50, 10.15it/s]"
     ]
    },
    {
     "name": "stdout",
     "output_type": "stream",
     "text": [
      "Deleting INBX_1min_parquet — only 1053 files found.\n"
     ]
    },
    {
     "name": "stderr",
     "output_type": "stream",
     "text": [
      " 26%|██████████▌                             | 833/3171 [01:13<03:42, 10.51it/s]"
     ]
    },
    {
     "name": "stdout",
     "output_type": "stream",
     "text": [
      "Deleting INDI_1min_parquet — only 881 files found.\n"
     ]
    },
    {
     "name": "stderr",
     "output_type": "stream",
     "text": [
      " 26%|██████████▌                             | 835/3171 [01:14<04:39,  8.36it/s]"
     ]
    },
    {
     "name": "stdout",
     "output_type": "stream",
     "text": [
      "Deleting BMBL_1min_parquet — only 964 files found.\n"
     ]
    },
    {
     "name": "stderr",
     "output_type": "stream",
     "text": [
      " 27%|██████████▋                             | 848/3171 [01:14<02:44, 14.13it/s]"
     ]
    },
    {
     "name": "stdout",
     "output_type": "stream",
     "text": [
      "Deleting DAVE_1min_parquet — only 736 files found.\n",
      "Deleting DAWN_1min_parquet — only 891 files found.\n"
     ]
    },
    {
     "name": "stderr",
     "output_type": "stream",
     "text": [
      " 27%|██████████▋                             | 852/3171 [01:15<03:59,  9.68it/s]"
     ]
    },
    {
     "name": "stdout",
     "output_type": "stream",
     "text": [
      "Deleting DASH_1min_parquet — only 1007 files found.\n"
     ]
    },
    {
     "name": "stderr",
     "output_type": "stream",
     "text": [
      " 27%|██████████▊                             | 857/3171 [01:16<04:16,  9.01it/s]"
     ]
    },
    {
     "name": "stdout",
     "output_type": "stream",
     "text": [
      "Deleting BKKT_1min_parquet — only 792 files found.\n",
      "Deleting BIRD_1min_parquet — only 780 files found.\n"
     ]
    },
    {
     "name": "stderr",
     "output_type": "stream",
     "text": [
      " 27%|██████████▊                             | 860/3171 [01:17<05:41,  6.77it/s]"
     ]
    },
    {
     "name": "stdout",
     "output_type": "stream",
     "text": [
      "Deleting CYBN_1min_parquet — only 843 files found.\n"
     ]
    },
    {
     "name": "stderr",
     "output_type": "stream",
     "text": [
      " 27%|██████████▉                             | 863/3171 [01:17<05:32,  6.93it/s]"
     ]
    },
    {
     "name": "stdout",
     "output_type": "stream",
     "text": [
      "Deleting GTLB_1min_parquet — only 794 files found.\n"
     ]
    },
    {
     "name": "stderr",
     "output_type": "stream",
     "text": [
      " 27%|██████████▉                             | 872/3171 [01:18<03:29, 10.99it/s]"
     ]
    },
    {
     "name": "stdout",
     "output_type": "stream",
     "text": [
      "Deleting GRAL_1min_parquet — only 126 files found.\n"
     ]
    },
    {
     "name": "stderr",
     "output_type": "stream",
     "text": [
      " 28%|███████████▏                            | 884/3171 [01:18<01:47, 21.19it/s]"
     ]
    },
    {
     "name": "stdout",
     "output_type": "stream",
     "text": [
      "Deleting EXFY_1min_parquet — only 775 files found.\n"
     ]
    },
    {
     "name": "stderr",
     "output_type": "stream",
     "text": [
      " 28%|███████████▏                            | 889/3171 [01:18<02:07, 17.90it/s]"
     ]
    },
    {
     "name": "stdout",
     "output_type": "stream",
     "text": [
      "Deleting EWTX_1min_parquet — only 934 files found.\n"
     ]
    },
    {
     "name": "stderr",
     "output_type": "stream",
     "text": [
      " 28%|███████████▎                            | 898/3171 [01:19<02:12, 17.19it/s]"
     ]
    },
    {
     "name": "stdout",
     "output_type": "stream",
     "text": [
      "Deleting EWCZ_1min_parquet — only 843 files found.\n"
     ]
    },
    {
     "name": "stderr",
     "output_type": "stream",
     "text": [
      " 28%|███████████▍                            | 902/3171 [01:19<02:31, 14.95it/s]"
     ]
    },
    {
     "name": "stdout",
     "output_type": "stream",
     "text": [
      "Deleting EXE_1min_parquet — only 941 files found.\n",
      "Deleting EVTL_1min_parquet — only 1030 files found.\n"
     ]
    },
    {
     "name": "stderr",
     "output_type": "stream",
     "text": [
      " 29%|███████████▍                            | 905/3171 [01:20<04:10,  9.03it/s]"
     ]
    },
    {
     "name": "stdout",
     "output_type": "stream",
     "text": [
      "Deleting HCP_1min_parquet — only 755 files found.\n"
     ]
    },
    {
     "name": "stderr",
     "output_type": "stream",
     "text": [
      " 29%|███████████▍                            | 908/3171 [01:21<04:18,  8.75it/s]"
     ]
    },
    {
     "name": "stdout",
     "output_type": "stream",
     "text": [
      "Deleting GB_1min_parquet — only 1050 files found.\n"
     ]
    },
    {
     "name": "stderr",
     "output_type": "stream",
     "text": [
      " 29%|███████████▍                            | 910/3171 [01:21<05:04,  7.42it/s]"
     ]
    },
    {
     "name": "stdout",
     "output_type": "stream",
     "text": [
      "Deleting GENI_1min_parquet — only 1052 files found.\n"
     ]
    },
    {
     "name": "stderr",
     "output_type": "stream",
     "text": [
      " 29%|███████████▌                            | 915/3171 [01:22<04:46,  7.89it/s]"
     ]
    },
    {
     "name": "stdout",
     "output_type": "stream",
     "text": [
      "Deleting GFS_1min_parquet — only 784 files found.\n",
      "Deleting GETY_1min_parquet — only 600 files found.\n"
     ]
    },
    {
     "name": "stderr",
     "output_type": "stream",
     "text": [
      " 29%|███████████▌                            | 917/3171 [01:22<06:04,  6.18it/s]"
     ]
    },
    {
     "name": "stdout",
     "output_type": "stream",
     "text": [
      "Deleting MRVI_1min_parquet — only 1019 files found.\n"
     ]
    },
    {
     "name": "stderr",
     "output_type": "stream",
     "text": [
      " 29%|███████████▋                            | 924/3171 [01:23<04:31,  8.27it/s]"
     ]
    },
    {
     "name": "stdout",
     "output_type": "stream",
     "text": [
      "Deleting MNPR_1min_parquet — only 1054 files found.\n"
     ]
    },
    {
     "name": "stderr",
     "output_type": "stream",
     "text": [
      " 29%|███████████▋                            | 928/3171 [01:23<04:34,  8.17it/s]"
     ]
    },
    {
     "name": "stdout",
     "output_type": "stream",
     "text": [
      "Deleting MNTK_1min_parquet — only 978 files found.\n"
     ]
    },
    {
     "name": "stderr",
     "output_type": "stream",
     "text": [
      " 30%|███████████▉                            | 946/3171 [01:24<01:54, 19.37it/s]"
     ]
    },
    {
     "name": "stdout",
     "output_type": "stream",
     "text": [
      "Deleting IE_1min_parquet — only 618 files found.\n",
      "Deleting CXT_1min_parquet — only 425 files found.\n"
     ]
    },
    {
     "name": "stderr",
     "output_type": "stream",
     "text": [
      " 30%|███████████▉                            | 951/3171 [01:25<02:32, 14.59it/s]"
     ]
    },
    {
     "name": "stdout",
     "output_type": "stream",
     "text": [
      "Deleting CXM_1min_parquet — only 873 files found.\n"
     ]
    },
    {
     "name": "stderr",
     "output_type": "stream",
     "text": [
      " 30%|████████████                            | 960/3171 [01:25<02:25, 15.24it/s]"
     ]
    },
    {
     "name": "stdout",
     "output_type": "stream",
     "text": [
      "Deleting HG_1min_parquet — only 272 files found.\n",
      "Deleting HGTY_1min_parquet — only 882 files found.\n",
      "Deleting HEPS_1min_parquet — only 867 files found.\n"
     ]
    },
    {
     "name": "stderr",
     "output_type": "stream",
     "text": [
      " 30%|████████████▏                           | 963/3171 [01:26<04:01,  9.15it/s]"
     ]
    },
    {
     "name": "stdout",
     "output_type": "stream",
     "text": [
      "Deleting HAYW_1min_parquet — only 944 files found.\n"
     ]
    },
    {
     "name": "stderr",
     "output_type": "stream",
     "text": [
      " 31%|████████████▎                           | 979/3171 [01:27<02:03, 17.82it/s]"
     ]
    },
    {
     "name": "stdout",
     "output_type": "stream",
     "text": [
      "Deleting HASI_1min_parquet — only 990 files found.\n"
     ]
    },
    {
     "name": "stderr",
     "output_type": "stream",
     "text": [
      " 31%|████████████▌                           | 992/3171 [01:27<01:52, 19.45it/s]"
     ]
    },
    {
     "name": "stdout",
     "output_type": "stream",
     "text": [
      "Deleting GWH_1min_parquet — only 969 files found.\n"
     ]
    },
    {
     "name": "stderr",
     "output_type": "stream",
     "text": [
      " 31%|████████████▌                           | 998/3171 [01:28<02:08, 16.90it/s]"
     ]
    },
    {
     "name": "stdout",
     "output_type": "stream",
     "text": [
      "Deleting GLBE_1min_parquet — only 902 files found.\n"
     ]
    },
    {
     "name": "stderr",
     "output_type": "stream",
     "text": [
      " 32%|████████████▎                          | 1002/3171 [01:28<02:29, 14.49it/s]"
     ]
    },
    {
     "name": "stdout",
     "output_type": "stream",
     "text": [
      "Deleting GEHC_1min_parquet — only 499 files found.\n"
     ]
    },
    {
     "name": "stderr",
     "output_type": "stream",
     "text": [
      " 32%|████████████▎                          | 1005/3171 [01:28<02:35, 13.93it/s]"
     ]
    },
    {
     "name": "stdout",
     "output_type": "stream",
     "text": [
      "Deleting FYBR_1min_parquet — only 908 files found.\n"
     ]
    },
    {
     "name": "stderr",
     "output_type": "stream",
     "text": [
      " 32%|████████████▍                          | 1012/3171 [01:29<02:36, 13.82it/s]"
     ]
    },
    {
     "name": "stdout",
     "output_type": "stream",
     "text": [
      "Deleting GXO_1min_parquet — only 852 files found.\n"
     ]
    },
    {
     "name": "stderr",
     "output_type": "stream",
     "text": [
      " 32%|████████████▍                          | 1015/3171 [01:29<03:00, 11.91it/s]"
     ]
    },
    {
     "name": "stdout",
     "output_type": "stream",
     "text": [
      "Deleting GRND_1min_parquet — only 977 files found.\n"
     ]
    },
    {
     "name": "stderr",
     "output_type": "stream",
     "text": [
      " 32%|████████████▌                          | 1021/3171 [01:30<03:04, 11.63it/s]"
     ]
    },
    {
     "name": "stdout",
     "output_type": "stream",
     "text": [
      "Deleting GPCR_1min_parquet — only 466 files found.\n"
     ]
    },
    {
     "name": "stderr",
     "output_type": "stream",
     "text": [
      " 32%|████████████▌                          | 1025/3171 [01:30<02:52, 12.46it/s]"
     ]
    },
    {
     "name": "stdout",
     "output_type": "stream",
     "text": [
      "Deleting GNLX_1min_parquet — only 472 files found.\n"
     ]
    },
    {
     "name": "stderr",
     "output_type": "stream",
     "text": [
      " 33%|████████████▋                          | 1032/3171 [01:30<02:19, 15.35it/s]"
     ]
    },
    {
     "name": "stdout",
     "output_type": "stream",
     "text": [
      "Deleting GSK_1min_parquet — only 1052 files found.\n"
     ]
    },
    {
     "name": "stderr",
     "output_type": "stream",
     "text": [
      " 33%|████████████▊                          | 1043/3171 [01:31<02:12, 16.10it/s]"
     ]
    },
    {
     "name": "stdout",
     "output_type": "stream",
     "text": [
      "Deleting GLUE_1min_parquet — only 872 files found.\n"
     ]
    },
    {
     "name": "stderr",
     "output_type": "stream",
     "text": [
      " 34%|█████████████                          | 1063/3171 [01:32<01:25, 24.55it/s]"
     ]
    },
    {
     "name": "stdout",
     "output_type": "stream",
     "text": [
      "Deleting GEV_1min_parquet — only 179 files found.\n",
      "Deleting FRGE_1min_parquet — only 971 files found.\n",
      "Deleting FNA_1min_parquet — only 793 files found.\n"
     ]
    },
    {
     "name": "stderr",
     "output_type": "stream",
     "text": [
      " 34%|█████████████▏                         | 1068/3171 [01:33<02:44, 12.79it/s]"
     ]
    },
    {
     "name": "stdout",
     "output_type": "stream",
     "text": [
      "Deleting FLUT_1min_parquet — only 220 files found.\n",
      "Deleting FLNC_1min_parquet — only 784 files found.\n",
      "Deleting MTAL_1min_parquet — only 730 files found.\n"
     ]
    },
    {
     "name": "stderr",
     "output_type": "stream",
     "text": [
      " 34%|█████████████▏                         | 1071/3171 [01:34<03:58,  8.80it/s]"
     ]
    },
    {
     "name": "stdout",
     "output_type": "stream",
     "text": [
      "Deleting MNDY_1min_parquet — only 882 files found.\n"
     ]
    },
    {
     "name": "stderr",
     "output_type": "stream",
     "text": [
      " 34%|█████████████▏                         | 1074/3171 [01:34<04:35,  7.62it/s]"
     ]
    },
    {
     "name": "stdout",
     "output_type": "stream",
     "text": [
      "Deleting GAMB_1min_parquet — only 852 files found.\n"
     ]
    },
    {
     "name": "stderr",
     "output_type": "stream",
     "text": [
      " 34%|█████████████▎                         | 1079/3171 [01:35<04:22,  7.98it/s]"
     ]
    },
    {
     "name": "stdout",
     "output_type": "stream",
     "text": [
      "Deleting CVRX_1min_parquet — only 868 files found.\n"
     ]
    },
    {
     "name": "stderr",
     "output_type": "stream",
     "text": [
      " 34%|█████████████▎                         | 1086/3171 [01:35<03:27, 10.05it/s]"
     ]
    },
    {
     "name": "stdout",
     "output_type": "stream",
     "text": [
      "Deleting IBTA_1min_parquet — only 164 files found.\n",
      "Deleting LESL_1min_parquet — only 1033 files found.\n"
     ]
    },
    {
     "name": "stderr",
     "output_type": "stream",
     "text": [
      " 34%|█████████████▍                         | 1091/3171 [01:36<03:34,  9.70it/s]"
     ]
    },
    {
     "name": "stdout",
     "output_type": "stream",
     "text": [
      "Deleting LENZ_1min_parquet — only 871 files found.\n"
     ]
    },
    {
     "name": "stderr",
     "output_type": "stream",
     "text": [
      " 34%|█████████████▍                         | 1093/3171 [01:36<04:19,  8.01it/s]"
     ]
    },
    {
     "name": "stdout",
     "output_type": "stream",
     "text": [
      "Deleting LB_1min_parquet — only 115 files found.\n",
      "Deleting KVYO_1min_parquet — only 309 files found.\n"
     ]
    },
    {
     "name": "stderr",
     "output_type": "stream",
     "text": [
      " 35%|█████████████▋                         | 1108/3171 [01:37<01:41, 20.37it/s]"
     ]
    },
    {
     "name": "stdout",
     "output_type": "stream",
     "text": [
      "Deleting FREY_1min_parquet — only 1051 files found.\n",
      "Deleting FRSH_1min_parquet — only 810 files found.\n"
     ]
    },
    {
     "name": "stderr",
     "output_type": "stream",
     "text": [
      " 35%|█████████████▋                         | 1113/3171 [01:38<02:52, 11.94it/s]"
     ]
    },
    {
     "name": "stdout",
     "output_type": "stream",
     "text": [
      "Deleting FLYW_1min_parquet — only 892 files found.\n"
     ]
    },
    {
     "name": "stderr",
     "output_type": "stream",
     "text": [
      " 36%|█████████████▊                         | 1128/3171 [01:38<02:14, 15.16it/s]"
     ]
    },
    {
     "name": "stdout",
     "output_type": "stream",
     "text": [
      "Deleting MSGE_1min_parquet — only 413 files found.\n",
      "Deleting MRX_1min_parquet — only 159 files found.\n"
     ]
    },
    {
     "name": "stderr",
     "output_type": "stream",
     "text": [
      " 36%|█████████████▉                         | 1133/3171 [01:39<01:51, 18.26it/s]"
     ]
    },
    {
     "name": "stdout",
     "output_type": "stream",
     "text": [
      "Deleting GCT_1min_parquet — only 582 files found.\n"
     ]
    },
    {
     "name": "stderr",
     "output_type": "stream",
     "text": [
      " 36%|█████████████▉                         | 1137/3171 [01:39<02:03, 16.53it/s]"
     ]
    },
    {
     "name": "stdout",
     "output_type": "stream",
     "text": [
      "Deleting MNMD_1min_parquet — only 913 files found.\n"
     ]
    },
    {
     "name": "stderr",
     "output_type": "stream",
     "text": [
      " 36%|██████████████                         | 1140/3171 [01:39<02:38, 12.84it/s]"
     ]
    },
    {
     "name": "stdout",
     "output_type": "stream",
     "text": [
      "Deleting CWH_1min_parquet — only 990 files found.\n"
     ]
    },
    {
     "name": "stderr",
     "output_type": "stream",
     "text": [
      " 36%|██████████████                         | 1143/3171 [01:40<03:17, 10.26it/s]"
     ]
    },
    {
     "name": "stdout",
     "output_type": "stream",
     "text": [
      "Deleting EVCM_1min_parquet — only 867 files found.\n",
      "Deleting CWAN_1min_parquet — only 808 files found.\n"
     ]
    },
    {
     "name": "stderr",
     "output_type": "stream",
     "text": [
      " 36%|██████████████                         | 1145/3171 [01:41<05:02,  6.69it/s]"
     ]
    },
    {
     "name": "stdout",
     "output_type": "stream",
     "text": [
      "Deleting ICLK_1min_parquet — only 1054 files found.\n"
     ]
    },
    {
     "name": "stderr",
     "output_type": "stream",
     "text": [
      " 36%|██████████████▏                        | 1157/3171 [01:41<02:38, 12.74it/s]"
     ]
    },
    {
     "name": "stdout",
     "output_type": "stream",
     "text": [
      "Deleting LTM_1min_parquet — only 97 files found.\n"
     ]
    },
    {
     "name": "stderr",
     "output_type": "stream",
     "text": [
      " 37%|██████████████▌                        | 1179/3171 [01:41<01:00, 33.17it/s]"
     ]
    },
    {
     "name": "stdout",
     "output_type": "stream",
     "text": [
      "Deleting MNSO_1min_parquet — only 1045 files found.\n"
     ]
    },
    {
     "name": "stderr",
     "output_type": "stream",
     "text": [
      " 37%|██████████████▌                        | 1187/3171 [01:42<01:21, 24.38it/s]"
     ]
    },
    {
     "name": "stdout",
     "output_type": "stream",
     "text": [
      "Deleting LTH_1min_parquet — only 799 files found.\n",
      "Deleting LPA_1min_parquet — only 870 files found.\n"
     ]
    },
    {
     "name": "stderr",
     "output_type": "stream",
     "text": [
      " 38%|██████████████▋                        | 1193/3171 [01:43<02:27, 13.38it/s]"
     ]
    },
    {
     "name": "stdout",
     "output_type": "stream",
     "text": [
      "Deleting LOAR_1min_parquet — only 159 files found.\n",
      "Deleting LINE_1min_parquet — only 97 files found.\n",
      "Deleting LIF_1min_parquet — only 130 files found.\n"
     ]
    },
    {
     "name": "stderr",
     "output_type": "stream",
     "text": [
      " 38%|██████████████▋                        | 1198/3171 [01:43<02:08, 15.38it/s]"
     ]
    },
    {
     "name": "stdout",
     "output_type": "stream",
     "text": [
      "Deleting KOSS_1min_parquet — only 1053 files found.\n"
     ]
    },
    {
     "name": "stderr",
     "output_type": "stream",
     "text": [
      " 38%|██████████████▊                        | 1202/3171 [01:44<02:43, 12.04it/s]"
     ]
    },
    {
     "name": "stdout",
     "output_type": "stream",
     "text": [
      "Deleting MQ_1min_parquet — only 883 files found.\n"
     ]
    },
    {
     "name": "stderr",
     "output_type": "stream",
     "text": [
      " 38%|██████████████▉                        | 1218/3171 [01:44<01:43, 18.86it/s]"
     ]
    },
    {
     "name": "stdout",
     "output_type": "stream",
     "text": [
      "Deleting GBDC_1min_parquet — only 990 files found.\n"
     ]
    },
    {
     "name": "stderr",
     "output_type": "stream",
     "text": [
      " 39%|███████████████                        | 1227/3171 [01:45<01:46, 18.30it/s]"
     ]
    },
    {
     "name": "stdout",
     "output_type": "stream",
     "text": [
      "Deleting EVGO_1min_parquet — only 1019 files found.\n"
     ]
    },
    {
     "name": "stderr",
     "output_type": "stream",
     "text": [
      " 39%|███████████████▏                       | 1231/3171 [01:46<02:10, 14.86it/s]"
     ]
    },
    {
     "name": "stdout",
     "output_type": "stream",
     "text": [
      "Deleting MLNK_1min_parquet — only 849 files found.\n",
      "Deleting GATO_1min_parquet — only 1033 files found.\n"
     ]
    },
    {
     "name": "stderr",
     "output_type": "stream",
     "text": [
      " 39%|███████████████▏                       | 1234/3171 [01:46<03:26,  9.39it/s]"
     ]
    },
    {
     "name": "stdout",
     "output_type": "stream",
     "text": [
      "Deleting MLTX_1min_parquet — only 679 files found.\n"
     ]
    },
    {
     "name": "stderr",
     "output_type": "stream",
     "text": [
      " 39%|███████████████▎                       | 1247/3171 [01:47<01:59, 16.14it/s]"
     ]
    },
    {
     "name": "stdout",
     "output_type": "stream",
     "text": [
      "Deleting MKFG_1min_parquet — only 1049 files found.\n"
     ]
    },
    {
     "name": "stderr",
     "output_type": "stream",
     "text": [
      " 40%|███████████████▌                       | 1264/3171 [01:48<01:24, 22.54it/s]"
     ]
    },
    {
     "name": "stdout",
     "output_type": "stream",
     "text": [
      "Deleting LOGC_1min_parquet — only 1002 files found.\n"
     ]
    },
    {
     "name": "stderr",
     "output_type": "stream",
     "text": [
      " 40%|███████████████▌                       | 1270/3171 [01:48<01:49, 17.38it/s]"
     ]
    },
    {
     "name": "stdout",
     "output_type": "stream",
     "text": [
      "Deleting LLYVK_1min_parquet — only 238 files found.\n",
      "Deleting KSPI_1min_parquet — only 226 files found.\n"
     ]
    },
    {
     "name": "stderr",
     "output_type": "stream",
     "text": [
      " 40%|███████████████▋                       | 1275/3171 [01:48<01:46, 17.76it/s]"
     ]
    },
    {
     "name": "stdout",
     "output_type": "stream",
     "text": [
      "Deleting CURB_1min_parquet — only 29 files found.\n",
      "Deleting BETR_1min_parquet — only 818 files found.\n"
     ]
    },
    {
     "name": "stderr",
     "output_type": "stream",
     "text": [
      " 40%|███████████████▋                       | 1279/3171 [01:49<02:18, 13.67it/s]"
     ]
    },
    {
     "name": "stdout",
     "output_type": "stream",
     "text": [
      "Deleting KNF_1min_parquet — only 385 files found.\n",
      "Deleting PUBM_1min_parquet — only 1007 files found.\n"
     ]
    },
    {
     "name": "stderr",
     "output_type": "stream",
     "text": [
      " 41%|███████████████▊                       | 1285/3171 [01:49<02:24, 13.03it/s]"
     ]
    },
    {
     "name": "stdout",
     "output_type": "stream",
     "text": [
      "Deleting IRON_1min_parquet — only 1054 files found.\n"
     ]
    },
    {
     "name": "stderr",
     "output_type": "stream",
     "text": [
      " 41%|███████████████▊                       | 1290/3171 [01:50<02:38, 11.85it/s]"
     ]
    },
    {
     "name": "stdout",
     "output_type": "stream",
     "text": [
      "Deleting PROK_1min_parquet — only 864 files found.\n"
     ]
    },
    {
     "name": "stderr",
     "output_type": "stream",
     "text": [
      " 41%|███████████████▉                       | 1292/3171 [01:50<03:07, 10.03it/s]"
     ]
    },
    {
     "name": "stdout",
     "output_type": "stream",
     "text": [
      "Deleting PRME_1min_parquet — only 538 files found.\n",
      "Deleting PPTA_1min_parquet — only 960 files found.\n"
     ]
    },
    {
     "name": "stderr",
     "output_type": "stream",
     "text": [
      " 41%|███████████████▉                       | 1294/3171 [01:51<04:17,  7.28it/s]"
     ]
    },
    {
     "name": "stdout",
     "output_type": "stream",
     "text": [
      "Deleting KIND_1min_parquet — only 891 files found.\n"
     ]
    },
    {
     "name": "stderr",
     "output_type": "stream",
     "text": [
      " 41%|███████████████▉                       | 1297/3171 [01:52<04:22,  7.13it/s]"
     ]
    },
    {
     "name": "stdout",
     "output_type": "stream",
     "text": [
      "Deleting OTLY_1min_parquet — only 896 files found.\n"
     ]
    },
    {
     "name": "stderr",
     "output_type": "stream",
     "text": [
      " 41%|███████████████▉                       | 1299/3171 [01:52<04:47,  6.52it/s]"
     ]
    },
    {
     "name": "stdout",
     "output_type": "stream",
     "text": [
      "Deleting OLMA_1min_parquet — only 1020 files found.\n"
     ]
    },
    {
     "name": "stderr",
     "output_type": "stream",
     "text": [
      " 41%|████████████████                       | 1303/3171 [01:53<04:50,  6.42it/s]"
     ]
    },
    {
     "name": "stdout",
     "output_type": "stream",
     "text": [
      "Deleting ODD_1min_parquet — only 353 files found.\n",
      "Deleting OB_1min_parquet — only 852 files found.\n"
     ]
    },
    {
     "name": "stderr",
     "output_type": "stream",
     "text": [
      " 41%|████████████████                       | 1304/3171 [01:53<05:54,  5.26it/s]"
     ]
    },
    {
     "name": "stdout",
     "output_type": "stream",
     "text": [
      "Deleting FWRG_1min_parquet — only 803 files found.\n"
     ]
    },
    {
     "name": "stderr",
     "output_type": "stream",
     "text": [
      " 42%|████████████████▎                      | 1325/3171 [01:54<01:36, 19.11it/s]"
     ]
    },
    {
     "name": "stdout",
     "output_type": "stream",
     "text": [
      "Deleting LXEO_1min_parquet — only 277 files found.\n",
      "Deleting LU_1min_parquet — only 1033 files found.\n"
     ]
    },
    {
     "name": "stderr",
     "output_type": "stream",
     "text": [
      " 42%|████████████████▎                      | 1329/3171 [01:54<02:09, 14.23it/s]"
     ]
    },
    {
     "name": "stdout",
     "output_type": "stream",
     "text": [
      "Deleting LUNR_1min_parquet — only 459 files found.\n"
     ]
    },
    {
     "name": "stderr",
     "output_type": "stream",
     "text": [
      " 42%|████████████████▍                      | 1332/3171 [01:54<02:12, 13.86it/s]"
     ]
    },
    {
     "name": "stdout",
     "output_type": "stream",
     "text": [
      "Deleting LXRX_1min_parquet — only 1054 files found.\n"
     ]
    },
    {
     "name": "stderr",
     "output_type": "stream",
     "text": [
      " 43%|████████████████▋                      | 1355/3171 [01:55<01:00, 30.15it/s]"
     ]
    },
    {
     "name": "stdout",
     "output_type": "stream",
     "text": [
      "Deleting LFMD_1min_parquet — only 958 files found.\n"
     ]
    },
    {
     "name": "stderr",
     "output_type": "stream",
     "text": [
      " 43%|████████████████▊                      | 1366/3171 [01:56<01:15, 23.90it/s]"
     ]
    },
    {
     "name": "stdout",
     "output_type": "stream",
     "text": [
      "Deleting LFST_1min_parquet — only 882 files found.\n"
     ]
    },
    {
     "name": "stderr",
     "output_type": "stream",
     "text": [
      " 43%|████████████████▊                      | 1371/3171 [01:56<01:32, 19.52it/s]"
     ]
    },
    {
     "name": "stdout",
     "output_type": "stream",
     "text": [
      "Deleting LDI_1min_parquet — only 964 files found.\n",
      "Deleting LASE_1min_parquet — only 552 files found.\n"
     ]
    },
    {
     "name": "stderr",
     "output_type": "stream",
     "text": [
      " 43%|████████████████▉                      | 1375/3171 [01:57<02:17, 13.08it/s]"
     ]
    },
    {
     "name": "stdout",
     "output_type": "stream",
     "text": [
      "Deleting KYTX_1min_parquet — only 212 files found.\n",
      "Deleting BFLY_1min_parquet — only 1054 files found.\n"
     ]
    },
    {
     "name": "stderr",
     "output_type": "stream",
     "text": [
      " 44%|████████████████▉                      | 1381/3171 [01:58<02:40, 11.15it/s]"
     ]
    },
    {
     "name": "stdout",
     "output_type": "stream",
     "text": [
      "Deleting FTRE_1min_parquet — only 372 files found.\n"
     ]
    },
    {
     "name": "stderr",
     "output_type": "stream",
     "text": [
      " 44%|█████████████████                      | 1386/3171 [01:58<02:09, 13.81it/s]"
     ]
    },
    {
     "name": "stdout",
     "output_type": "stream",
     "text": [
      "Deleting KLG_1min_parquet — only 304 files found.\n"
     ]
    },
    {
     "name": "stderr",
     "output_type": "stream",
     "text": [
      " 44%|█████████████████▏                     | 1397/3171 [01:58<01:12, 24.53it/s]"
     ]
    },
    {
     "name": "stdout",
     "output_type": "stream",
     "text": [
      "Deleting LAW_1min_parquet — only 854 files found.\n"
     ]
    },
    {
     "name": "stderr",
     "output_type": "stream",
     "text": [
      " 44%|█████████████████▎                     | 1411/3171 [01:58<01:04, 27.42it/s]"
     ]
    },
    {
     "name": "stdout",
     "output_type": "stream",
     "text": [
      "Deleting KVUE_1min_parquet — only 404 files found.\n"
     ]
    },
    {
     "name": "stderr",
     "output_type": "stream",
     "text": [
      " 45%|█████████████████▍                     | 1417/3171 [01:59<01:10, 24.82it/s]"
     ]
    },
    {
     "name": "stdout",
     "output_type": "stream",
     "text": [
      "Deleting CURV_1min_parquet — only 867 files found.\n"
     ]
    },
    {
     "name": "stderr",
     "output_type": "stream",
     "text": [
      " 45%|█████████████████▌                     | 1423/3171 [01:59<01:30, 19.38it/s]"
     ]
    },
    {
     "name": "stdout",
     "output_type": "stream",
     "text": [
      "Deleting JANX_1min_parquet — only 881 files found.\n"
     ]
    },
    {
     "name": "stderr",
     "output_type": "stream",
     "text": [
      " 45%|█████████████████▌                     | 1432/3171 [02:00<01:33, 18.69it/s]"
     ]
    },
    {
     "name": "stdout",
     "output_type": "stream",
     "text": [
      "Deleting IVT_1min_parquet — only 796 files found.\n",
      "Deleting ISPO_1min_parquet — only 954 files found.\n"
     ]
    },
    {
     "name": "stderr",
     "output_type": "stream",
     "text": [
      " 45%|█████████████████▋                     | 1435/3171 [02:01<02:34, 11.24it/s]"
     ]
    },
    {
     "name": "stdout",
     "output_type": "stream",
     "text": [
      "Deleting IREN_1min_parquet — only 770 files found.\n"
     ]
    },
    {
     "name": "stderr",
     "output_type": "stream",
     "text": [
      " 45%|█████████████████▋                     | 1438/3171 [02:01<02:48, 10.28it/s]"
     ]
    },
    {
     "name": "stdout",
     "output_type": "stream",
     "text": [
      "Deleting PSQH_1min_parquet — only 585 files found.\n"
     ]
    },
    {
     "name": "stderr",
     "output_type": "stream",
     "text": [
      " 45%|█████████████████▋                     | 1440/3171 [02:01<02:57,  9.74it/s]"
     ]
    },
    {
     "name": "stdout",
     "output_type": "stream",
     "text": [
      "Deleting PL_1min_parquet — only 912 files found.\n"
     ]
    },
    {
     "name": "stderr",
     "output_type": "stream",
     "text": [
      " 45%|█████████████████▋                     | 1442/3171 [02:02<03:29,  8.26it/s]"
     ]
    },
    {
     "name": "stdout",
     "output_type": "stream",
     "text": [
      "Deleting KRON_1min_parquet — only 1049 files found.\n"
     ]
    },
    {
     "name": "stderr",
     "output_type": "stream",
     "text": [
      " 46%|██████████████████                     | 1471/3171 [02:02<01:00, 28.01it/s]"
     ]
    },
    {
     "name": "stdout",
     "output_type": "stream",
     "text": [
      "Deleting FUBO_1min_parquet — only 1050 files found.\n"
     ]
    },
    {
     "name": "stderr",
     "output_type": "stream",
     "text": [
      " 47%|██████████████████▏                    | 1478/3171 [02:03<01:24, 20.11it/s]"
     ]
    },
    {
     "name": "stdout",
     "output_type": "stream",
     "text": [
      "Deleting IAS_1min_parquet — only 868 files found.\n"
     ]
    },
    {
     "name": "stderr",
     "output_type": "stream",
     "text": [
      " 47%|██████████████████▍                    | 1504/3171 [02:04<00:47, 35.03it/s]"
     ]
    },
    {
     "name": "stdout",
     "output_type": "stream",
     "text": [
      "Deleting KLTR_1min_parquet — only 854 files found.\n"
     ]
    },
    {
     "name": "stderr",
     "output_type": "stream",
     "text": [
      " 48%|██████████████████▌                    | 1511/3171 [02:04<01:05, 25.15it/s]"
     ]
    },
    {
     "name": "stdout",
     "output_type": "stream",
     "text": [
      "Deleting PSEC_1min_parquet — only 1031 files found.\n"
     ]
    },
    {
     "name": "stderr",
     "output_type": "stream",
     "text": [
      " 48%|██████████████████▋                    | 1522/3171 [02:05<01:13, 22.58it/s]"
     ]
    },
    {
     "name": "stdout",
     "output_type": "stream",
     "text": [
      "Deleting PSFE_1min_parquet — only 1049 files found.\n"
     ]
    },
    {
     "name": "stderr",
     "output_type": "stream",
     "text": [
      " 48%|██████████████████▊                    | 1527/3171 [02:05<01:31, 18.02it/s]"
     ]
    },
    {
     "name": "stdout",
     "output_type": "stream",
     "text": [
      "Deleting PRVA_1min_parquet — only 911 files found.\n",
      "Deleting PRCT_1min_parquet — only 815 files found.\n",
      "Deleting PLTK_1min_parquet — only 982 files found.\n"
     ]
    },
    {
     "name": "stderr",
     "output_type": "stream",
     "text": [
      " 48%|██████████████████▉                    | 1537/3171 [02:07<02:07, 12.77it/s]"
     ]
    },
    {
     "name": "stdout",
     "output_type": "stream",
     "text": [
      "Deleting KLC_1min_parquet — only 44 files found.\n",
      "Deleting OS_1min_parquet — only 98 files found.\n",
      "Deleting OCFT_1min_parquet — only 1054 files found.\n"
     ]
    },
    {
     "name": "stderr",
     "output_type": "stream",
     "text": [
      " 49%|██████████████████▉                    | 1541/3171 [02:07<02:24, 11.31it/s]"
     ]
    },
    {
     "name": "stdout",
     "output_type": "stream",
     "text": [
      "Deleting NBXG_1min_parquet — only 892 files found.\n"
     ]
    },
    {
     "name": "stderr",
     "output_type": "stream",
     "text": [
      " 49%|███████████████████                    | 1553/3171 [02:08<01:47, 15.03it/s]"
     ]
    },
    {
     "name": "stdout",
     "output_type": "stream",
     "text": [
      "Deleting NAUT_1min_parquet — only 1052 files found.\n"
     ]
    },
    {
     "name": "stderr",
     "output_type": "stream",
     "text": [
      " 50%|███████████████████▍                   | 1584/3171 [02:08<00:46, 33.93it/s]"
     ]
    },
    {
     "name": "stdout",
     "output_type": "stream",
     "text": [
      "Deleting PTLO_1min_parquet — only 789 files found.\n",
      "Deleting PRM_1min_parquet — only 776 files found.\n",
      "Deleting PRAX_1min_parquet — only 1044 files found.\n"
     ]
    },
    {
     "name": "stderr",
     "output_type": "stream",
     "text": [
      " 50%|███████████████████▌                   | 1591/3171 [02:10<01:50, 14.35it/s]"
     ]
    },
    {
     "name": "stdout",
     "output_type": "stream",
     "text": [
      "Deleting PKST_1min_parquet — only 418 files found.\n",
      "Deleting FTEL_1min_parquet — only 339 files found.\n"
     ]
    },
    {
     "name": "stderr",
     "output_type": "stream",
     "text": [
      " 51%|███████████████████▊                   | 1607/3171 [02:10<01:14, 21.08it/s]"
     ]
    },
    {
     "name": "stdout",
     "output_type": "stream",
     "text": [
      "Deleting CTRI_1min_parquet — only 164 files found.\n"
     ]
    },
    {
     "name": "stderr",
     "output_type": "stream",
     "text": [
      " 51%|███████████████████▉                   | 1616/3171 [02:10<00:55, 27.83it/s]"
     ]
    },
    {
     "name": "stdout",
     "output_type": "stream",
     "text": [
      "Deleting PMTS_1min_parquet — only 1053 files found.\n"
     ]
    },
    {
     "name": "stderr",
     "output_type": "stream",
     "text": [
      " 51%|███████████████████▉                   | 1623/3171 [02:11<01:14, 20.86it/s]"
     ]
    },
    {
     "name": "stdout",
     "output_type": "stream",
     "text": [
      "Deleting ERAS_1min_parquet — only 857 files found.\n"
     ]
    },
    {
     "name": "stderr",
     "output_type": "stream",
     "text": [
      " 51%|████████████████████                   | 1632/3171 [02:11<01:21, 18.98it/s]"
     ]
    },
    {
     "name": "stdout",
     "output_type": "stream",
     "text": [
      "Deleting ONTF_1min_parquet — only 970 files found.\n"
     ]
    },
    {
     "name": "stderr",
     "output_type": "stream",
     "text": [
      " 52%|████████████████████                   | 1636/3171 [02:12<01:38, 15.60it/s]"
     ]
    },
    {
     "name": "stdout",
     "output_type": "stream",
     "text": [
      "Deleting PHVS_1min_parquet — only 955 files found.\n"
     ]
    },
    {
     "name": "stderr",
     "output_type": "stream",
     "text": [
      " 52%|████████████████████▎                  | 1648/3171 [02:13<01:33, 16.34it/s]"
     ]
    },
    {
     "name": "stdout",
     "output_type": "stream",
     "text": [
      "Deleting PHIN_1min_parquet — only 367 files found.\n",
      "Deleting ESAB_1min_parquet — only 675 files found.\n"
     ]
    },
    {
     "name": "stderr",
     "output_type": "stream",
     "text": [
      " 52%|████████████████████▎                  | 1654/3171 [02:13<01:32, 16.35it/s]"
     ]
    },
    {
     "name": "stdout",
     "output_type": "stream",
     "text": [
      "Deleting ERO_1min_parquet — only 814 files found.\n"
     ]
    },
    {
     "name": "stderr",
     "output_type": "stream",
     "text": [
      " 52%|████████████████████▍                  | 1657/3171 [02:13<01:50, 13.73it/s]"
     ]
    },
    {
     "name": "stdout",
     "output_type": "stream",
     "text": [
      "Deleting HYLN_1min_parquet — only 1054 files found.\n"
     ]
    },
    {
     "name": "stderr",
     "output_type": "stream",
     "text": [
      " 52%|████████████████████▍                  | 1663/3171 [02:14<01:58, 12.74it/s]"
     ]
    },
    {
     "name": "stdout",
     "output_type": "stream",
     "text": [
      "Deleting BEDU_1min_parquet — only 1030 files found.\n"
     ]
    },
    {
     "name": "stderr",
     "output_type": "stream",
     "text": [
      " 53%|████████████████████▍                  | 1665/3171 [02:14<02:31,  9.94it/s]"
     ]
    },
    {
     "name": "stdout",
     "output_type": "stream",
     "text": [
      "Deleting FTCI_1min_parquet — only 912 files found.\n"
     ]
    },
    {
     "name": "stderr",
     "output_type": "stream",
     "text": [
      " 53%|████████████████████▌                  | 1667/3171 [02:15<02:59,  8.36it/s]"
     ]
    },
    {
     "name": "stdout",
     "output_type": "stream",
     "text": [
      "Deleting PGY_1min_parquet — only 621 files found.\n"
     ]
    },
    {
     "name": "stderr",
     "output_type": "stream",
     "text": [
      " 53%|████████████████████▌                  | 1669/3171 [02:15<03:07,  8.03it/s]"
     ]
    },
    {
     "name": "stdout",
     "output_type": "stream",
     "text": [
      "Deleting KINS_1min_parquet — only 1054 files found.\n"
     ]
    },
    {
     "name": "stderr",
     "output_type": "stream",
     "text": [
      " 53%|████████████████████▌                  | 1674/3171 [02:16<02:53,  8.62it/s]"
     ]
    },
    {
     "name": "stdout",
     "output_type": "stream",
     "text": [
      "Deleting CTKB_1min_parquet — only 852 files found.\n"
     ]
    },
    {
     "name": "stderr",
     "output_type": "stream",
     "text": [
      " 53%|████████████████████▋                  | 1687/3171 [02:16<01:55, 12.86it/s]"
     ]
    },
    {
     "name": "stdout",
     "output_type": "stream",
     "text": [
      "Deleting KGS_1min_parquet — only 366 files found.\n",
      "Deleting OWL_1min_parquet — only 1004 files found.\n"
     ]
    },
    {
     "name": "stderr",
     "output_type": "stream",
     "text": [
      " 54%|████████████████████▉                  | 1699/3171 [02:17<01:30, 16.19it/s]"
     ]
    },
    {
     "name": "stdout",
     "output_type": "stream",
     "text": [
      "Deleting OUST_1min_parquet — only 1042 files found.\n"
     ]
    },
    {
     "name": "stderr",
     "output_type": "stream",
     "text": [
      " 54%|████████████████████▉                  | 1706/3171 [02:17<01:33, 15.63it/s]"
     ]
    },
    {
     "name": "stdout",
     "output_type": "stream",
     "text": [
      "Deleting OKLO_1min_parquet — only 148 files found.\n",
      "Deleting NWTN_1min_parquet — only 521 files found.\n"
     ]
    },
    {
     "name": "stderr",
     "output_type": "stream",
     "text": [
      " 54%|█████████████████████                  | 1709/3171 [02:18<01:39, 14.76it/s]"
     ]
    },
    {
     "name": "stdout",
     "output_type": "stream",
     "text": [
      "Deleting NRGV_1min_parquet — only 928 files found.\n"
     ]
    },
    {
     "name": "stderr",
     "output_type": "stream",
     "text": [
      " 54%|█████████████████████                  | 1716/3171 [02:18<01:53, 12.78it/s]"
     ]
    },
    {
     "name": "stdout",
     "output_type": "stream",
     "text": [
      "Deleting NPWR_1min_parquet — only 379 files found.\n"
     ]
    },
    {
     "name": "stderr",
     "output_type": "stream",
     "text": [
      " 54%|█████████████████████▏                 | 1726/3171 [02:18<01:01, 23.47it/s]"
     ]
    },
    {
     "name": "stdout",
     "output_type": "stream",
     "text": [
      "Deleting OSCR_1min_parquet — only 951 files found.\n"
     ]
    },
    {
     "name": "stderr",
     "output_type": "stream",
     "text": [
      " 55%|█████████████████████▎                 | 1731/3171 [02:19<01:30, 15.99it/s]"
     ]
    },
    {
     "name": "stdout",
     "output_type": "stream",
     "text": [
      "Deleting ONL_1min_parquet — only 777 files found.\n"
     ]
    },
    {
     "name": "stderr",
     "output_type": "stream",
     "text": [
      " 55%|█████████████████████▍                 | 1740/3171 [02:19<01:19, 17.89it/s]"
     ]
    },
    {
     "name": "stdout",
     "output_type": "stream",
     "text": [
      "Deleting ONDS_1min_parquet — only 1010 files found.\n"
     ]
    },
    {
     "name": "stderr",
     "output_type": "stream",
     "text": [
      " 55%|█████████████████████▍                 | 1743/3171 [02:20<01:43, 13.76it/s]"
     ]
    },
    {
     "name": "stdout",
     "output_type": "stream",
     "text": [
      "Deleting OPAD_1min_parquet — only 1005 files found.\n"
     ]
    },
    {
     "name": "stderr",
     "output_type": "stream",
     "text": [
      " 55%|█████████████████████▍                 | 1746/3171 [02:20<02:06, 11.23it/s]"
     ]
    },
    {
     "name": "stdout",
     "output_type": "stream",
     "text": [
      "Deleting ONON_1min_parquet — only 815 files found.\n"
     ]
    },
    {
     "name": "stderr",
     "output_type": "stream",
     "text": [
      " 55%|█████████████████████▋                 | 1759/3171 [02:21<01:14, 19.07it/s]"
     ]
    },
    {
     "name": "stdout",
     "output_type": "stream",
     "text": [
      "Deleting OLO_1min_parquet — only 941 files found.\n",
      "Deleting OLPX_1min_parquet — only 804 files found.\n"
     ]
    },
    {
     "name": "stderr",
     "output_type": "stream",
     "text": [
      " 56%|█████████████████████▋                 | 1764/3171 [02:22<01:59, 11.79it/s]"
     ]
    },
    {
     "name": "stdout",
     "output_type": "stream",
     "text": [
      "Deleting OGN_1min_parquet — only 900 files found.\n"
     ]
    },
    {
     "name": "stderr",
     "output_type": "stream",
     "text": [
      " 56%|█████████████████████▊                 | 1769/3171 [02:22<02:01, 11.58it/s]"
     ]
    },
    {
     "name": "stdout",
     "output_type": "stream",
     "text": [
      "Deleting OBE_1min_parquet — only 720 files found.\n"
     ]
    },
    {
     "name": "stderr",
     "output_type": "stream",
     "text": [
      " 56%|█████████████████████▊                 | 1776/3171 [02:23<01:45, 13.20it/s]"
     ]
    },
    {
     "name": "stdout",
     "output_type": "stream",
     "text": [
      "Deleting NXT_1min_parquet — only 462 files found.\n"
     ]
    },
    {
     "name": "stderr",
     "output_type": "stream",
     "text": [
      " 56%|█████████████████████▉                 | 1786/3171 [02:23<01:19, 17.48it/s]"
     ]
    },
    {
     "name": "stdout",
     "output_type": "stream",
     "text": [
      "Deleting NWG_1min_parquet — only 1053 files found.\n"
     ]
    },
    {
     "name": "stderr",
     "output_type": "stream",
     "text": [
      " 57%|██████████████████████                 | 1792/3171 [02:24<01:30, 15.16it/s]"
     ]
    },
    {
     "name": "stdout",
     "output_type": "stream",
     "text": [
      "Deleting NVTS_1min_parquet — only 790 files found.\n",
      "Deleting NRDS_1min_parquet — only 779 files found.\n"
     ]
    },
    {
     "name": "stderr",
     "output_type": "stream",
     "text": [
      " 57%|██████████████████████▏                | 1800/3171 [02:24<01:40, 13.62it/s]"
     ]
    },
    {
     "name": "stdout",
     "output_type": "stream",
     "text": [
      "Deleting NNE_1min_parquet — only 150 files found.\n",
      "Deleting ME_1min_parquet — only 877 files found.\n"
     ]
    },
    {
     "name": "stderr",
     "output_type": "stream",
     "text": [
      " 57%|██████████████████████▎                | 1812/3171 [02:25<01:11, 19.07it/s]"
     ]
    },
    {
     "name": "stdout",
     "output_type": "stream",
     "text": [
      "Deleting NUVB_1min_parquet — only 1053 files found.\n",
      "Deleting NUVL_1min_parquet — only 848 files found.\n"
     ]
    },
    {
     "name": "stderr",
     "output_type": "stream",
     "text": [
      " 58%|██████████████████████▍                | 1827/3171 [02:26<01:13, 18.34it/s]"
     ]
    },
    {
     "name": "stdout",
     "output_type": "stream",
     "text": [
      "Deleting NRDY_1min_parquet — only 1013 files found.\n"
     ]
    },
    {
     "name": "stderr",
     "output_type": "stream",
     "text": [
      " 58%|██████████████████████▌                | 1834/3171 [02:26<01:25, 15.56it/s]"
     ]
    },
    {
     "name": "stdout",
     "output_type": "stream",
     "text": [
      "Deleting FSK_1min_parquet — only 990 files found.\n"
     ]
    },
    {
     "name": "stderr",
     "output_type": "stream",
     "text": [
      " 59%|██████████████████████▊                | 1856/3171 [02:27<00:57, 22.95it/s]"
     ]
    },
    {
     "name": "stdout",
     "output_type": "stream",
     "text": [
      "Deleting NATL_1min_parquet — only 294 files found.\n",
      "Deleting SRAD_1min_parquet — only 816 files found.\n",
      "Deleting SPRY_1min_parquet — only 1010 files found.\n"
     ]
    },
    {
     "name": "stderr",
     "output_type": "stream",
     "text": [
      " 59%|██████████████████████▉                | 1861/3171 [02:28<01:35, 13.71it/s]"
     ]
    },
    {
     "name": "stdout",
     "output_type": "stream",
     "text": [
      "Deleting HTZ_1min_parquet — only 776 files found.\n",
      "Deleting ENVX_1min_parquet — only 985 files found.\n"
     ]
    },
    {
     "name": "stderr",
     "output_type": "stream",
     "text": [
      " 59%|██████████████████████▉                | 1865/3171 [02:29<02:12,  9.84it/s]"
     ]
    },
    {
     "name": "stdout",
     "output_type": "stream",
     "text": [
      "Deleting SMRT_1min_parquet — only 829 files found.\n",
      "Deleting SIEB_1min_parquet — only 1053 files found.\n"
     ]
    },
    {
     "name": "stderr",
     "output_type": "stream",
     "text": [
      " 59%|██████████████████████▉                | 1868/3171 [02:30<02:56,  7.39it/s]"
     ]
    },
    {
     "name": "stdout",
     "output_type": "stream",
     "text": [
      "Deleting SDIG_1min_parquet — only 790 files found.\n"
     ]
    },
    {
     "name": "stderr",
     "output_type": "stream",
     "text": [
      " 59%|███████████████████████                | 1872/3171 [02:30<02:43,  7.96it/s]"
     ]
    },
    {
     "name": "stdout",
     "output_type": "stream",
     "text": [
      "Deleting HUT_1min_parquet — only 879 files found.\n"
     ]
    },
    {
     "name": "stderr",
     "output_type": "stream",
     "text": [
      " 59%|███████████████████████                | 1880/3171 [02:31<02:05, 10.25it/s]"
     ]
    },
    {
     "name": "stdout",
     "output_type": "stream",
     "text": [
      "Deleting NN_1min_parquet — only 783 files found.\n"
     ]
    },
    {
     "name": "stderr",
     "output_type": "stream",
     "text": [
      " 59%|███████████████████████▏               | 1884/3171 [02:31<02:05, 10.26it/s]"
     ]
    },
    {
     "name": "stdout",
     "output_type": "stream",
     "text": [
      "Deleting HUMA_1min_parquet — only 984 files found.\n"
     ]
    },
    {
     "name": "stderr",
     "output_type": "stream",
     "text": [
      " 60%|███████████████████████▎               | 1898/3171 [02:32<01:15, 16.89it/s]"
     ]
    },
    {
     "name": "stdout",
     "output_type": "stream",
     "text": [
      "Deleting NAMS_1min_parquet — only 514 files found.\n"
     ]
    },
    {
     "name": "stderr",
     "output_type": "stream",
     "text": [
      " 60%|███████████████████████▍               | 1906/3171 [02:32<01:09, 18.27it/s]"
     ]
    },
    {
     "name": "stdout",
     "output_type": "stream",
     "text": [
      "Deleting MYTE_1min_parquet — only 979 files found.\n"
     ]
    },
    {
     "name": "stderr",
     "output_type": "stream",
     "text": [
      " 61%|███████████████████████▌               | 1919/3171 [02:33<00:56, 22.01it/s]"
     ]
    },
    {
     "name": "stdout",
     "output_type": "stream",
     "text": [
      "Deleting SOBO_1min_parquet — only 45 files found.\n",
      "Deleting NABL_1min_parquet — only 855 files found.\n"
     ]
    },
    {
     "name": "stderr",
     "output_type": "stream",
     "text": [
      " 61%|███████████████████████▋               | 1924/3171 [02:33<01:08, 18.16it/s]"
     ]
    },
    {
     "name": "stdout",
     "output_type": "stream",
     "text": [
      "Deleting MYPS_1min_parquet — only 999 files found.\n"
     ]
    },
    {
     "name": "stderr",
     "output_type": "stream",
     "text": [
      " 61%|███████████████████████▋               | 1928/3171 [02:34<01:31, 13.63it/s]"
     ]
    },
    {
     "name": "stdout",
     "output_type": "stream",
     "text": [
      "Deleting MXCT_1min_parquet — only 847 files found.\n"
     ]
    },
    {
     "name": "stderr",
     "output_type": "stream",
     "text": [
      " 61%|███████████████████████▊               | 1939/3171 [02:34<01:15, 16.27it/s]"
     ]
    },
    {
     "name": "stdout",
     "output_type": "stream",
     "text": [
      "Deleting MTTR_1min_parquet — only 971 files found.\n"
     ]
    },
    {
     "name": "stderr",
     "output_type": "stream",
     "text": [
      " 61%|███████████████████████▉               | 1948/3171 [02:35<01:18, 15.52it/s]"
     ]
    },
    {
     "name": "stdout",
     "output_type": "stream",
     "text": [
      "Deleting SVV_1min_parquet — only 366 files found.\n"
     ]
    },
    {
     "name": "stderr",
     "output_type": "stream",
     "text": [
      " 62%|████████████████████████               | 1958/3171 [02:35<00:50, 23.95it/s]"
     ]
    },
    {
     "name": "stdout",
     "output_type": "stream",
     "text": [
      "Deleting SYM_1min_parquet — only 944 files found.\n",
      "Deleting S_1min_parquet — only 868 files found.\n"
     ]
    },
    {
     "name": "stderr",
     "output_type": "stream",
     "text": [
      " 62%|████████████████████████▏              | 1970/3171 [02:36<01:07, 17.81it/s]"
     ]
    },
    {
     "name": "stdout",
     "output_type": "stream",
     "text": [
      "Deleting SVCO_1min_parquet — only 149 files found.\n",
      "Deleting SWIM_1min_parquet — only 915 files found.\n"
     ]
    },
    {
     "name": "stderr",
     "output_type": "stream",
     "text": [
      " 62%|████████████████████████▎              | 1974/3171 [02:36<01:20, 14.96it/s]"
     ]
    },
    {
     "name": "stdout",
     "output_type": "stream",
     "text": [
      "Deleting STVN_1min_parquet — only 857 files found.\n"
     ]
    },
    {
     "name": "stderr",
     "output_type": "stream",
     "text": [
      " 63%|████████████████████████▍              | 1986/3171 [02:37<01:04, 18.29it/s]"
     ]
    },
    {
     "name": "stdout",
     "output_type": "stream",
     "text": [
      "Deleting SOLV_1min_parquet — only 180 files found.\n",
      "Deleting SNRE_1min_parquet — only 26 files found.\n",
      "Deleting SNCY_1min_parquet — only 941 files found.\n"
     ]
    },
    {
     "name": "stderr",
     "output_type": "stream",
     "text": [
      " 63%|████████████████████████▍              | 1990/3171 [02:37<01:19, 14.80it/s]"
     ]
    },
    {
     "name": "stdout",
     "output_type": "stream",
     "text": [
      "Deleting SPIR_1min_parquet — only 1031 files found.\n"
     ]
    },
    {
     "name": "stderr",
     "output_type": "stream",
     "text": [
      " 63%|████████████████████████▌              | 2002/3171 [02:38<01:08, 16.97it/s]"
     ]
    },
    {
     "name": "stdout",
     "output_type": "stream",
     "text": [
      "Deleting SOC_1min_parquet — only 207 files found.\n",
      "Deleting SOUN_1min_parquet — only 659 files found.\n"
     ]
    },
    {
     "name": "stderr",
     "output_type": "stream",
     "text": [
      " 63%|████████████████████████▋              | 2005/3171 [02:38<01:19, 14.70it/s]"
     ]
    },
    {
     "name": "stdout",
     "output_type": "stream",
     "text": [
      "Deleting SN_1min_parquet — only 345 files found.\n",
      "Deleting SOFI_1min_parquet — only 1012 files found.\n"
     ]
    },
    {
     "name": "stderr",
     "output_type": "stream",
     "text": [
      " 63%|████████████████████████▋              | 2008/3171 [02:39<01:53, 10.25it/s]"
     ]
    },
    {
     "name": "stdout",
     "output_type": "stream",
     "text": [
      "Deleting SNDA_1min_parquet — only 1037 files found.\n"
     ]
    },
    {
     "name": "stderr",
     "output_type": "stream",
     "text": [
      " 64%|█████████████████████████              | 2036/3171 [02:40<00:39, 28.43it/s]"
     ]
    },
    {
     "name": "stdout",
     "output_type": "stream",
     "text": [
      "Deleting STEM_1min_parquet — only 1050 files found.\n",
      "Deleting SST_1min_parquet — only 1053 files found.\n"
     ]
    },
    {
     "name": "stderr",
     "output_type": "stream",
     "text": [
      " 65%|█████████████████████████▏             | 2053/3171 [02:41<00:51, 21.78it/s]"
     ]
    },
    {
     "name": "stdout",
     "output_type": "stream",
     "text": [
      "Deleting SGMT_1min_parquet — only 356 files found.\n"
     ]
    },
    {
     "name": "stderr",
     "output_type": "stream",
     "text": [
      " 65%|█████████████████████████▎             | 2062/3171 [02:41<00:47, 23.58it/s]"
     ]
    },
    {
     "name": "stdout",
     "output_type": "stream",
     "text": [
      "Deleting SERV_1min_parquet — only 164 files found.\n",
      "Deleting SES_1min_parquet — only 952 files found.\n",
      "Deleting SDST_1min_parquet — only 109 files found.\n",
      "Deleting SATX_1min_parquet — only 684 files found.\n"
     ]
    },
    {
     "name": "stderr",
     "output_type": "stream",
     "text": [
      " 65%|█████████████████████████▍             | 2068/3171 [02:42<01:13, 15.07it/s]"
     ]
    },
    {
     "name": "stdout",
     "output_type": "stream",
     "text": [
      "Deleting SARO_1min_parquet — only 25 files found.\n",
      "Deleting SANA_1min_parquet — only 969 files found.\n",
      "Deleting RXST_1min_parquet — only 847 files found.\n"
     ]
    },
    {
     "name": "stderr",
     "output_type": "stream",
     "text": [
      " 65%|█████████████████████████▍             | 2072/3171 [02:43<01:41, 10.82it/s]"
     ]
    },
    {
     "name": "stdout",
     "output_type": "stream",
     "text": [
      "Deleting RLX_1min_parquet — only 978 files found.\n"
     ]
    },
    {
     "name": "stderr",
     "output_type": "stream",
     "text": [
      " 66%|█████████████████████████▌             | 2079/3171 [02:44<01:34, 11.58it/s]"
     ]
    },
    {
     "name": "stdout",
     "output_type": "stream",
     "text": [
      "Deleting RGC_1min_parquet — only 703 files found.\n"
     ]
    },
    {
     "name": "stderr",
     "output_type": "stream",
     "text": [
      " 66%|█████████████████████████▌             | 2082/3171 [02:44<01:38, 11.05it/s]"
     ]
    },
    {
     "name": "stdout",
     "output_type": "stream",
     "text": [
      "Deleting QRTEB_1min_parquet — only 994 files found.\n"
     ]
    },
    {
     "name": "stderr",
     "output_type": "stream",
     "text": [
      " 66%|█████████████████████████▊             | 2097/3171 [02:44<01:00, 17.90it/s]"
     ]
    },
    {
     "name": "stdout",
     "output_type": "stream",
     "text": [
      "Deleting CSQ_1min_parquet — only 1031 files found.\n"
     ]
    },
    {
     "name": "stderr",
     "output_type": "stream",
     "text": [
      " 66%|█████████████████████████▊             | 2103/3171 [02:45<01:11, 15.03it/s]"
     ]
    },
    {
     "name": "stdout",
     "output_type": "stream",
     "text": [
      "Deleting PEPG_1min_parquet — only 653 files found.\n"
     ]
    },
    {
     "name": "stderr",
     "output_type": "stream",
     "text": [
      " 66%|█████████████████████████▉             | 2107/3171 [02:45<01:20, 13.15it/s]"
     ]
    },
    {
     "name": "stdout",
     "output_type": "stream",
     "text": [
      "Deleting NMRA_1min_parquet — only 312 files found.\n",
      "Deleting SMWB_1min_parquet — only 902 files found.\n"
     ]
    },
    {
     "name": "stderr",
     "output_type": "stream",
     "text": [
      " 67%|█████████████████████████▉             | 2110/3171 [02:46<01:33, 11.35it/s]"
     ]
    },
    {
     "name": "stdout",
     "output_type": "stream",
     "text": [
      "Deleting MESO_1min_parquet — only 1043 files found.\n",
      "Deleting KD_1min_parquet — only 788 files found.\n"
     ]
    },
    {
     "name": "stderr",
     "output_type": "stream",
     "text": [
      " 67%|██████████████████████████             | 2123/3171 [02:47<01:13, 14.31it/s]"
     ]
    },
    {
     "name": "stdout",
     "output_type": "stream",
     "text": [
      "Deleting CSBR_1min_parquet — only 1037 files found.\n"
     ]
    },
    {
     "name": "stderr",
     "output_type": "stream",
     "text": [
      " 67%|██████████████████████████▏            | 2127/3171 [02:47<01:27, 11.90it/s]"
     ]
    },
    {
     "name": "stdout",
     "output_type": "stream",
     "text": [
      "Deleting SEMR_1min_parquet — only 935 files found.\n"
     ]
    },
    {
     "name": "stderr",
     "output_type": "stream",
     "text": [
      " 67%|██████████████████████████▏            | 2130/3171 [02:48<01:39, 10.44it/s]"
     ]
    },
    {
     "name": "stdout",
     "output_type": "stream",
     "text": [
      "Deleting SDA_1min_parquet — only 697 files found.\n"
     ]
    },
    {
     "name": "stderr",
     "output_type": "stream",
     "text": [
      " 67%|██████████████████████████▏            | 2133/3171 [02:48<01:42, 10.11it/s]"
     ]
    },
    {
     "name": "stdout",
     "output_type": "stream",
     "text": [
      "Deleting SCLX_1min_parquet — only 888 files found.\n",
      "Deleting PFX_1min_parquet — only 899 files found.\n"
     ]
    },
    {
     "name": "stderr",
     "output_type": "stream",
     "text": [
      " 67%|██████████████████████████▎            | 2135/3171 [02:49<02:36,  6.61it/s]"
     ]
    },
    {
     "name": "stdout",
     "output_type": "stream",
     "text": [
      "Deleting RSKD_1min_parquet — only 848 files found.\n"
     ]
    },
    {
     "name": "stderr",
     "output_type": "stream",
     "text": [
      " 67%|██████████████████████████▎            | 2137/3171 [02:49<02:45,  6.25it/s]"
     ]
    },
    {
     "name": "stdout",
     "output_type": "stream",
     "text": [
      "Deleting QXO_1min_parquet — only 1054 files found.\n"
     ]
    },
    {
     "name": "stderr",
     "output_type": "stream",
     "text": [
      " 68%|██████████████████████████▎            | 2144/3171 [02:50<02:02,  8.36it/s]"
     ]
    },
    {
     "name": "stdout",
     "output_type": "stream",
     "text": [
      "Deleting SMR_1min_parquet — only 656 files found.\n"
     ]
    },
    {
     "name": "stderr",
     "output_type": "stream",
     "text": [
      " 68%|██████████████████████████▍            | 2151/3171 [02:50<01:33, 10.94it/s]"
     ]
    },
    {
     "name": "stdout",
     "output_type": "stream",
     "text": [
      "Deleting SHCO_1min_parquet — only 858 files found.\n"
     ]
    },
    {
     "name": "stderr",
     "output_type": "stream",
     "text": [
      " 68%|██████████████████████████▌            | 2157/3171 [02:51<01:26, 11.69it/s]"
     ]
    },
    {
     "name": "stdout",
     "output_type": "stream",
     "text": [
      "Deleting SHLS_1min_parquet — only 975 files found.\n"
     ]
    },
    {
     "name": "stderr",
     "output_type": "stream",
     "text": [
      " 68%|██████████████████████████▌            | 2164/3171 [02:51<01:21, 12.31it/s]"
     ]
    },
    {
     "name": "stdout",
     "output_type": "stream",
     "text": [
      "Deleting SHC_1min_parquet — only 1019 files found.\n"
     ]
    },
    {
     "name": "stderr",
     "output_type": "stream",
     "text": [
      " 68%|██████████████████████████▋            | 2166/3171 [02:52<01:41,  9.92it/s]"
     ]
    },
    {
     "name": "stdout",
     "output_type": "stream",
     "text": [
      "Deleting SG_1min_parquet — only 769 files found.\n"
     ]
    },
    {
     "name": "stderr",
     "output_type": "stream",
     "text": [
      " 68%|██████████████████████████▋            | 2168/3171 [02:52<01:53,  8.84it/s]"
     ]
    },
    {
     "name": "stdout",
     "output_type": "stream",
     "text": [
      "Deleting SGML_1min_parquet — only 817 files found.\n"
     ]
    },
    {
     "name": "stderr",
     "output_type": "stream",
     "text": [
      " 68%|██████████████████████████▋            | 2170/3171 [02:52<02:06,  7.89it/s]"
     ]
    },
    {
     "name": "stdout",
     "output_type": "stream",
     "text": [
      "Deleting SEER_1min_parquet — only 1010 files found.\n"
     ]
    },
    {
     "name": "stderr",
     "output_type": "stream",
     "text": [
      " 69%|██████████████████████████▊            | 2175/3171 [02:53<01:55,  8.63it/s]"
     ]
    },
    {
     "name": "stdout",
     "output_type": "stream",
     "text": [
      "Deleting SDRL_1min_parquet — only 563 files found.\n"
     ]
    },
    {
     "name": "stderr",
     "output_type": "stream",
     "text": [
      " 69%|██████████████████████████▊            | 2178/3171 [02:53<01:48,  9.12it/s]"
     ]
    },
    {
     "name": "stdout",
     "output_type": "stream",
     "text": [
      "Deleting SHO_1min_parquet — only 1031 files found.\n"
     ]
    },
    {
     "name": "stderr",
     "output_type": "stream",
     "text": [
      " 69%|██████████████████████████▊            | 2179/3171 [02:54<02:27,  6.75it/s]"
     ]
    },
    {
     "name": "stdout",
     "output_type": "stream",
     "text": [
      "Deleting RXRX_1min_parquet — only 920 files found.\n"
     ]
    },
    {
     "name": "stderr",
     "output_type": "stream",
     "text": [
      " 69%|██████████████████████████▉            | 2186/3171 [02:54<01:44,  9.42it/s]"
     ]
    },
    {
     "name": "stdout",
     "output_type": "stream",
     "text": [
      "Deleting ROIV_1min_parquet — only 803 files found.\n"
     ]
    },
    {
     "name": "stderr",
     "output_type": "stream",
     "text": [
      " 69%|██████████████████████████▉            | 2188/3171 [02:55<01:58,  8.31it/s]"
     ]
    },
    {
     "name": "stdout",
     "output_type": "stream",
     "text": [
      "Deleting SEAT_1min_parquet — only 791 files found.\n"
     ]
    },
    {
     "name": "stderr",
     "output_type": "stream",
     "text": [
      " 70%|███████████████████████████▏           | 2213/3171 [02:55<00:33, 29.01it/s]"
     ]
    },
    {
     "name": "stdout",
     "output_type": "stream",
     "text": [
      "Deleting RXO_1min_parquet — only 533 files found.\n"
     ]
    },
    {
     "name": "stderr",
     "output_type": "stream",
     "text": [
      " 70%|███████████████████████████▎           | 2219/3171 [02:55<00:39, 24.24it/s]"
     ]
    },
    {
     "name": "stdout",
     "output_type": "stream",
     "text": [
      "Deleting RYAN_1min_parquet — only 853 files found.\n"
     ]
    },
    {
     "name": "stderr",
     "output_type": "stream",
     "text": [
      " 70%|███████████████████████████▎           | 2224/3171 [02:56<00:48, 19.47it/s]"
     ]
    },
    {
     "name": "stdout",
     "output_type": "stream",
     "text": [
      "Deleting RNW_1min_parquet — only 830 files found.\n"
     ]
    },
    {
     "name": "stderr",
     "output_type": "stream",
     "text": [
      " 70%|███████████████████████████▍           | 2234/3171 [02:56<00:46, 20.15it/s]"
     ]
    },
    {
     "name": "stdout",
     "output_type": "stream",
     "text": [
      "Deleting ZK_1min_parquet — only 148 files found.\n",
      "Deleting WULF_1min_parquet — only 1052 files found.\n"
     ]
    },
    {
     "name": "stderr",
     "output_type": "stream",
     "text": [
      " 71%|███████████████████████████▌           | 2238/3171 [02:57<01:02, 14.88it/s]"
     ]
    },
    {
     "name": "stdout",
     "output_type": "stream",
     "text": [
      "Deleting CSAN_1min_parquet — only 948 files found.\n"
     ]
    },
    {
     "name": "stderr",
     "output_type": "stream",
     "text": [
      " 71%|███████████████████████████▋           | 2247/3171 [02:58<00:59, 15.44it/s]"
     ]
    },
    {
     "name": "stdout",
     "output_type": "stream",
     "text": [
      "Deleting VLTO_1min_parquet — only 304 files found.\n",
      "Deleting TYRA_1min_parquet — only 815 files found.\n"
     ]
    },
    {
     "name": "stderr",
     "output_type": "stream",
     "text": [
      " 71%|███████████████████████████▊           | 2261/3171 [02:58<00:46, 19.58it/s]"
     ]
    },
    {
     "name": "stdout",
     "output_type": "stream",
     "text": [
      "Deleting NLOP_1min_parquet — only 276 files found.\n",
      "Deleting TOP_1min_parquet — only 626 files found.\n"
     ]
    },
    {
     "name": "stderr",
     "output_type": "stream",
     "text": [
      " 72%|███████████████████████████▉           | 2275/3171 [02:59<00:32, 27.80it/s]"
     ]
    },
    {
     "name": "stdout",
     "output_type": "stream",
     "text": [
      "Deleting PLL_1min_parquet — only 1053 files found.\n"
     ]
    },
    {
     "name": "stderr",
     "output_type": "stream",
     "text": [
      " 72%|████████████████████████████           | 2280/3171 [02:59<00:50, 17.70it/s]"
     ]
    },
    {
     "name": "stdout",
     "output_type": "stream",
     "text": [
      "Deleting RUM_1min_parquet — only 873 files found.\n"
     ]
    },
    {
     "name": "stderr",
     "output_type": "stream",
     "text": [
      " 72%|████████████████████████████▏          | 2296/3171 [03:00<00:35, 24.78it/s]"
     ]
    },
    {
     "name": "stdout",
     "output_type": "stream",
     "text": [
      "Deleting ROOT_1min_parquet — only 1033 files found.\n"
     ]
    },
    {
     "name": "stderr",
     "output_type": "stream",
     "text": [
      " 73%|████████████████████████████▎          | 2301/3171 [03:00<00:47, 18.15it/s]"
     ]
    },
    {
     "name": "stdout",
     "output_type": "stream",
     "text": [
      "Deleting RKLB_1min_parquet — only 962 files found.\n",
      "Deleting RIVN_1min_parquet — only 775 files found.\n"
     ]
    },
    {
     "name": "stderr",
     "output_type": "stream",
     "text": [
      " 73%|████████████████████████████▎          | 2305/3171 [03:01<01:13, 11.82it/s]"
     ]
    },
    {
     "name": "stdout",
     "output_type": "stream",
     "text": [
      "Deleting RHP_1min_parquet — only 990 files found.\n"
     ]
    },
    {
     "name": "stderr",
     "output_type": "stream",
     "text": [
      " 73%|████████████████████████████▍          | 2308/3171 [03:02<01:24, 10.21it/s]"
     ]
    },
    {
     "name": "stdout",
     "output_type": "stream",
     "text": [
      "Deleting RELY_1min_parquet — only 809 files found.\n"
     ]
    },
    {
     "name": "stderr",
     "output_type": "stream",
     "text": [
      " 73%|████████████████████████████▍          | 2314/3171 [03:02<01:16, 11.22it/s]"
     ]
    },
    {
     "name": "stdout",
     "output_type": "stream",
     "text": [
      "Deleting QSI_1min_parquet — only 1013 files found.\n"
     ]
    },
    {
     "name": "stderr",
     "output_type": "stream",
     "text": [
      " 73%|████████████████████████████▌          | 2327/3171 [03:03<00:47, 17.58it/s]"
     ]
    },
    {
     "name": "stdout",
     "output_type": "stream",
     "text": [
      "Deleting WFG_1min_parquet — only 972 files found.\n"
     ]
    },
    {
     "name": "stderr",
     "output_type": "stream",
     "text": [
      " 74%|████████████████████████████▋          | 2332/3171 [03:03<00:56, 14.76it/s]"
     ]
    },
    {
     "name": "stdout",
     "output_type": "stream",
     "text": [
      "Deleting WFRD_1min_parquet — only 888 files found.\n"
     ]
    },
    {
     "name": "stderr",
     "output_type": "stream",
     "text": [
      " 74%|████████████████████████████▋          | 2336/3171 [03:03<01:04, 12.96it/s]"
     ]
    },
    {
     "name": "stdout",
     "output_type": "stream",
     "text": [
      "Deleting WGS_1min_parquet — only 1023 files found.\n",
      "Deleting ZVRA_1min_parquet — only 987 files found.\n"
     ]
    },
    {
     "name": "stderr",
     "output_type": "stream",
     "text": [
      " 74%|████████████████████████████▊          | 2339/3171 [03:04<01:41,  8.21it/s]"
     ]
    },
    {
     "name": "stdout",
     "output_type": "stream",
     "text": [
      "Deleting ZIM_1min_parquet — only 974 files found.\n"
     ]
    },
    {
     "name": "stderr",
     "output_type": "stream",
     "text": [
      " 74%|████████████████████████████▊          | 2347/3171 [03:05<01:20, 10.22it/s]"
     ]
    },
    {
     "name": "stdout",
     "output_type": "stream",
     "text": [
      "Deleting ZGN_1min_parquet — only 748 files found.\n"
     ]
    },
    {
     "name": "stderr",
     "output_type": "stream",
     "text": [
      " 74%|████████████████████████████▉          | 2353/3171 [03:05<01:12, 11.32it/s]"
     ]
    },
    {
     "name": "stdout",
     "output_type": "stream",
     "text": [
      "Deleting XYF_1min_parquet — only 1054 files found.\n"
     ]
    },
    {
     "name": "stderr",
     "output_type": "stream",
     "text": [
      " 74%|████████████████████████████▉          | 2355/3171 [03:06<01:28,  9.26it/s]"
     ]
    },
    {
     "name": "stdout",
     "output_type": "stream",
     "text": [
      "Deleting XPOF_1min_parquet — only 852 files found.\n"
     ]
    },
    {
     "name": "stderr",
     "output_type": "stream",
     "text": [
      " 74%|█████████████████████████████          | 2359/3171 [03:06<01:30,  8.98it/s]"
     ]
    },
    {
     "name": "stdout",
     "output_type": "stream",
     "text": [
      "Deleting WS_1min_parquet — only 259 files found.\n"
     ]
    },
    {
     "name": "stderr",
     "output_type": "stream",
     "text": [
      " 75%|█████████████████████████████▏         | 2378/3171 [03:07<00:28, 27.38it/s]"
     ]
    },
    {
     "name": "stdout",
     "output_type": "stream",
     "text": [
      "Deleting RBLX_1min_parquet — only 946 files found.\n"
     ]
    },
    {
     "name": "stderr",
     "output_type": "stream",
     "text": [
      " 75%|█████████████████████████████▎         | 2384/3171 [03:07<00:41, 19.04it/s]"
     ]
    },
    {
     "name": "stdout",
     "output_type": "stream",
     "text": [
      "Deleting PYCR_1min_parquet — only 854 files found.\n"
     ]
    },
    {
     "name": "stderr",
     "output_type": "stream",
     "text": [
      " 75%|█████████████████████████████▍         | 2391/3171 [03:08<00:43, 17.76it/s]"
     ]
    },
    {
     "name": "stdout",
     "output_type": "stream",
     "text": [
      "Deleting PWP_1min_parquet — only 1017 files found.\n",
      "Deleting ZURA_1min_parquet — only 435 files found.\n",
      "Deleting ZJK_1min_parquet — only 27 files found.\n",
      "Deleting ZIP_1min_parquet — only 892 files found.\n"
     ]
    },
    {
     "name": "stderr",
     "output_type": "stream",
     "text": [
      " 76%|█████████████████████████████▍         | 2395/3171 [03:09<01:17,  9.99it/s]"
     ]
    },
    {
     "name": "stdout",
     "output_type": "stream",
     "text": [
      "Deleting ZIMV_1min_parquet — only 701 files found.\n"
     ]
    },
    {
     "name": "stderr",
     "output_type": "stream",
     "text": [
      " 76%|█████████████████████████████▍         | 2398/3171 [03:09<01:18,  9.82it/s]"
     ]
    },
    {
     "name": "stdout",
     "output_type": "stream",
     "text": [
      "Deleting XMTR_1min_parquet — only 868 files found.\n"
     ]
    },
    {
     "name": "stderr",
     "output_type": "stream",
     "text": [
      " 76%|█████████████████████████████▌         | 2400/3171 [03:09<01:30,  8.53it/s]"
     ]
    },
    {
     "name": "stdout",
     "output_type": "stream",
     "text": [
      "Deleting VIRC_1min_parquet — only 1048 files found.\n"
     ]
    },
    {
     "name": "stderr",
     "output_type": "stream",
     "text": [
      " 76%|█████████████████████████████▌         | 2404/3171 [03:10<01:31,  8.36it/s]"
     ]
    },
    {
     "name": "stdout",
     "output_type": "stream",
     "text": [
      "Deleting VAL_1min_parquet — only 909 files found.\n"
     ]
    },
    {
     "name": "stderr",
     "output_type": "stream",
     "text": [
      " 76%|█████████████████████████████▋         | 2410/3171 [03:10<01:15, 10.08it/s]"
     ]
    },
    {
     "name": "stdout",
     "output_type": "stream",
     "text": [
      "Deleting ULS_1min_parquet — only 168 files found.\n",
      "Deleting TRML_1min_parquet — only 905 files found.\n"
     ]
    },
    {
     "name": "stderr",
     "output_type": "stream",
     "text": [
      " 76%|█████████████████████████████▋         | 2414/3171 [03:11<01:17,  9.73it/s]"
     ]
    },
    {
     "name": "stdout",
     "output_type": "stream",
     "text": [
      "Deleting TRIN_1min_parquet — only 973 files found.\n"
     ]
    },
    {
     "name": "stderr",
     "output_type": "stream",
     "text": [
      " 76%|█████████████████████████████▊         | 2421/3171 [03:11<01:02, 11.95it/s]"
     ]
    },
    {
     "name": "stdout",
     "output_type": "stream",
     "text": [
      "Deleting WAY_1min_parquet — only 129 files found.\n",
      "Deleting ENFN_1min_parquet — only 789 files found.\n"
     ]
    },
    {
     "name": "stderr",
     "output_type": "stream",
     "text": [
      " 76%|█████████████████████████████▊         | 2424/3171 [03:12<01:10, 10.55it/s]"
     ]
    },
    {
     "name": "stdout",
     "output_type": "stream",
     "text": [
      "Deleting JXN_1min_parquet — only 824 files found.\n"
     ]
    },
    {
     "name": "stderr",
     "output_type": "stream",
     "text": [
      " 77%|█████████████████████████████▉         | 2437/3171 [03:12<00:43, 17.03it/s]"
     ]
    },
    {
     "name": "stdout",
     "output_type": "stream",
     "text": [
      "Deleting CRGX_1min_parquet — only 272 files found.\n"
     ]
    },
    {
     "name": "stderr",
     "output_type": "stream",
     "text": [
      " 77%|██████████████████████████████▏        | 2457/3171 [03:13<00:19, 36.47it/s]"
     ]
    },
    {
     "name": "stdout",
     "output_type": "stream",
     "text": [
      "Deleting WOOF_1min_parquet — only 983 files found.\n"
     ]
    },
    {
     "name": "stderr",
     "output_type": "stream",
     "text": [
      " 78%|██████████████████████████████▎        | 2463/3171 [03:13<00:32, 21.67it/s]"
     ]
    },
    {
     "name": "stdout",
     "output_type": "stream",
     "text": [
      "Deleting ZH_1min_parquet — only 934 files found.\n"
     ]
    },
    {
     "name": "stderr",
     "output_type": "stream",
     "text": [
      " 78%|██████████████████████████████▎        | 2468/3171 [03:14<00:40, 17.44it/s]"
     ]
    },
    {
     "name": "stdout",
     "output_type": "stream",
     "text": [
      "Deleting YOU_1min_parquet — only 868 files found.\n"
     ]
    },
    {
     "name": "stderr",
     "output_type": "stream",
     "text": [
      " 78%|██████████████████████████████▍        | 2475/3171 [03:14<00:41, 16.68it/s]"
     ]
    },
    {
     "name": "stdout",
     "output_type": "stream",
     "text": [
      "Deleting YSG_1min_parquet — only 1020 files found.\n",
      "Deleting YMM_1min_parquet — only 874 files found.\n"
     ]
    },
    {
     "name": "stderr",
     "output_type": "stream",
     "text": [
      " 79%|██████████████████████████████▌        | 2490/3171 [03:15<00:37, 18.21it/s]"
     ]
    },
    {
     "name": "stdout",
     "output_type": "stream",
     "text": [
      "Deleting XBIT_1min_parquet — only 1054 files found.\n"
     ]
    },
    {
     "name": "stderr",
     "output_type": "stream",
     "text": [
      " 79%|██████████████████████████████▋        | 2498/3171 [03:16<00:41, 16.22it/s]"
     ]
    },
    {
     "name": "stdout",
     "output_type": "stream",
     "text": [
      "Deleting WRBY_1min_parquet — only 805 files found.\n"
     ]
    },
    {
     "name": "stderr",
     "output_type": "stream",
     "text": [
      " 80%|███████████████████████████████        | 2522/3171 [03:16<00:21, 30.17it/s]"
     ]
    },
    {
     "name": "stdout",
     "output_type": "stream",
     "text": [
      "Deleting WEAV_1min_parquet — only 774 files found.\n",
      "Deleting WDS_1min_parquet — only 635 files found.\n"
     ]
    },
    {
     "name": "stderr",
     "output_type": "stream",
     "text": [
      " 80%|███████████████████████████████        | 2529/3171 [03:17<00:33, 19.22it/s]"
     ]
    },
    {
     "name": "stdout",
     "output_type": "stream",
     "text": [
      "Deleting PECO_1min_parquet — only 858 files found.\n"
     ]
    },
    {
     "name": "stderr",
     "output_type": "stream",
     "text": [
      " 80%|███████████████████████████████▏       | 2537/3171 [03:18<00:34, 18.49it/s]"
     ]
    },
    {
     "name": "stdout",
     "output_type": "stream",
     "text": [
      "Deleting WBX_1min_parquet — only 919 files found.\n"
     ]
    },
    {
     "name": "stderr",
     "output_type": "stream",
     "text": [
      " 81%|███████████████████████████████▍       | 2556/3171 [03:18<00:25, 24.53it/s]"
     ]
    },
    {
     "name": "stdout",
     "output_type": "stream",
     "text": [
      "Deleting UMAC_1min_parquet — only 208 files found.\n",
      "Deleting UDMY_1min_parquet — only 783 files found.\n",
      "Deleting TUYA_1min_parquet — only 940 files found.\n"
     ]
    },
    {
     "name": "stderr",
     "output_type": "stream",
     "text": [
      " 81%|███████████████████████████████▋       | 2581/3171 [03:19<00:19, 30.06it/s]"
     ]
    },
    {
     "name": "stdout",
     "output_type": "stream",
     "text": [
      "Deleting VIK_1min_parquet — only 155 files found.\n",
      "Deleting VMEO_1min_parquet — only 896 files found.\n",
      "Deleting VIV_1min_parquet — only 1054 files found.\n"
     ]
    },
    {
     "name": "stderr",
     "output_type": "stream",
     "text": [
      " 82%|███████████████████████████████▉       | 2593/3171 [03:21<00:34, 16.99it/s]"
     ]
    },
    {
     "name": "stdout",
     "output_type": "stream",
     "text": [
      "Deleting VFS_1min_parquet — only 334 files found.\n",
      "Deleting VEEA_1min_parquet — only 663 files found.\n"
     ]
    },
    {
     "name": "stderr",
     "output_type": "stream",
     "text": [
      " 82%|███████████████████████████████▉       | 2598/3171 [03:21<00:34, 16.49it/s]"
     ]
    },
    {
     "name": "stdout",
     "output_type": "stream",
     "text": [
      "Deleting VERA_1min_parquet — only 900 files found.\n",
      "Deleting VERV_1min_parquet — only 877 files found.\n"
     ]
    },
    {
     "name": "stderr",
     "output_type": "stream",
     "text": [
      " 82%|████████████████████████████████       | 2612/3171 [03:22<00:32, 17.36it/s]"
     ]
    },
    {
     "name": "stdout",
     "output_type": "stream",
     "text": [
      "Deleting UPST_1min_parquet — only 1002 files found.\n"
     ]
    },
    {
     "name": "stderr",
     "output_type": "stream",
     "text": [
      " 83%|████████████████████████████████▏      | 2621/3171 [03:22<00:34, 16.13it/s]"
     ]
    },
    {
     "name": "stdout",
     "output_type": "stream",
     "text": [
      "Deleting ULCC_1min_parquet — only 930 files found.\n"
     ]
    },
    {
     "name": "stderr",
     "output_type": "stream",
     "text": [
      " 83%|████████████████████████████████▎      | 2627/3171 [03:23<00:37, 14.45it/s]"
     ]
    },
    {
     "name": "stdout",
     "output_type": "stream",
     "text": [
      "Deleting TSVT_1min_parquet — only 778 files found.\n"
     ]
    },
    {
     "name": "stderr",
     "output_type": "stream",
     "text": [
      " 84%|████████████████████████████████▋      | 2656/3171 [03:24<00:17, 29.60it/s]"
     ]
    },
    {
     "name": "stdout",
     "output_type": "stream",
     "text": [
      "Deleting TSAT_1min_parquet — only 768 files found.\n"
     ]
    },
    {
     "name": "stderr",
     "output_type": "stream",
     "text": [
      " 84%|████████████████████████████████▊      | 2666/3171 [03:24<00:19, 25.46it/s]"
     ]
    },
    {
     "name": "stdout",
     "output_type": "stream",
     "text": [
      "Deleting TOST_1min_parquet — only 810 files found.\n"
     ]
    },
    {
     "name": "stderr",
     "output_type": "stream",
     "text": [
      " 85%|████████████████████████████████▉      | 2683/3171 [03:25<00:16, 30.15it/s]"
     ]
    },
    {
     "name": "stdout",
     "output_type": "stream",
     "text": [
      "Deleting CRGY_1min_parquet — only 756 files found.\n",
      "Deleting PCOR_1min_parquet — only 896 files found.\n"
     ]
    },
    {
     "name": "stderr",
     "output_type": "stream",
     "text": [
      " 86%|█████████████████████████████████▎     | 2712/3171 [03:26<00:13, 34.69it/s]"
     ]
    },
    {
     "name": "stdout",
     "output_type": "stream",
     "text": [
      "Deleting WBTN_1min_parquet — only 116 files found.\n",
      "Deleting WBD_1min_parquet — only 676 files found.\n",
      "Deleting TEM_1min_parquet — only 124 files found.\n",
      "Deleting TERN_1min_parquet — only 968 files found.\n"
     ]
    },
    {
     "name": "stderr",
     "output_type": "stream",
     "text": [
      " 86%|█████████████████████████████████▍     | 2720/3171 [03:27<00:23, 19.45it/s]"
     ]
    },
    {
     "name": "stdout",
     "output_type": "stream",
     "text": [
      "Deleting BBAI_1min_parquet — only 756 files found.\n"
     ]
    },
    {
     "name": "stderr",
     "output_type": "stream",
     "text": [
      " 86%|█████████████████████████████████▌     | 2726/3171 [03:27<00:24, 18.33it/s]"
     ]
    },
    {
     "name": "stdout",
     "output_type": "stream",
     "text": [
      "Deleting PCT_1min_parquet — only 940 files found.\n"
     ]
    },
    {
     "name": "stderr",
     "output_type": "stream",
     "text": [
      " 86%|█████████████████████████████████▌     | 2732/3171 [03:28<00:26, 16.37it/s]"
     ]
    },
    {
     "name": "stdout",
     "output_type": "stream",
     "text": [
      "Deleting BARK_1min_parquet — only 1000 files found.\n"
     ]
    },
    {
     "name": "stderr",
     "output_type": "stream",
     "text": [
      " 86%|█████████████████████████████████▋     | 2739/3171 [03:28<00:28, 15.19it/s]"
     ]
    },
    {
     "name": "stdout",
     "output_type": "stream",
     "text": [
      "Deleting RBRK_1min_parquet — only 159 files found.\n",
      "Deleting SKYH_1min_parquet — only 723 files found.\n"
     ]
    },
    {
     "name": "stderr",
     "output_type": "stream",
     "text": [
      " 86%|█████████████████████████████████▋     | 2742/3171 [03:29<00:32, 13.32it/s]"
     ]
    },
    {
     "name": "stdout",
     "output_type": "stream",
     "text": [
      "Deleting TIL_1min_parquet — only 939 files found.\n"
     ]
    },
    {
     "name": "stderr",
     "output_type": "stream",
     "text": [
      " 87%|█████████████████████████████████▊     | 2745/3171 [03:29<00:39, 10.89it/s]"
     ]
    },
    {
     "name": "stdout",
     "output_type": "stream",
     "text": [
      "Deleting PATH_1min_parquet — only 917 files found.\n"
     ]
    },
    {
     "name": "stderr",
     "output_type": "stream",
     "text": [
      " 87%|█████████████████████████████████▊     | 2749/3171 [03:29<00:41, 10.18it/s]"
     ]
    },
    {
     "name": "stdout",
     "output_type": "stream",
     "text": [
      "Deleting EHAB_1min_parquet — only 620 files found.\n"
     ]
    },
    {
     "name": "stderr",
     "output_type": "stream",
     "text": [
      " 87%|█████████████████████████████████▊     | 2751/3171 [03:30<00:44,  9.42it/s]"
     ]
    },
    {
     "name": "stdout",
     "output_type": "stream",
     "text": [
      "Deleting HLLY_1min_parquet — only 1015 files found.\n",
      "Deleting HKD_1min_parquet — only 606 files found.\n"
     ]
    },
    {
     "name": "stderr",
     "output_type": "stream",
     "text": [
      " 87%|█████████████████████████████████▊     | 2753/3171 [03:30<01:05,  6.34it/s]"
     ]
    },
    {
     "name": "stdout",
     "output_type": "stream",
     "text": [
      "Deleting LYEL_1min_parquet — only 877 files found.\n"
     ]
    },
    {
     "name": "stderr",
     "output_type": "stream",
     "text": [
      " 87%|█████████████████████████████████▉     | 2756/3171 [03:31<01:03,  6.57it/s]"
     ]
    },
    {
     "name": "stdout",
     "output_type": "stream",
     "text": [
      "Deleting TPG_1min_parquet — only 731 files found.\n"
     ]
    },
    {
     "name": "stderr",
     "output_type": "stream",
     "text": [
      " 88%|██████████████████████████████████▎    | 2786/3171 [03:32<00:14, 27.03it/s]"
     ]
    },
    {
     "name": "stdout",
     "output_type": "stream",
     "text": [
      "Deleting MDIA_1min_parquet — only 1045 files found.\n"
     ]
    },
    {
     "name": "stderr",
     "output_type": "stream",
     "text": [
      " 88%|██████████████████████████████████▍    | 2803/3171 [03:32<00:13, 28.06it/s]"
     ]
    },
    {
     "name": "stdout",
     "output_type": "stream",
     "text": [
      "Deleting SLVM_1min_parquet — only 803 files found.\n"
     ]
    },
    {
     "name": "stderr",
     "output_type": "stream",
     "text": [
      " 89%|██████████████████████████████████▌    | 2809/3171 [03:33<00:16, 21.66it/s]"
     ]
    },
    {
     "name": "stdout",
     "output_type": "stream",
     "text": [
      "Deleting RDW_1min_parquet — only 822 files found.\n"
     ]
    },
    {
     "name": "stderr",
     "output_type": "stream",
     "text": [
      " 89%|██████████████████████████████████▌    | 2814/3171 [03:33<00:19, 18.40it/s]"
     ]
    },
    {
     "name": "stdout",
     "output_type": "stream",
     "text": [
      "Deleting TNGX_1min_parquet — only 1008 files found.\n",
      "Deleting HSAI_1min_parquet — only 462 files found.\n",
      "Deleting TFPM_1min_parquet — only 574 files found.\n"
     ]
    },
    {
     "name": "stderr",
     "output_type": "stream",
     "text": [
      " 89%|██████████████████████████████████▋    | 2818/3171 [03:34<00:33, 10.53it/s]"
     ]
    },
    {
     "name": "stdout",
     "output_type": "stream",
     "text": [
      "Deleting TDUP_1min_parquet — only 934 files found.\n"
     ]
    },
    {
     "name": "stderr",
     "output_type": "stream",
     "text": [
      " 89%|██████████████████████████████████▊    | 2827/3171 [03:35<00:27, 12.44it/s]"
     ]
    },
    {
     "name": "stdout",
     "output_type": "stream",
     "text": [
      "Deleting MCW_1min_parquet — only 871 files found.\n"
     ]
    },
    {
     "name": "stderr",
     "output_type": "stream",
     "text": [
      " 89%|██████████████████████████████████▊    | 2834/3171 [03:35<00:26, 12.81it/s]"
     ]
    },
    {
     "name": "stdout",
     "output_type": "stream",
     "text": [
      "Deleting RDDT_1min_parquet — only 183 files found.\n",
      "Deleting JSPR_1min_parquet — only 986 files found.\n"
     ]
    },
    {
     "name": "stderr",
     "output_type": "stream",
     "text": [
      " 90%|██████████████████████████████████▉    | 2839/3171 [03:36<00:27, 11.89it/s]"
     ]
    },
    {
     "name": "stdout",
     "output_type": "stream",
     "text": [
      "Deleting TMCI_1min_parquet — only 915 files found.\n"
     ]
    },
    {
     "name": "stderr",
     "output_type": "stream",
     "text": [
      " 90%|██████████████████████████████████▉    | 2841/3171 [03:36<00:33,  9.72it/s]"
     ]
    },
    {
     "name": "stdout",
     "output_type": "stream",
     "text": [
      "Deleting TLN_1min_parquet — only 108 files found.\n",
      "Deleting CRC_1min_parquet — only 1033 files found.\n"
     ]
    },
    {
     "name": "stderr",
     "output_type": "stream",
     "text": [
      " 90%|██████████████████████████████████▉    | 2845/3171 [03:37<00:37,  8.75it/s]"
     ]
    },
    {
     "name": "stdout",
     "output_type": "stream",
     "text": [
      "Deleting SKWD_1min_parquet — only 480 files found.\n",
      "Deleting TIXT_1min_parquet — only 970 files found.\n"
     ]
    },
    {
     "name": "stderr",
     "output_type": "stream",
     "text": [
      " 90%|███████████████████████████████████    | 2847/3171 [03:37<00:48,  6.63it/s]"
     ]
    },
    {
     "name": "stdout",
     "output_type": "stream",
     "text": [
      "Deleting MBLY_1min_parquet — only 534 files found.\n"
     ]
    },
    {
     "name": "stderr",
     "output_type": "stream",
     "text": [
      " 90%|███████████████████████████████████▏   | 2859/3171 [03:38<00:20, 15.36it/s]"
     ]
    },
    {
     "name": "stdout",
     "output_type": "stream",
     "text": [
      "Deleting TBBB_1min_parquet — only 211 files found.\n"
     ]
    },
    {
     "name": "stderr",
     "output_type": "stream",
     "text": [
      " 90%|███████████████████████████████████▏   | 2863/3171 [03:38<00:19, 15.44it/s]"
     ]
    },
    {
     "name": "stdout",
     "output_type": "stream",
     "text": [
      "Deleting TARS_1min_parquet — only 1044 files found.\n"
     ]
    },
    {
     "name": "stderr",
     "output_type": "stream",
     "text": [
      " 90%|███████████████████████████████████▎   | 2867/3171 [03:39<00:24, 12.28it/s]"
     ]
    },
    {
     "name": "stdout",
     "output_type": "stream",
     "text": [
      "Deleting TASK_1min_parquet — only 881 files found.\n"
     ]
    },
    {
     "name": "stderr",
     "output_type": "stream",
     "text": [
      " 91%|███████████████████████████████████▎   | 2870/3171 [03:39<00:32,  9.40it/s]"
     ]
    },
    {
     "name": "stdout",
     "output_type": "stream",
     "text": [
      "Deleting SLRN_1min_parquet — only 403 files found.\n",
      "Deleting SLI_1min_parquet — only 860 files found.\n"
     ]
    },
    {
     "name": "stderr",
     "output_type": "stream",
     "text": [
      " 91%|███████████████████████████████████▋   | 2901/3171 [03:40<00:08, 33.08it/s]"
     ]
    },
    {
     "name": "stdout",
     "output_type": "stream",
     "text": [
      "Deleting TMDX_1min_parquet — only 1054 files found.\n",
      "Deleting SLDP_1min_parquet — only 893 files found.\n"
     ]
    },
    {
     "name": "stderr",
     "output_type": "stream",
     "text": [
      " 92%|███████████████████████████████████▊   | 2908/3171 [03:41<00:16, 15.97it/s]"
     ]
    },
    {
     "name": "stdout",
     "output_type": "stream",
     "text": [
      "Deleting HPH_1min_parquet — only 931 files found.\n",
      "Deleting VTS_1min_parquet — only 479 files found.\n"
     ]
    },
    {
     "name": "stderr",
     "output_type": "stream",
     "text": [
      " 92%|███████████████████████████████████▉   | 2924/3171 [03:42<00:12, 20.08it/s]"
     ]
    },
    {
     "name": "stdout",
     "output_type": "stream",
     "text": [
      "Deleting TLS_1min_parquet — only 1020 files found.\n"
     ]
    },
    {
     "name": "stderr",
     "output_type": "stream",
     "text": [
      " 92%|████████████████████████████████████   | 2932/3171 [03:42<00:13, 17.39it/s]"
     ]
    },
    {
     "name": "stdout",
     "output_type": "stream",
     "text": [
      "Deleting CRDO_1min_parquet — only 722 files found.\n"
     ]
    },
    {
     "name": "stderr",
     "output_type": "stream",
     "text": [
      " 93%|████████████████████████████████████   | 2937/3171 [03:43<00:14, 16.21it/s]"
     ]
    },
    {
     "name": "stdout",
     "output_type": "stream",
     "text": [
      "Deleting VTEX_1min_parquet — only 854 files found.\n"
     ]
    },
    {
     "name": "stderr",
     "output_type": "stream",
     "text": [
      " 93%|████████████████████████████████████▏  | 2944/3171 [03:44<00:23,  9.80it/s]"
     ]
    },
    {
     "name": "stdout",
     "output_type": "stream",
     "text": [
      "Deleting NE_1min_parquet — only 883 files found.\n",
      "Deleting VSTS_1min_parquet — only 304 files found.\n"
     ]
    },
    {
     "name": "stderr",
     "output_type": "stream",
     "text": [
      " 93%|████████████████████████████████████▏  | 2947/3171 [03:46<00:40,  5.58it/s]"
     ]
    },
    {
     "name": "stdout",
     "output_type": "stream",
     "text": [
      "Deleting MAX_1min_parquet — only 1033 files found.\n"
     ]
    },
    {
     "name": "stderr",
     "output_type": "stream",
     "text": [
      " 93%|████████████████████████████████████▎  | 2953/3171 [03:47<00:45,  4.76it/s]"
     ]
    },
    {
     "name": "stdout",
     "output_type": "stream",
     "text": [
      "Deleting HLMN_1min_parquet — only 1010 files found.\n"
     ]
    },
    {
     "name": "stderr",
     "output_type": "stream",
     "text": [
      " 93%|████████████████████████████████████▍  | 2959/3171 [03:49<00:48,  4.41it/s]"
     ]
    },
    {
     "name": "stdout",
     "output_type": "stream",
     "text": [
      "Deleting BAM_1min_parquet — only 1054 files found.\n"
     ]
    },
    {
     "name": "stderr",
     "output_type": "stream",
     "text": [
      " 93%|████████████████████████████████████▍  | 2961/3171 [03:50<00:49,  4.26it/s]"
     ]
    },
    {
     "name": "stdout",
     "output_type": "stream",
     "text": [
      "Deleting EMBC_1min_parquet — only 677 files found.\n"
     ]
    },
    {
     "name": "stderr",
     "output_type": "stream",
     "text": [
      " 94%|████████████████████████████████████▍  | 2965/3171 [03:50<00:41,  5.00it/s]"
     ]
    },
    {
     "name": "stdout",
     "output_type": "stream",
     "text": [
      "Deleting VTYX_1min_parquet — only 789 files found.\n"
     ]
    },
    {
     "name": "stderr",
     "output_type": "stream",
     "text": [
      " 94%|████████████████████████████████████▍  | 2967/3171 [03:50<00:40,  5.09it/s]"
     ]
    },
    {
     "name": "stdout",
     "output_type": "stream",
     "text": [
      "Deleting RCAT_1min_parquet — only 1049 files found.\n"
     ]
    },
    {
     "name": "stderr",
     "output_type": "stream",
     "text": [
      " 94%|████████████████████████████████████▌  | 2971/3171 [03:51<00:34,  5.74it/s]"
     ]
    },
    {
     "name": "stdout",
     "output_type": "stream",
     "text": [
      "Deleting CRCT_1min_parquet — only 935 files found.\n"
     ]
    },
    {
     "name": "stderr",
     "output_type": "stream",
     "text": [
      " 94%|████████████████████████████████████▌  | 2973/3171 [03:51<00:35,  5.53it/s]"
     ]
    },
    {
     "name": "stdout",
     "output_type": "stream",
     "text": [
      "Deleting VTRS_1min_parquet — only 1025 files found.\n"
     ]
    },
    {
     "name": "stderr",
     "output_type": "stream",
     "text": [
      " 94%|████████████████████████████████████▌  | 2975/3171 [03:52<00:37,  5.19it/s]"
     ]
    },
    {
     "name": "stdout",
     "output_type": "stream",
     "text": [
      "Deleting CRBU_1min_parquet — only 852 files found.\n"
     ]
    },
    {
     "name": "stderr",
     "output_type": "stream",
     "text": [
      " 94%|████████████████████████████████████▋  | 2978/3171 [03:52<00:34,  5.65it/s]"
     ]
    },
    {
     "name": "stdout",
     "output_type": "stream",
     "text": [
      "Deleting CRBG_1min_parquet — only 563 files found.\n"
     ]
    },
    {
     "name": "stderr",
     "output_type": "stream",
     "text": [
      " 94%|████████████████████████████████████▋  | 2983/3171 [03:52<00:23,  7.88it/s]"
     ]
    },
    {
     "name": "stdout",
     "output_type": "stream",
     "text": [
      "Deleting SKYT_1min_parquet — only 917 files found.\n"
     ]
    },
    {
     "name": "stderr",
     "output_type": "stream",
     "text": [
      " 94%|████████████████████████████████████▊  | 2995/3171 [03:53<00:13, 12.88it/s]"
     ]
    },
    {
     "name": "stdout",
     "output_type": "stream",
     "text": [
      "Deleting TKO_1min_parquet — only 315 files found.\n"
     ]
    },
    {
     "name": "stderr",
     "output_type": "stream",
     "text": [
      " 95%|████████████████████████████████████▉  | 3006/3171 [03:53<00:07, 22.69it/s]"
     ]
    },
    {
     "name": "stdout",
     "output_type": "stream",
     "text": [
      "Deleting JOBY_1min_parquet — only 839 files found.\n"
     ]
    },
    {
     "name": "stderr",
     "output_type": "stream",
     "text": [
      " 95%|█████████████████████████████████████  | 3011/3171 [03:54<00:08, 18.44it/s]"
     ]
    },
    {
     "name": "stdout",
     "output_type": "stream",
     "text": [
      "Deleting HOOD_1min_parquet — only 848 files found.\n"
     ]
    },
    {
     "name": "stderr",
     "output_type": "stream",
     "text": [
      " 95%|█████████████████████████████████████  | 3015/3171 [03:54<00:10, 15.44it/s]"
     ]
    },
    {
     "name": "stdout",
     "output_type": "stream",
     "text": [
      "Deleting MBC_1min_parquet — only 503 files found.\n"
     ]
    },
    {
     "name": "stderr",
     "output_type": "stream",
     "text": [
      " 96%|█████████████████████████████████████▎ | 3029/3171 [03:54<00:06, 22.99it/s]"
     ]
    },
    {
     "name": "stdout",
     "output_type": "stream",
     "text": [
      "Deleting SILA_1min_parquet — only 125 files found.\n",
      "Deleting VSTA_1min_parquet — only 1049 files found.\n"
     ]
    },
    {
     "name": "stderr",
     "output_type": "stream",
     "text": [
      " 96%|█████████████████████████████████████▎ | 3033/3171 [03:55<00:08, 16.36it/s]"
     ]
    },
    {
     "name": "stdout",
     "output_type": "stream",
     "text": [
      "Deleting SKIN_1min_parquet — only 1016 files found.\n",
      "Deleting ELDN_1min_parquet — only 1054 files found.\n"
     ]
    },
    {
     "name": "stderr",
     "output_type": "stream",
     "text": [
      " 96%|█████████████████████████████████████▎ | 3036/3171 [03:56<00:14,  9.21it/s]"
     ]
    },
    {
     "name": "stdout",
     "output_type": "stream",
     "text": [
      "Deleting PAY_1min_parquet — only 892 files found.\n"
     ]
    },
    {
     "name": "stderr",
     "output_type": "stream",
     "text": [
      " 96%|█████████████████████████████████████▍ | 3041/3171 [03:56<00:13,  9.68it/s]"
     ]
    },
    {
     "name": "stdout",
     "output_type": "stream",
     "text": [
      "Deleting NEUE_1min_parquet — only 872 files found.\n"
     ]
    },
    {
     "name": "stderr",
     "output_type": "stream",
     "text": [
      " 96%|█████████████████████████████████████▌ | 3057/3171 [03:57<00:06, 18.14it/s]"
     ]
    },
    {
     "name": "stdout",
     "output_type": "stream",
     "text": [
      "Deleting PAX_1min_parquet — only 978 files found.\n",
      "Deleting VSCO_1min_parquet — only 854 files found.\n"
     ]
    },
    {
     "name": "stderr",
     "output_type": "stream",
     "text": [
      " 97%|█████████████████████████████████████▋ | 3062/3171 [03:58<00:09, 11.25it/s]"
     ]
    },
    {
     "name": "stdout",
     "output_type": "stream",
     "text": [
      "Deleting HNST_1min_parquet — only 907 files found.\n"
     ]
    },
    {
     "name": "stderr",
     "output_type": "stream",
     "text": [
      " 97%|█████████████████████████████████████▋ | 3067/3171 [03:58<00:09, 11.26it/s]"
     ]
    },
    {
     "name": "stdout",
     "output_type": "stream",
     "text": [
      "Deleting NESR_1min_parquet — only 1037 files found.\n"
     ]
    },
    {
     "name": "stderr",
     "output_type": "stream",
     "text": [
      " 97%|█████████████████████████████████████▉ | 3084/3171 [03:59<00:04, 20.07it/s]"
     ]
    },
    {
     "name": "stdout",
     "output_type": "stream",
     "text": [
      "Deleting EH_1min_parquet — only 1052 files found.\n"
     ]
    },
    {
     "name": "stderr",
     "output_type": "stream",
     "text": [
      " 97%|██████████████████████████████████████ | 3090/3171 [03:59<00:04, 17.81it/s]"
     ]
    },
    {
     "name": "stdout",
     "output_type": "stream",
     "text": [
      "Deleting MASS_1min_parquet — only 1000 files found.\n"
     ]
    },
    {
     "name": "stderr",
     "output_type": "stream",
     "text": [
      " 98%|██████████████████████████████████████▎| 3113/3171 [04:00<00:02, 26.96it/s]"
     ]
    },
    {
     "name": "stdout",
     "output_type": "stream",
     "text": [
      "Deleting PACS_1min_parquet — only 169 files found.\n",
      "Deleting HIPO_1min_parquet — only 985 files found.\n",
      "Deleting EE_1min_parquet — only 669 files found.\n"
     ]
    },
    {
     "name": "stderr",
     "output_type": "stream",
     "text": [
      " 98%|██████████████████████████████████████▎| 3118/3171 [04:01<00:03, 17.58it/s]"
     ]
    },
    {
     "name": "stdout",
     "output_type": "stream",
     "text": [
      "Deleting ACAD_1min_parquet — only 1054 files found.\n"
     ]
    },
    {
     "name": "stderr",
     "output_type": "stream",
     "text": [
      " 99%|██████████████████████████████████████▌| 3139/3171 [04:01<00:01, 26.65it/s]"
     ]
    },
    {
     "name": "stdout",
     "output_type": "stream",
     "text": [
      "Deleting LZ_1min_parquet — only 868 files found.\n"
     ]
    },
    {
     "name": "stderr",
     "output_type": "stream",
     "text": [
      "100%|███████████████████████████████████████| 3171/3171 [04:02<00:00, 13.08it/s]\n"
     ]
    }
   ],
   "source": [
    "# Removing all tickers with fewer than the max number of files (i.e., tickers that don't have continuous day data)\n",
    "parquet_root = \"/Volumes/T7/Filtered-Cleaned-Parquet-ML\"\n",
    "tickers_removed = []\n",
    "\n",
    "# Looping through all folders in the parquet root\n",
    "for folder_name in tqdm(os.listdir(parquet_root)):\n",
    "    folder_path = os.path.join(parquet_root, folder_name)\n",
    "    \n",
    "    if os.path.isdir(folder_path) and folder_name.endswith(\"_1min_parquet\"):\n",
    "        num_files = len([f for f in os.listdir(folder_path) if f.endswith(\".parquet\")])\n",
    "        \n",
    "        if num_files < num_days_total:\n",
    "            tickers_removed.append(folder_name.split('_')[0])\n",
    "            print(f\"Deleting {folder_name} — only {num_files} files found.\")\n",
    "            shutil.rmtree(folder_path)"
   ]
  },
  {
   "cell_type": "code",
   "execution_count": 254,
   "id": "1a943302-5199-4175-805d-525c6b4c5eed",
   "metadata": {},
   "outputs": [
    {
     "name": "stdout",
     "output_type": "stream",
     "text": [
      "Supposed to remove 572 tickers\n",
      "Actually removed 572 tickers\n"
     ]
    }
   ],
   "source": [
    "# Confirming that the number of tickers removed matches what we had previously\n",
    "print(\"Supposed to remove\", len(missing_days_data), \"tickers\")\n",
    "print(\"Actually removed\", len(tickers_removed), \"tickers\")"
   ]
  },
  {
   "cell_type": "code",
   "execution_count": 257,
   "id": "c1d7dfac-c1cc-4769-aa81-056eb9d879fc",
   "metadata": {},
   "outputs": [
    {
     "data": {
      "text/plain": [
       "2599"
      ]
     },
     "execution_count": 257,
     "metadata": {},
     "output_type": "execute_result"
    }
   ],
   "source": [
    "# Confirming length of folder after removing files\n",
    "len(os.listdir(parquet_root))"
   ]
  },
  {
   "cell_type": "markdown",
   "id": "7a169412-ad3c-4af9-8e2b-b43557debb96",
   "metadata": {},
   "source": [
    "## 6. Cleaning the data\n",
    "We'll begin our 3-step data cleaning process, and we'll ultimately get cleaned 1-day parquet files that all go from 4:00am to 7:59pm ET."
   ]
  },
  {
   "cell_type": "markdown",
   "id": "a772fc17-b0ac-4145-806a-fdd95c63a16d",
   "metadata": {},
   "source": [
    "### 6.1 Forward-filling all missing data\n",
    "This is the simplest step, and we're simply forward-filling all missing candlesticks so that we have a continuous stream of data. All OHLC prices will be equal to the Close price of the most recent candlestick, and their volumes will be set to 0."
   ]
  },
  {
   "cell_type": "code",
   "execution_count": null,
   "id": "decf9e5b-5fac-4bef-a7a3-86267a4b9f73",
   "metadata": {},
   "outputs": [],
   "source": []
  },
  {
   "cell_type": "code",
   "execution_count": null,
   "id": "68d9badf-896a-4ba4-b138-7a87fcec18bc",
   "metadata": {},
   "outputs": [],
   "source": []
  },
  {
   "cell_type": "code",
   "execution_count": null,
   "id": "76d644e1-a406-4c93-98ed-a82b17b5f54f",
   "metadata": {},
   "outputs": [],
   "source": []
  },
  {
   "cell_type": "code",
   "execution_count": null,
   "id": "916db2a7-8a2a-4f75-be25-9f374a22d347",
   "metadata": {},
   "outputs": [],
   "source": []
  },
  {
   "cell_type": "markdown",
   "id": "03953407-23fb-4aa1-bc0e-b5ab59425809",
   "metadata": {},
   "source": [
    "Start by forward-filling all missing data so that we have a continuous stream of data. All OHLC prices will be equal to the Close price of the most recent candlestick, and their volumes will be set to 0.\n",
    "Backfill any data to 4:00am (if data doesn't exist) based on the earliest PM 1-min candlestick. All OHLC prices will be equal to the first Open price in the PM, and their volumes will be set to 0.\n",
    "Forward-fill any data to 7:59pm (if data doesn't exist) based on the last RTH (regular trading hours) or EHT (extended-hours trading) candlestick. All OHLC prices will be equal to the Close price of the last candlestick, and their volumes will be set to 0."
   ]
  }
 ],
 "metadata": {
  "kernelspec": {
   "display_name": "Python 3 (ipykernel)",
   "language": "python",
   "name": "python3"
  },
  "language_info": {
   "codemirror_mode": {
    "name": "ipython",
    "version": 3
   },
   "file_extension": ".py",
   "mimetype": "text/x-python",
   "name": "python",
   "nbconvert_exporter": "python",
   "pygments_lexer": "ipython3",
   "version": "3.11.7"
  }
 },
 "nbformat": 4,
 "nbformat_minor": 5
}
