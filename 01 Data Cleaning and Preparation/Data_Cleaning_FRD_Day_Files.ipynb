{
 "cells": [
  {
   "cell_type": "markdown",
   "id": "be912a75-72a6-4821-9854-4b94a2d3a70a",
   "metadata": {},
   "source": [
    "# Data Cleaning Day Files From FirstRate Data\n",
    "It would also be nice to have day data, and to make sure we can get long enough sequences, we'll keep the day data all the way back to 6/1/20, as that's when the market started recovering from the COVID-19 crash.\n",
    "\n",
    "**Update**: Change of plans, since there seems to be missing data, and it would take unnecessary time to obtain/clean that data, we'll just stick to getting the day data since 10/1/20."
   ]
  },
  {
   "cell_type": "markdown",
   "id": "d47b788e-4670-40b8-a526-1e6fcc7c1c1d",
   "metadata": {},
   "source": [
    "## Imports"
   ]
  },
  {
   "cell_type": "code",
   "execution_count": 7,
   "id": "cc393067-39e8-47fb-9930-18f0d305a887",
   "metadata": {},
   "outputs": [],
   "source": [
    "import pandas as pd\n",
    "import numpy as np\n",
    "import yfinance as yf\n",
    "from datetime import date, datetime\n",
    "import matplotlib.pyplot as plt\n",
    "import seaborn as sns\n",
    "from mlxtend.plotting import heatmap\n",
    "import dask\n",
    "import dask.dataframe as dd\n",
    "from dask import delayed\n",
    "from pyarrow.parquet import ParquetFile\n",
    "import pyarrow as pa\n",
    "from tqdm import tqdm\n",
    "\n",
    "import tulipy as ti\n",
    "\n",
    "import sklearn\n",
    "from sklearn.preprocessing import MinMaxScaler\n",
    "from sklearn.model_selection import train_test_split\n",
    "from sklearn.metrics import mean_squared_error\n",
    "from sklearn.metrics import confusion_matrix, ConfusionMatrixDisplay\n",
    "from sklearn.preprocessing import StandardScaler\n",
    "from sklearn.decomposition import PCA\n",
    "from sklearn.decomposition import KernelPCA\n",
    "from sklearn.decomposition import IncrementalPCA\n",
    "\n",
    "import tensorflow as tf\n",
    "from tensorflow import keras\n",
    "from tensorflow.keras.models import Sequential\n",
    "from tensorflow.keras.layers import LSTM, Dense, Dropout\n",
    "from tensorflow.keras import initializers\n",
    "from tensorflow.keras.models import load_model\n",
    "from tensorflow.keras.utils import register_keras_serializable\n",
    "from tensorflow.keras.optimizers import SGD\n",
    "import keras_tuner as kt\n",
    "from keras_tuner import HyperParameters\n",
    "\n",
    "import os\n",
    "import sys\n",
    "import warnings\n",
    "import shutil"
   ]
  },
  {
   "cell_type": "markdown",
   "id": "1c0ef9fa-6b2f-44db-801a-4d409d439a3f",
   "metadata": {
    "jp-MarkdownHeadingCollapsed": true
   },
   "source": [
    "## Getting the list of tickers that we need 1-day data for\n",
    "We have our 2,599 tickers that has complete, continuous, and cleaned 1-min data. Now let's make sure that data exists for the day data as well."
   ]
  },
  {
   "cell_type": "code",
   "execution_count": 7,
   "id": "a9aa33a9-f523-42a1-b1fb-d6566854b8ab",
   "metadata": {},
   "outputs": [
    {
     "name": "stdout",
     "output_type": "stream",
     "text": [
      "Number of 1-min filtered and cleaned tickers: 2599\n",
      "Number of 1-day unfiltered tickers total: 7592\n"
     ]
    }
   ],
   "source": [
    "# Getting the paths can making sure the lengths seem appropriate (day data should have more since it's not filtered)\n",
    "cleaned_1min_parq_path = '/Volumes/T7/Filtered-Cleaned-Parquet-ML'\n",
    "stocks_1day_path = '/Volumes/T7/stocks1day-csv'\n",
    "\n",
    "print(\"Number of 1-min filtered and cleaned tickers:\", len(os.listdir(cleaned_1min_parq_path)))\n",
    "print(\"Number of 1-day unfiltered tickers total:\", len(os.listdir(stocks_1day_path)))"
   ]
  },
  {
   "cell_type": "code",
   "execution_count": 12,
   "id": "4c3acfac-d585-44f7-8b56-d0513e9411ad",
   "metadata": {},
   "outputs": [
    {
     "data": {
      "text/plain": [
       "2599"
      ]
     },
     "execution_count": 12,
     "metadata": {},
     "output_type": "execute_result"
    }
   ],
   "source": [
    "# Getting the list of the tickers in the cleaned_1min_parq_path folder:\n",
    "ticker_list_filtered = []\n",
    "\n",
    "for folder_name in os.listdir(cleaned_1min_parq_path):\n",
    "    ticker = folder_name.split('_')[0]\n",
    "    ticker_list_filtered.append(ticker)\n",
    "\n",
    "len(ticker_list_filtered)"
   ]
  },
  {
   "cell_type": "markdown",
   "id": "ff2524fa-e166-40cd-a645-fc68e2fb1129",
   "metadata": {
    "jp-MarkdownHeadingCollapsed": true
   },
   "source": [
    "## Checking to see if the FRD day data is worth using and cleaning\n",
    "We want to see if the FRD 1-day data is appropriate for us to use. If it's too unclean, we're better off creating our own OHLCV values from the 1-min FRD data."
   ]
  },
  {
   "cell_type": "code",
   "execution_count": 49,
   "id": "d2fc6c22-3aa8-4ad6-901a-8d5f4df5620d",
   "metadata": {},
   "outputs": [
    {
     "name": "stdout",
     "output_type": "stream",
     "text": [
      "Number of days each relevant ticker should have in 2020: 86\n"
     ]
    }
   ],
   "source": [
    "# Getting the total number of trading days a stock should have from 6/1/20-9/30/20 (using AAPL b/c it definitely has all the days)\n",
    "AAPL_path = '/Volumes/T7/stocks1day-csv/AAPL_full_1day_UNADJUSTED.csv'\n",
    "AAPL_df = pd.read_csv(AAPL_path)\n",
    "AAPL_df['Datetime'] = pd.to_datetime(AAPL_df['Datetime'])\n",
    "\n",
    "start_date = pd.to_datetime(\"2020-06-01\")\n",
    "end_date = pd.to_datetime(\"2020-10-01\")\n",
    "num_days_2020 = len(AAPL_df[(AAPL_df['Datetime'] >= start_date) & (AAPL_df['Datetime'] < end_date)])\n",
    "print(\"Number of days each relevant ticker should have in 2020:\", num_days_2020)"
   ]
  },
  {
   "cell_type": "code",
   "execution_count": 50,
   "id": "e0f6b970-2d5b-4882-800b-6a9f9ee04365",
   "metadata": {},
   "outputs": [
    {
     "name": "stderr",
     "output_type": "stream",
     "text": [
      "  1%|▌                                       | 34/2599 [00:00<00:14, 171.04it/s]"
     ]
    },
    {
     "name": "stdout",
     "output_type": "stream",
     "text": [
      "ASLE only has 67 days of day data.\n",
      "ASAN only has 0 days of day data.\n",
      "ACCD only has 61 days of day data.\n"
     ]
    },
    {
     "name": "stderr",
     "output_type": "stream",
     "text": [
      "  4%|█▍                                      | 93/2599 [00:00<00:13, 189.93it/s]"
     ]
    },
    {
     "name": "stdout",
     "output_type": "stream",
     "text": [
      "AOUT only has 26 days of day data.\n",
      "API only has 65 days of day data.\n",
      "ANNX only has 46 days of day data.\n",
      "ALIT only has 51 days of day data.\n"
     ]
    },
    {
     "name": "stderr",
     "output_type": "stream",
     "text": [
      "  6%|██▎                                    | 152/2599 [00:00<00:13, 182.00it/s]"
     ]
    },
    {
     "name": "stdout",
     "output_type": "stream",
     "text": [
      "AMWL only has 8 days of day data.\n",
      "ALXO only has 51 days of day data.\n",
      "ADV only has 84 days of day data.\n",
      "CMPS only has 7 days of day data.\n"
     ]
    },
    {
     "name": "stderr",
     "output_type": "stream",
     "text": [
      "  8%|███▏                                   | 209/2599 [00:01<00:12, 184.85it/s]"
     ]
    },
    {
     "name": "stdout",
     "output_type": "stream",
     "text": [
      "AZEK only has 75 days of day data.\n",
      "DOGZ only has 85 days of day data.\n",
      "AEVA only has 74 days of day data.\n"
     ]
    },
    {
     "name": "stderr",
     "output_type": "stream",
     "text": [
      " 12%|████▋                                  | 314/2599 [00:01<00:14, 159.00it/s]"
     ]
    },
    {
     "name": "stdout",
     "output_type": "stream",
     "text": [
      "CHPT only has 78 days of day data.\n",
      "CELU only has 83 days of day data.\n"
     ]
    },
    {
     "name": "stderr",
     "output_type": "stream",
     "text": [
      " 15%|█████▊                                 | 388/2599 [00:02<00:12, 176.20it/s]"
     ]
    },
    {
     "name": "stdout",
     "output_type": "stream",
     "text": [
      "BUR only has 74 days of day data.\n",
      "IMTX only has 61 days of day data.\n"
     ]
    },
    {
     "name": "stderr",
     "output_type": "stream",
     "text": [
      " 16%|██████▍                                | 426/2599 [00:02<00:12, 179.22it/s]"
     ]
    },
    {
     "name": "stdout",
     "output_type": "stream",
     "text": [
      "CCI only has 85 days of day data.\n",
      "DYN only has 8 days of day data.\n"
     ]
    },
    {
     "name": "stderr",
     "output_type": "stream",
     "text": [
      " 19%|███████▌                               | 505/2599 [00:02<00:11, 184.14it/s]"
     ]
    },
    {
     "name": "stdout",
     "output_type": "stream",
     "text": [
      "AVO only has 0 days of day data.\n",
      "AVPT only has 0 days of day data.\n",
      "BSY only has 4 days of day data.\n"
     ]
    },
    {
     "name": "stderr",
     "output_type": "stream",
     "text": [
      " 21%|████████▏                              | 544/2599 [00:03<00:10, 189.57it/s]"
     ]
    },
    {
     "name": "stdout",
     "output_type": "stream",
     "text": [
      "DNB only has 62 days of day data.\n",
      "DM only has 85 days of day data.\n",
      "FFIE only has 16 days of day data.\n",
      "BNL only has 8 days of day data.\n"
     ]
    },
    {
     "name": "stderr",
     "output_type": "stream",
     "text": [
      " 28%|██████████▊                            | 720/2599 [00:04<00:09, 191.60it/s]"
     ]
    },
    {
     "name": "stdout",
     "output_type": "stream",
     "text": [
      "DADA only has 80 days of day data.\n",
      "FROG only has 9 days of day data.\n"
     ]
    },
    {
     "name": "stderr",
     "output_type": "stream",
     "text": [
      " 29%|███████████▍                           | 765/2599 [00:04<00:08, 204.22it/s]"
     ]
    },
    {
     "name": "stdout",
     "output_type": "stream",
     "text": [
      "BIGC only has 38 days of day data.\n",
      "HIMS only has 83 days of day data.\n",
      "GBIO only has 75 days of day data.\n"
     ]
    },
    {
     "name": "stderr",
     "output_type": "stream",
     "text": [
      " 33%|████████████▊                          | 854/2599 [00:04<00:08, 209.06it/s]"
     ]
    },
    {
     "name": "stdout",
     "output_type": "stream",
     "text": [
      "GLSI only has 2 days of day data.\n",
      "GOCO only has 53 days of day data.\n",
      "LPRO only has 76 days of day data.\n"
     ]
    },
    {
     "name": "stderr",
     "output_type": "stream",
     "text": [
      " 35%|█████████████▊                         | 920/2599 [00:05<00:07, 212.67it/s]"
     ]
    },
    {
     "name": "stdout",
     "output_type": "stream",
     "text": [
      "FOUR only has 80 days of day data.\n",
      "MP only has 53 days of day data.\n",
      "ML only has 31 days of day data.\n"
     ]
    },
    {
     "name": "stderr",
     "output_type": "stream",
     "text": [
      " 37%|██████████████▍                        | 966/2599 [00:05<00:07, 214.89it/s]"
     ]
    },
    {
     "name": "stdout",
     "output_type": "stream",
     "text": [
      "GCMG only has 57 days of day data.\n",
      "GDRX only has 4 days of day data.\n"
     ]
    },
    {
     "name": "stderr",
     "output_type": "stream",
     "text": [
      " 40%|███████████████                       | 1033/2599 [00:05<00:07, 209.51it/s]"
     ]
    },
    {
     "name": "stdout",
     "output_type": "stream",
     "text": [
      "ETWO only has 73 days of day data.\n",
      "PTVE only has 8 days of day data.\n"
     ]
    },
    {
     "name": "stderr",
     "output_type": "stream",
     "text": [
      " 41%|███████████████▊                      | 1078/2599 [00:05<00:07, 216.86it/s]"
     ]
    },
    {
     "name": "stdout",
     "output_type": "stream",
     "text": [
      "CVAC only has 31 days of day data.\n",
      "LUNG only has 0 days of day data.\n",
      "LSPD only has 12 days of day data.\n",
      "LMND only has 61 days of day data.\n",
      "LI only has 42 days of day data.\n"
     ]
    },
    {
     "name": "stderr",
     "output_type": "stream",
     "text": [
      " 44%|████████████████▊                     | 1147/2599 [00:06<00:06, 215.76it/s]"
     ]
    },
    {
     "name": "stdout",
     "output_type": "stream",
     "text": [
      "JAMF only has 48 days of day data.\n",
      "LEGN only has 80 days of day data.\n",
      "LCID only has 7 days of day data.\n",
      "LAC only has 0 days of day data.\n",
      "LAZR only has 25 days of day data.\n",
      "KYMR only has 26 days of day data.\n",
      "BEPC only has 46 days of day data.\n"
     ]
    },
    {
     "name": "stderr",
     "output_type": "stream",
     "text": [
      " 46%|█████████████████▍                    | 1192/2599 [00:06<00:06, 214.45it/s]"
     ]
    },
    {
     "name": "stdout",
     "output_type": "stream",
     "text": [
      "MIR only has 27 days of day data.\n",
      "CURI only has 74 days of day data.\n"
     ]
    },
    {
     "name": "stderr",
     "output_type": "stream",
     "text": [
      " 49%|██████████████████▍                   | 1263/2599 [00:06<00:05, 224.67it/s]"
     ]
    },
    {
     "name": "stdout",
     "output_type": "stream",
     "text": [
      "PRLD only has 2 days of day data.\n",
      "PLBY only has 20 days of day data.\n",
      "ORGN only has 16 days of day data.\n",
      "ITOS only has 46 days of day data.\n"
     ]
    },
    {
     "name": "stderr",
     "output_type": "stream",
     "text": [
      " 51%|███████████████████▍                  | 1331/2599 [00:06<00:06, 209.29it/s]"
     ]
    },
    {
     "name": "stdout",
     "output_type": "stream",
     "text": [
      "PRCH only has 83 days of day data.\n",
      "PMVP only has 2 days of day data.\n",
      "PLRX only has 82 days of day data.\n",
      "PLTR only has 0 days of day data.\n"
     ]
    },
    {
     "name": "stderr",
     "output_type": "stream",
     "text": [
      " 53%|████████████████████▏                 | 1377/2599 [00:07<00:05, 211.59it/s]"
     ]
    },
    {
     "name": "stdout",
     "output_type": "stream",
     "text": [
      "BEKE only has 32 days of day data.\n"
     ]
    },
    {
     "name": "stderr",
     "output_type": "stream",
     "text": [
      " 55%|████████████████████▊                 | 1421/2599 [00:07<00:05, 208.11it/s]"
     ]
    },
    {
     "name": "stdout",
     "output_type": "stream",
     "text": [
      "NNOX only has 26 days of day data.\n",
      "OPEN only has 69 days of day data.\n"
     ]
    },
    {
     "name": "stderr",
     "output_type": "stream",
     "text": [
      " 58%|██████████████████████                | 1508/2599 [00:07<00:05, 208.56it/s]"
     ]
    },
    {
     "name": "stdout",
     "output_type": "stream",
     "text": [
      "NTST only has 32 days of day data.\n",
      "NRIX only has 46 days of day data.\n",
      "STR only has 79 days of day data.\n"
     ]
    },
    {
     "name": "stderr",
     "output_type": "stream",
     "text": [
      " 61%|███████████████████████               | 1574/2599 [00:08<00:04, 211.37it/s]"
     ]
    },
    {
     "name": "stdout",
     "output_type": "stream",
     "text": [
      "STEP only has 9 days of day data.\n",
      "NCNO only has 54 days of day data.\n",
      "MVST only has 83 days of day data.\n"
     ]
    },
    {
     "name": "stderr",
     "output_type": "stream",
     "text": [
      " 64%|████████████████████████▎             | 1664/2599 [00:08<00:04, 216.39it/s]"
     ]
    },
    {
     "name": "stdout",
     "output_type": "stream",
     "text": [
      "SNOW only has 9 days of day data.\n",
      "EOSE only has 0 days of day data.\n"
     ]
    },
    {
     "name": "stderr",
     "output_type": "stream",
     "text": [
      " 66%|████████████████████████▉             | 1708/2599 [00:08<00:04, 209.20it/s]"
     ]
    },
    {
     "name": "stdout",
     "output_type": "stream",
     "text": [
      "RBOT only has 16 days of day data.\n"
     ]
    },
    {
     "name": "stderr",
     "output_type": "stream",
     "text": [
      " 68%|█████████████████████████▉            | 1776/2599 [00:09<00:03, 218.56it/s]"
     ]
    },
    {
     "name": "stdout",
     "output_type": "stream",
     "text": [
      "RNA only has 75 days of day data.\n",
      "RPRX only has 73 days of day data.\n"
     ]
    },
    {
     "name": "stderr",
     "output_type": "stream",
     "text": [
      " 70%|██████████████████████████▋           | 1822/2599 [00:09<00:03, 224.32it/s]"
     ]
    },
    {
     "name": "stdout",
     "output_type": "stream",
     "text": [
      "SABA only has 0 days of day data.\n",
      "RXT only has 38 days of day data.\n",
      "XPEV only has 22 days of day data.\n",
      "CR only has 0 days of day data.\n"
     ]
    },
    {
     "name": "stderr",
     "output_type": "stream",
     "text": [
      " 73%|███████████████████████████▋          | 1893/2599 [00:09<00:03, 225.45it/s]"
     ]
    },
    {
     "name": "stdout",
     "output_type": "stream",
     "text": [
      "RPTX only has 70 days of day data.\n",
      "RSI only has 84 days of day data.\n",
      "RKT only has 37 days of day data.\n",
      "QS only has 17 days of day data.\n"
     ]
    },
    {
     "name": "stderr",
     "output_type": "stream",
     "text": [
      " 75%|████████████████████████████▎         | 1938/2599 [00:09<00:03, 200.06it/s]"
     ]
    },
    {
     "name": "stdout",
     "output_type": "stream",
     "text": [
      "ZI only has 81 days of day data.\n",
      "RLAY only has 52 days of day data.\n"
     ]
    },
    {
     "name": "stderr",
     "output_type": "stream",
     "text": [
      " 77%|█████████████████████████████▏        | 2000/2599 [00:10<00:03, 180.88it/s]"
     ]
    },
    {
     "name": "stdout",
     "output_type": "stream",
     "text": [
      "HRMY only has 28 days of day data.\n"
     ]
    },
    {
     "name": "stderr",
     "output_type": "stream",
     "text": [
      " 79%|█████████████████████████████▊        | 2042/2599 [00:10<00:02, 188.30it/s]"
     ]
    },
    {
     "name": "stdout",
     "output_type": "stream",
     "text": [
      "YALA only has 0 days of day data.\n",
      "WMG only has 82 days of day data.\n",
      "MEG only has 47 days of day data.\n"
     ]
    },
    {
     "name": "stderr",
     "output_type": "stream",
     "text": [
      " 81%|██████████████████████████████▊       | 2104/2599 [00:10<00:02, 197.87it/s]"
     ]
    },
    {
     "name": "stdout",
     "output_type": "stream",
     "text": [
      "VERX only has 43 days of day data.\n",
      "U only has 7 days of day data.\n",
      "VNT only has 0 days of day data.\n",
      "VITL only has 41 days of day data.\n"
     ]
    },
    {
     "name": "stderr",
     "output_type": "stream",
     "text": [
      " 82%|███████████████████████████████▎      | 2144/2599 [00:10<00:02, 181.36it/s]"
     ]
    },
    {
     "name": "stdout",
     "output_type": "stream",
     "text": [
      "UWMC only has 4 days of day data.\n"
     ]
    },
    {
     "name": "stderr",
     "output_type": "stream",
     "text": [
      " 85%|████████████████████████████████▏     | 2199/2599 [00:11<00:02, 173.14it/s]"
     ]
    },
    {
     "name": "stdout",
     "output_type": "stream",
     "text": [
      "CRSR only has 4 days of day data.\n",
      "PCVX only has 75 days of day data.\n"
     ]
    },
    {
     "name": "stderr",
     "output_type": "stream",
     "text": [
      " 87%|█████████████████████████████████▏    | 2273/2599 [00:11<00:01, 176.25it/s]"
     ]
    },
    {
     "name": "stdout",
     "output_type": "stream",
     "text": [
      "THRY only has 0 days of day data.\n",
      "NKTX only has 56 days of day data.\n"
     ]
    },
    {
     "name": "stderr",
     "output_type": "stream",
     "text": [
      " 91%|██████████████████████████████████▌   | 2368/2599 [00:12<00:01, 182.53it/s]"
     ]
    },
    {
     "name": "stdout",
     "output_type": "stream",
     "text": [
      "TALK only has 40 days of day data.\n"
     ]
    },
    {
     "name": "stderr",
     "output_type": "stream",
     "text": [
      " 93%|███████████████████████████████████▍  | 2427/2599 [00:12<00:00, 190.55it/s]"
     ]
    },
    {
     "name": "stdout",
     "output_type": "stream",
     "text": [
      "HPK only has 22 days of day data.\n",
      "MAXN only has 22 days of day data.\n"
     ]
    },
    {
     "name": "stderr",
     "output_type": "stream",
     "text": [
      " 98%|█████████████████████████████████████▎| 2555/2599 [00:13<00:00, 206.08it/s]"
     ]
    },
    {
     "name": "stdout",
     "output_type": "stream",
     "text": [
      "ACI only has 65 days of day data.\n",
      "SII only has 66 days of day data.\n"
     ]
    },
    {
     "name": "stderr",
     "output_type": "stream",
     "text": [
      "100%|██████████████████████████████████████| 2599/2599 [00:13<00:00, 194.69it/s]\n"
     ]
    }
   ],
   "source": [
    "# Getting list of tickers without all the day data\n",
    "missing_days_tickers = []\n",
    "\n",
    "# Making sure that each ticker in the 1-min folder 1) exists in the day folder and 2) has 86 days of data from 6/1/20-9/30/20\n",
    "for ticker in tqdm(ticker_list_filtered):\n",
    "\n",
    "    # Getting the ticker file name and path\n",
    "    ticker_1day_file = ticker + \"_full_1day_UNADJUSTED.csv\"\n",
    "    ticker_1day_path = os.path.join(stocks_1day_path, ticker_1day_file)\n",
    "\n",
    "    # Reading in the csv and converting to Datetime column to proper datetime format\n",
    "    df = pd.read_csv(ticker_1day_path)\n",
    "    df['Datetime'] = pd.to_datetime(df['Datetime'])\n",
    "\n",
    "    # Checking to see if the number of days is not equal to the expected number (86 days from 6/1/20-9/30/20)\n",
    "    num_days_ticker = len(df[(df['Datetime'] >= start_date) & (df['Datetime'] < end_date)])    \n",
    "    if num_days_ticker != num_days_2020:\n",
    "        print(ticker, \"only has\", num_days_ticker, \"days of day data.\")\n",
    "        missing_days_tickers.append(ticker)\n"
   ]
  },
  {
   "cell_type": "code",
   "execution_count": 52,
   "id": "b5be96b2-9649-48bf-be80-36fbc6abf095",
   "metadata": {},
   "outputs": [
    {
     "data": {
      "text/plain": [
       "106"
      ]
     },
     "execution_count": 52,
     "metadata": {},
     "output_type": "execute_result"
    }
   ],
   "source": [
    "# Checking out how many tickers are missing day data since 6/1/20\n",
    "len(missing_days_tickers)"
   ]
  },
  {
   "cell_type": "markdown",
   "id": "458c50fc-7ce9-4c21-a782-c1e0841c75b2",
   "metadata": {},
   "source": [
    "Indeed, we see that even requiring just day data from 6/1/20 to 9/30/20, we're missing 106 days of tickers. Furthermore, we're unsure as to how clean that data really is. Instead, we'll get the day data ourselves from the FRD original 1-min data."
   ]
  },
  {
   "cell_type": "markdown",
   "id": "0f645de0-45d6-4668-8663-2eb8b9dfa97f",
   "metadata": {
    "jp-MarkdownHeadingCollapsed": true
   },
   "source": [
    "## Checking the original FRD 1-min data to see if there's enough days of past data\n",
    "Before we use the original FRD 1-min data, let's check if we have the appropriate number of days for the 1-min data. If there isn't, we might have to pivot and not use those extra days."
   ]
  },
  {
   "cell_type": "code",
   "execution_count": 66,
   "id": "f56c9c6c-f3ea-4c8c-a11b-9d5e987f5f9d",
   "metadata": {},
   "outputs": [
    {
     "name": "stdout",
     "output_type": "stream",
     "text": [
      "Number of days of data from 6/1/20 to 9/30/20: 86\n",
      "Number of days of data since 10/1/20 (original): 1055\n"
     ]
    }
   ],
   "source": [
    "# Getting the AAPL path to check for appropriate number of days\n",
    "AAPL_path = '/Volumes/T7/Original_FRD_Data_Till_Dec_2024/unzipped-FRD-csv-full/AAPL_full_1min_UNADJUSTED.csv'\n",
    "AAPL_df = pd.read_csv(AAPL_path)\n",
    "AAPL_df['Datetime'] = pd.to_datetime(AAPL_df['Datetime'])\n",
    "start_date = pd.to_datetime(\"2020-06-01\")\n",
    "end_date = pd.to_datetime(\"2020-10-01\")\n",
    "\n",
    "# Getting the number of days from 6/1/20-9/30/20 and from 10/1/20 to the end of the data\n",
    "num_days_extra = AAPL_df[(AAPL_df['Datetime'] >= start_date) & (AAPL_df['Datetime'] < end_date)]['Datetime'].dt.date.nunique()\n",
    "num_days_orig = AAPL_df[(AAPL_df['Datetime'] >= end_date)]['Datetime'].dt.date.nunique()\n",
    "print(\"Number of days of data from 6/1/20 to 9/30/20:\", num_days_extra)\n",
    "print(\"Number of days of data since 10/1/20 (original):\", num_days_orig)"
   ]
  },
  {
   "cell_type": "markdown",
   "id": "9cc1cbee-3cf7-4141-8e54-3b2cd3542362",
   "metadata": {},
   "source": [
    "Firstly, we confirm that we still have 1,055 days (as expected), and we also confirm again that we have 86 days from 6/1/20-9/30/20."
   ]
  },
  {
   "cell_type": "code",
   "execution_count": 67,
   "id": "acc2cbc3-b9dc-45a0-a47a-50d2b64df4cb",
   "metadata": {},
   "outputs": [
    {
     "name": "stderr",
     "output_type": "stream",
     "text": [
      "  0%|▏                                        | 10/2599 [00:03<10:57,  3.94it/s]"
     ]
    },
    {
     "name": "stdout",
     "output_type": "stream",
     "text": [
      "ASLE only has 69 days of 1-min data from 6/1/20-9/30/20.\n"
     ]
    },
    {
     "name": "stderr",
     "output_type": "stream",
     "text": [
      "  1%|▎                                        | 17/2599 [00:07<20:14,  2.13it/s]"
     ]
    },
    {
     "name": "stdout",
     "output_type": "stream",
     "text": [
      "ASAN only has 1 days of 1-min data from 6/1/20-9/30/20.\n"
     ]
    },
    {
     "name": "stderr",
     "output_type": "stream",
     "text": [
      "  1%|▌                                        | 38/2599 [00:19<14:00,  3.05it/s]"
     ]
    },
    {
     "name": "stdout",
     "output_type": "stream",
     "text": [
      "ACCD only has 63 days of 1-min data from 6/1/20-9/30/20.\n"
     ]
    },
    {
     "name": "stderr",
     "output_type": "stream",
     "text": [
      "  3%|█▏                                       | 72/2599 [00:46<21:34,  1.95it/s]"
     ]
    },
    {
     "name": "stdout",
     "output_type": "stream",
     "text": [
      "AOUT only has 28 days of 1-min data from 6/1/20-9/30/20.\n"
     ]
    },
    {
     "name": "stderr",
     "output_type": "stream",
     "text": [
      "  3%|█▏                                       | 73/2599 [00:46<18:26,  2.28it/s]"
     ]
    },
    {
     "name": "stdout",
     "output_type": "stream",
     "text": [
      "API only has 67 days of 1-min data from 6/1/20-9/30/20.\n"
     ]
    },
    {
     "name": "stderr",
     "output_type": "stream",
     "text": [
      "  3%|█▍                                       | 88/2599 [00:54<19:04,  2.19it/s]"
     ]
    },
    {
     "name": "stdout",
     "output_type": "stream",
     "text": [
      "ANNX only has 48 days of 1-min data from 6/1/20-9/30/20.\n"
     ]
    },
    {
     "name": "stderr",
     "output_type": "stream",
     "text": [
      "  4%|█▋                                      | 109/2599 [01:11<24:31,  1.69it/s]"
     ]
    },
    {
     "name": "stdout",
     "output_type": "stream",
     "text": [
      "ALIT only has 53 days of 1-min data from 6/1/20-9/30/20.\n"
     ]
    },
    {
     "name": "stderr",
     "output_type": "stream",
     "text": [
      "  5%|█▉                                      | 128/2599 [01:25<18:18,  2.25it/s]"
     ]
    },
    {
     "name": "stdout",
     "output_type": "stream",
     "text": [
      "AMWL only has 10 days of 1-min data from 6/1/20-9/30/20.\n"
     ]
    },
    {
     "name": "stderr",
     "output_type": "stream",
     "text": [
      "  6%|██▏                                     | 145/2599 [01:38<23:38,  1.73it/s]"
     ]
    },
    {
     "name": "stdout",
     "output_type": "stream",
     "text": [
      "ALXO only has 53 days of 1-min data from 6/1/20-9/30/20.\n"
     ]
    },
    {
     "name": "stderr",
     "output_type": "stream",
     "text": [
      "  6%|██▍                                     | 155/2599 [01:46<24:29,  1.66it/s]"
     ]
    },
    {
     "name": "stdout",
     "output_type": "stream",
     "text": [
      "ADV only has 84 days of 1-min data from 6/1/20-9/30/20.\n"
     ]
    },
    {
     "name": "stderr",
     "output_type": "stream",
     "text": [
      "  6%|██▍                                     | 159/2599 [01:47<11:29,  3.54it/s]"
     ]
    },
    {
     "name": "stdout",
     "output_type": "stream",
     "text": [
      "CMPS only has 9 days of 1-min data from 6/1/20-9/30/20.\n"
     ]
    },
    {
     "name": "stderr",
     "output_type": "stream",
     "text": [
      "  7%|██▋                                     | 176/2599 [02:03<20:26,  1.98it/s]"
     ]
    },
    {
     "name": "stdout",
     "output_type": "stream",
     "text": [
      "AZEK only has 77 days of 1-min data from 6/1/20-9/30/20.\n"
     ]
    },
    {
     "name": "stderr",
     "output_type": "stream",
     "text": [
      "  7%|██▊                                     | 179/2599 [02:04<11:36,  3.47it/s]"
     ]
    },
    {
     "name": "stdout",
     "output_type": "stream",
     "text": [
      "DOGZ only has 85 days of 1-min data from 6/1/20-9/30/20.\n"
     ]
    },
    {
     "name": "stderr",
     "output_type": "stream",
     "text": [
      "  8%|███▏                                    | 207/2599 [02:26<33:48,  1.18it/s]"
     ]
    },
    {
     "name": "stdout",
     "output_type": "stream",
     "text": [
      "AEVA only has 74 days of 1-min data from 6/1/20-9/30/20.\n"
     ]
    },
    {
     "name": "stderr",
     "output_type": "stream",
     "text": [
      " 11%|████▌                                   | 295/2599 [03:46<32:40,  1.18it/s]"
     ]
    },
    {
     "name": "stdout",
     "output_type": "stream",
     "text": [
      "CHPT only has 78 days of 1-min data from 6/1/20-9/30/20.\n"
     ]
    },
    {
     "name": "stderr",
     "output_type": "stream",
     "text": [
      " 12%|████▊                                   | 315/2599 [04:04<21:22,  1.78it/s]"
     ]
    },
    {
     "name": "stdout",
     "output_type": "stream",
     "text": [
      "CELU only has 82 days of 1-min data from 6/1/20-9/30/20.\n"
     ]
    },
    {
     "name": "stderr",
     "output_type": "stream",
     "text": [
      " 13%|█████▍                                  | 350/2599 [04:29<25:17,  1.48it/s]"
     ]
    },
    {
     "name": "stdout",
     "output_type": "stream",
     "text": [
      "BUR only has 74 days of 1-min data from 6/1/20-9/30/20.\n"
     ]
    },
    {
     "name": "stderr",
     "output_type": "stream",
     "text": [
      " 15%|█████▉                                  | 383/2599 [04:50<23:18,  1.58it/s]"
     ]
    },
    {
     "name": "stdout",
     "output_type": "stream",
     "text": [
      "IMTX only has 63 days of 1-min data from 6/1/20-9/30/20.\n"
     ]
    },
    {
     "name": "stderr",
     "output_type": "stream",
     "text": [
      " 17%|██████▋                                 | 435/2599 [05:29<22:56,  1.57it/s]"
     ]
    },
    {
     "name": "stdout",
     "output_type": "stream",
     "text": [
      "DYN only has 10 days of 1-min data from 6/1/20-9/30/20.\n"
     ]
    },
    {
     "name": "stderr",
     "output_type": "stream",
     "text": [
      " 18%|███████▏                                | 470/2599 [05:54<18:33,  1.91it/s]"
     ]
    },
    {
     "name": "stdout",
     "output_type": "stream",
     "text": [
      "AVO only has 0 days of 1-min data from 6/1/20-9/30/20.\n"
     ]
    },
    {
     "name": "stderr",
     "output_type": "stream",
     "text": [
      " 18%|███████▎                                | 477/2599 [05:58<17:31,  2.02it/s]"
     ]
    },
    {
     "name": "stdout",
     "output_type": "stream",
     "text": [
      "AVPT only has 2 days of 1-min data from 6/1/20-9/30/20.\n"
     ]
    },
    {
     "name": "stderr",
     "output_type": "stream",
     "text": [
      " 18%|███████▎                                | 478/2599 [05:59<14:44,  2.40it/s]"
     ]
    },
    {
     "name": "stdout",
     "output_type": "stream",
     "text": [
      "BSY only has 6 days of 1-min data from 6/1/20-9/30/20.\n"
     ]
    },
    {
     "name": "stderr",
     "output_type": "stream",
     "text": [
      " 20%|████████                                | 523/2599 [06:32<19:36,  1.76it/s]"
     ]
    },
    {
     "name": "stdout",
     "output_type": "stream",
     "text": [
      "DNB only has 64 days of 1-min data from 6/1/20-9/30/20.\n"
     ]
    },
    {
     "name": "stderr",
     "output_type": "stream",
     "text": [
      " 20%|████████                                | 525/2599 [06:34<22:18,  1.55it/s]"
     ]
    },
    {
     "name": "stdout",
     "output_type": "stream",
     "text": [
      "DM only has 85 days of 1-min data from 6/1/20-9/30/20.\n"
     ]
    },
    {
     "name": "stderr",
     "output_type": "stream",
     "text": [
      " 21%|████████▎                               | 544/2599 [06:44<13:35,  2.52it/s]"
     ]
    },
    {
     "name": "stdout",
     "output_type": "stream",
     "text": [
      "FFIE only has 19 days of 1-min data from 6/1/20-9/30/20.\n"
     ]
    },
    {
     "name": "stderr",
     "output_type": "stream",
     "text": [
      " 21%|████████▍                               | 549/2599 [06:48<17:13,  1.98it/s]"
     ]
    },
    {
     "name": "stdout",
     "output_type": "stream",
     "text": [
      "BNL only has 10 days of 1-min data from 6/1/20-9/30/20.\n"
     ]
    },
    {
     "name": "stderr",
     "output_type": "stream",
     "text": [
      " 27%|██████████▋                             | 695/2599 [08:49<25:09,  1.26it/s]"
     ]
    },
    {
     "name": "stdout",
     "output_type": "stream",
     "text": [
      "DADA only has 82 days of 1-min data from 6/1/20-9/30/20.\n"
     ]
    },
    {
     "name": "stderr",
     "output_type": "stream",
     "text": [
      " 28%|███████████▏                            | 727/2599 [09:11<12:58,  2.40it/s]"
     ]
    },
    {
     "name": "stdout",
     "output_type": "stream",
     "text": [
      "FROG only has 11 days of 1-min data from 6/1/20-9/30/20.\n"
     ]
    },
    {
     "name": "stderr",
     "output_type": "stream",
     "text": [
      " 29%|███████████▍                            | 741/2599 [09:21<21:40,  1.43it/s]"
     ]
    },
    {
     "name": "stdout",
     "output_type": "stream",
     "text": [
      "BIGC only has 40 days of 1-min data from 6/1/20-9/30/20.\n"
     ]
    },
    {
     "name": "stderr",
     "output_type": "stream",
     "text": [
      " 29%|███████████▋                            | 759/2599 [09:35<18:01,  1.70it/s]"
     ]
    },
    {
     "name": "stdout",
     "output_type": "stream",
     "text": [
      "HIMS only has 84 days of 1-min data from 6/1/20-9/30/20.\n"
     ]
    },
    {
     "name": "stderr",
     "output_type": "stream",
     "text": [
      " 29%|███████████▊                            | 764/2599 [09:37<12:00,  2.55it/s]"
     ]
    },
    {
     "name": "stdout",
     "output_type": "stream",
     "text": [
      "GBIO only has 77 days of 1-min data from 6/1/20-9/30/20.\n"
     ]
    },
    {
     "name": "stderr",
     "output_type": "stream",
     "text": [
      " 32%|████████████▋                           | 822/2599 [10:22<16:48,  1.76it/s]"
     ]
    },
    {
     "name": "stdout",
     "output_type": "stream",
     "text": [
      "GLSI only has 4 days of 1-min data from 6/1/20-9/30/20.\n"
     ]
    },
    {
     "name": "stderr",
     "output_type": "stream",
     "text": [
      " 32%|████████████▋                           | 827/2599 [10:25<14:32,  2.03it/s]"
     ]
    },
    {
     "name": "stdout",
     "output_type": "stream",
     "text": [
      "GOCO only has 55 days of 1-min data from 6/1/20-9/30/20.\n"
     ]
    },
    {
     "name": "stderr",
     "output_type": "stream",
     "text": [
      " 33%|█████████████▎                          | 866/2599 [10:56<12:18,  2.35it/s]"
     ]
    },
    {
     "name": "stdout",
     "output_type": "stream",
     "text": [
      "LPRO only has 78 days of 1-min data from 6/1/20-9/30/20.\n"
     ]
    },
    {
     "name": "stderr",
     "output_type": "stream",
     "text": [
      " 34%|█████████████▌                          | 881/2599 [11:09<14:37,  1.96it/s]"
     ]
    },
    {
     "name": "stdout",
     "output_type": "stream",
     "text": [
      "FOUR only has 82 days of 1-min data from 6/1/20-9/30/20.\n"
     ]
    },
    {
     "name": "stderr",
     "output_type": "stream",
     "text": [
      " 35%|█████████████▉                          | 903/2599 [11:21<10:15,  2.75it/s]"
     ]
    },
    {
     "name": "stdout",
     "output_type": "stream",
     "text": [
      "MP only has 63 days of 1-min data from 6/1/20-9/30/20.\n"
     ]
    },
    {
     "name": "stderr",
     "output_type": "stream",
     "text": [
      " 35%|█████████████▉                          | 905/2599 [11:23<15:13,  1.85it/s]"
     ]
    },
    {
     "name": "stdout",
     "output_type": "stream",
     "text": [
      "ML only has 33 days of 1-min data from 6/1/20-9/30/20.\n"
     ]
    },
    {
     "name": "stderr",
     "output_type": "stream",
     "text": [
      " 36%|██████████████▍                         | 941/2599 [11:53<12:02,  2.29it/s]"
     ]
    },
    {
     "name": "stdout",
     "output_type": "stream",
     "text": [
      "GCMG only has 59 days of 1-min data from 6/1/20-9/30/20.\n"
     ]
    },
    {
     "name": "stderr",
     "output_type": "stream",
     "text": [
      " 37%|██████████████▊                         | 964/2599 [12:08<11:55,  2.29it/s]"
     ]
    },
    {
     "name": "stdout",
     "output_type": "stream",
     "text": [
      "GDRX only has 6 days of 1-min data from 6/1/20-9/30/20.\n"
     ]
    },
    {
     "name": "stderr",
     "output_type": "stream",
     "text": [
      " 39%|███████████████                        | 1007/2599 [12:40<13:39,  1.94it/s]"
     ]
    },
    {
     "name": "stdout",
     "output_type": "stream",
     "text": [
      "ETWO only has 75 days of 1-min data from 6/1/20-9/30/20.\n"
     ]
    },
    {
     "name": "stderr",
     "output_type": "stream",
     "text": [
      " 40%|███████████████▍                       | 1027/2599 [12:58<16:49,  1.56it/s]"
     ]
    },
    {
     "name": "stdout",
     "output_type": "stream",
     "text": [
      "PTVE only has 10 days of 1-min data from 6/1/20-9/30/20.\n"
     ]
    },
    {
     "name": "stderr",
     "output_type": "stream",
     "text": [
      " 41%|███████████████▊                       | 1055/2599 [13:18<12:38,  2.03it/s]"
     ]
    },
    {
     "name": "stdout",
     "output_type": "stream",
     "text": [
      "CVAC only has 33 days of 1-min data from 6/1/20-9/30/20.\n"
     ]
    },
    {
     "name": "stderr",
     "output_type": "stream",
     "text": [
      " 41%|███████████████▉                       | 1058/2599 [13:20<11:25,  2.25it/s]"
     ]
    },
    {
     "name": "stdout",
     "output_type": "stream",
     "text": [
      "LUNG only has 0 days of 1-min data from 6/1/20-9/30/20.\n"
     ]
    },
    {
     "name": "stderr",
     "output_type": "stream",
     "text": [
      " 41%|███████████████▉                       | 1064/2599 [13:25<19:09,  1.34it/s]"
     ]
    },
    {
     "name": "stdout",
     "output_type": "stream",
     "text": [
      "LSPD only has 14 days of 1-min data from 6/1/20-9/30/20.\n"
     ]
    },
    {
     "name": "stderr",
     "output_type": "stream",
     "text": [
      " 41%|████████████████                       | 1073/2599 [13:30<12:28,  2.04it/s]"
     ]
    },
    {
     "name": "stdout",
     "output_type": "stream",
     "text": [
      "LMND only has 63 days of 1-min data from 6/1/20-9/30/20.\n"
     ]
    },
    {
     "name": "stderr",
     "output_type": "stream",
     "text": [
      " 41%|████████████████                       | 1074/2599 [13:30<11:53,  2.14it/s]"
     ]
    },
    {
     "name": "stdout",
     "output_type": "stream",
     "text": [
      "LI only has 44 days of 1-min data from 6/1/20-9/30/20.\n"
     ]
    },
    {
     "name": "stderr",
     "output_type": "stream",
     "text": [
      " 43%|████████████████▌                      | 1105/2599 [13:53<12:46,  1.95it/s]"
     ]
    },
    {
     "name": "stdout",
     "output_type": "stream",
     "text": [
      "JAMF only has 50 days of 1-min data from 6/1/20-9/30/20.\n"
     ]
    },
    {
     "name": "stderr",
     "output_type": "stream",
     "text": [
      " 43%|████████████████▋                      | 1109/2599 [13:57<21:02,  1.18it/s]"
     ]
    },
    {
     "name": "stdout",
     "output_type": "stream",
     "text": [
      "LEGN only has 82 days of 1-min data from 6/1/20-9/30/20.\n"
     ]
    },
    {
     "name": "stderr",
     "output_type": "stream",
     "text": [
      " 43%|████████████████▋                      | 1110/2599 [13:58<18:23,  1.35it/s]"
     ]
    },
    {
     "name": "stdout",
     "output_type": "stream",
     "text": [
      "LCID only has 9 days of 1-min data from 6/1/20-9/30/20.\n"
     ]
    },
    {
     "name": "stderr",
     "output_type": "stream",
     "text": [
      " 43%|████████████████▊                      | 1122/2599 [14:05<13:32,  1.82it/s]"
     ]
    },
    {
     "name": "stdout",
     "output_type": "stream",
     "text": [
      "LAZR only has 27 days of 1-min data from 6/1/20-9/30/20.\n"
     ]
    },
    {
     "name": "stderr",
     "output_type": "stream",
     "text": [
      " 44%|████████████████▉                      | 1131/2599 [14:13<20:18,  1.21it/s]"
     ]
    },
    {
     "name": "stdout",
     "output_type": "stream",
     "text": [
      "KYMR only has 28 days of 1-min data from 6/1/20-9/30/20.\n"
     ]
    },
    {
     "name": "stderr",
     "output_type": "stream",
     "text": [
      " 44%|█████████████████▏                     | 1142/2599 [14:18<11:41,  2.08it/s]"
     ]
    },
    {
     "name": "stdout",
     "output_type": "stream",
     "text": [
      "BEPC only has 48 days of 1-min data from 6/1/20-9/30/20.\n"
     ]
    },
    {
     "name": "stderr",
     "output_type": "stream",
     "text": [
      " 45%|█████████████████▌                     | 1169/2599 [14:35<13:02,  1.83it/s]"
     ]
    },
    {
     "name": "stdout",
     "output_type": "stream",
     "text": [
      "MIR only has 29 days of 1-min data from 6/1/20-9/30/20.\n"
     ]
    },
    {
     "name": "stderr",
     "output_type": "stream",
     "text": [
      " 45%|█████████████████▋                     | 1175/2599 [14:39<12:41,  1.87it/s]"
     ]
    },
    {
     "name": "stdout",
     "output_type": "stream",
     "text": [
      "CURI only has 73 days of 1-min data from 6/1/20-9/30/20.\n"
     ]
    },
    {
     "name": "stderr",
     "output_type": "stream",
     "text": [
      " 47%|██████████████████▍                    | 1229/2599 [15:17<10:41,  2.14it/s]"
     ]
    },
    {
     "name": "stdout",
     "output_type": "stream",
     "text": [
      "PRLD only has 4 days of 1-min data from 6/1/20-9/30/20.\n"
     ]
    },
    {
     "name": "stderr",
     "output_type": "stream",
     "text": [
      " 47%|██████████████████▍                    | 1231/2599 [15:17<07:18,  3.12it/s]"
     ]
    },
    {
     "name": "stdout",
     "output_type": "stream",
     "text": [
      "PLBY only has 21 days of 1-min data from 6/1/20-9/30/20.\n"
     ]
    },
    {
     "name": "stderr",
     "output_type": "stream",
     "text": [
      " 48%|██████████████████▌                    | 1236/2599 [15:21<10:46,  2.11it/s]"
     ]
    },
    {
     "name": "stdout",
     "output_type": "stream",
     "text": [
      "ORGN only has 18 days of 1-min data from 6/1/20-9/30/20.\n"
     ]
    },
    {
     "name": "stderr",
     "output_type": "stream",
     "text": [
      " 48%|██████████████████▊                    | 1256/2599 [15:38<09:40,  2.31it/s]"
     ]
    },
    {
     "name": "stdout",
     "output_type": "stream",
     "text": [
      "JBI only has 85 days of 1-min data from 6/1/20-9/30/20.\n"
     ]
    },
    {
     "name": "stderr",
     "output_type": "stream",
     "text": [
      " 49%|██████████████████▉                    | 1266/2599 [15:45<14:41,  1.51it/s]"
     ]
    },
    {
     "name": "stdout",
     "output_type": "stream",
     "text": [
      "ITOS only has 48 days of 1-min data from 6/1/20-9/30/20.\n"
     ]
    },
    {
     "name": "stderr",
     "output_type": "stream",
     "text": [
      " 50%|███████████████████▍                   | 1293/2599 [16:06<09:31,  2.29it/s]"
     ]
    },
    {
     "name": "stdout",
     "output_type": "stream",
     "text": [
      "PRCH only has 83 days of 1-min data from 6/1/20-9/30/20.\n"
     ]
    },
    {
     "name": "stderr",
     "output_type": "stream",
     "text": [
      " 50%|███████████████████▌                   | 1301/2599 [16:12<10:38,  2.03it/s]"
     ]
    },
    {
     "name": "stdout",
     "output_type": "stream",
     "text": [
      "PMVP only has 4 days of 1-min data from 6/1/20-9/30/20.\n"
     ]
    },
    {
     "name": "stderr",
     "output_type": "stream",
     "text": [
      " 50%|███████████████████▋                   | 1312/2599 [16:22<17:18,  1.24it/s]"
     ]
    },
    {
     "name": "stdout",
     "output_type": "stream",
     "text": [
      "PLRX only has 84 days of 1-min data from 6/1/20-9/30/20.\n"
     ]
    },
    {
     "name": "stderr",
     "output_type": "stream",
     "text": [
      " 51%|███████████████████▊                   | 1323/2599 [16:31<14:43,  1.44it/s]"
     ]
    },
    {
     "name": "stdout",
     "output_type": "stream",
     "text": [
      "PLTR only has 1 days of 1-min data from 6/1/20-9/30/20.\n"
     ]
    },
    {
     "name": "stderr",
     "output_type": "stream",
     "text": [
      " 52%|████████████████████                   | 1340/2599 [16:44<13:43,  1.53it/s]"
     ]
    },
    {
     "name": "stdout",
     "output_type": "stream",
     "text": [
      "BEKE only has 34 days of 1-min data from 6/1/20-9/30/20.\n"
     ]
    },
    {
     "name": "stderr",
     "output_type": "stream",
     "text": [
      " 53%|████████████████████▊                  | 1388/2599 [17:17<10:21,  1.95it/s]"
     ]
    },
    {
     "name": "stdout",
     "output_type": "stream",
     "text": [
      "NNOX only has 28 days of 1-min data from 6/1/20-9/30/20.\n"
     ]
    },
    {
     "name": "stderr",
     "output_type": "stream",
     "text": [
      " 54%|█████████████████████                  | 1402/2599 [17:29<16:43,  1.19it/s]"
     ]
    },
    {
     "name": "stdout",
     "output_type": "stream",
     "text": [
      "OPEN only has 71 days of 1-min data from 6/1/20-9/30/20.\n"
     ]
    },
    {
     "name": "stderr",
     "output_type": "stream",
     "text": [
      " 56%|██████████████████████                 | 1467/2599 [18:21<07:59,  2.36it/s]"
     ]
    },
    {
     "name": "stdout",
     "output_type": "stream",
     "text": [
      "NTST only has 34 days of 1-min data from 6/1/20-9/30/20.\n"
     ]
    },
    {
     "name": "stderr",
     "output_type": "stream",
     "text": [
      " 57%|██████████████████████▏                | 1481/2599 [18:29<09:35,  1.94it/s]"
     ]
    },
    {
     "name": "stdout",
     "output_type": "stream",
     "text": [
      "NRIX only has 48 days of 1-min data from 6/1/20-9/30/20.\n"
     ]
    },
    {
     "name": "stderr",
     "output_type": "stream",
     "text": [
      " 58%|██████████████████████▌                | 1506/2599 [18:49<06:44,  2.70it/s]"
     ]
    },
    {
     "name": "stdout",
     "output_type": "stream",
     "text": [
      "STR only has 81 days of 1-min data from 6/1/20-9/30/20.\n"
     ]
    },
    {
     "name": "stderr",
     "output_type": "stream",
     "text": [
      " 60%|███████████████████████▏               | 1547/2599 [19:23<09:12,  1.90it/s]"
     ]
    },
    {
     "name": "stdout",
     "output_type": "stream",
     "text": [
      "STEP only has 11 days of 1-min data from 6/1/20-9/30/20.\n"
     ]
    },
    {
     "name": "stderr",
     "output_type": "stream",
     "text": [
      " 60%|███████████████████████▍               | 1560/2599 [19:33<08:53,  1.95it/s]"
     ]
    },
    {
     "name": "stdout",
     "output_type": "stream",
     "text": [
      "NCNO only has 56 days of 1-min data from 6/1/20-9/30/20.\n"
     ]
    },
    {
     "name": "stderr",
     "output_type": "stream",
     "text": [
      " 60%|███████████████████████▌               | 1569/2599 [19:39<10:04,  1.70it/s]"
     ]
    },
    {
     "name": "stdout",
     "output_type": "stream",
     "text": [
      "MVST only has 83 days of 1-min data from 6/1/20-9/30/20.\n"
     ]
    },
    {
     "name": "stderr",
     "output_type": "stream",
     "text": [
      " 63%|████████████████████████▍              | 1630/2599 [20:22<10:03,  1.61it/s]"
     ]
    },
    {
     "name": "stdout",
     "output_type": "stream",
     "text": [
      "SNOW only has 11 days of 1-min data from 6/1/20-9/30/20.\n"
     ]
    },
    {
     "name": "stderr",
     "output_type": "stream",
     "text": [
      " 63%|████████████████████████▌              | 1638/2599 [20:29<12:52,  1.24it/s]"
     ]
    },
    {
     "name": "stdout",
     "output_type": "stream",
     "text": [
      "EOSE only has 69 days of 1-min data from 6/1/20-9/30/20.\n"
     ]
    },
    {
     "name": "stderr",
     "output_type": "stream",
     "text": [
      " 65%|█████████████████████████▎             | 1687/2599 [21:08<04:41,  3.24it/s]"
     ]
    },
    {
     "name": "stdout",
     "output_type": "stream",
     "text": [
      "RBOT only has 18 days of 1-min data from 6/1/20-9/30/20.\n"
     ]
    },
    {
     "name": "stderr",
     "output_type": "stream",
     "text": [
      " 67%|██████████████████████████             | 1733/2599 [21:41<10:00,  1.44it/s]"
     ]
    },
    {
     "name": "stdout",
     "output_type": "stream",
     "text": [
      "RNA only has 77 days of 1-min data from 6/1/20-9/30/20.\n"
     ]
    },
    {
     "name": "stderr",
     "output_type": "stream",
     "text": [
      " 68%|██████████████████████████▌            | 1767/2599 [22:05<07:51,  1.76it/s]"
     ]
    },
    {
     "name": "stdout",
     "output_type": "stream",
     "text": [
      "RPRX only has 75 days of 1-min data from 6/1/20-9/30/20.\n"
     ]
    },
    {
     "name": "stderr",
     "output_type": "stream",
     "text": [
      " 69%|██████████████████████████▉            | 1796/2599 [22:28<11:17,  1.19it/s]"
     ]
    },
    {
     "name": "stdout",
     "output_type": "stream",
     "text": [
      "RXT only has 40 days of 1-min data from 6/1/20-9/30/20.\n"
     ]
    },
    {
     "name": "stderr",
     "output_type": "stream",
     "text": [
      " 70%|███████████████████████████▏           | 1808/2599 [22:36<06:17,  2.10it/s]"
     ]
    },
    {
     "name": "stdout",
     "output_type": "stream",
     "text": [
      "XPEV only has 24 days of 1-min data from 6/1/20-9/30/20.\n"
     ]
    },
    {
     "name": "stderr",
     "output_type": "stream",
     "text": [
      " 71%|███████████████████████████▊           | 1851/2599 [23:08<05:30,  2.26it/s]"
     ]
    },
    {
     "name": "stdout",
     "output_type": "stream",
     "text": [
      "RPTX only has 72 days of 1-min data from 6/1/20-9/30/20.\n"
     ]
    },
    {
     "name": "stderr",
     "output_type": "stream",
     "text": [
      " 71%|███████████████████████████▊           | 1852/2599 [23:08<04:46,  2.61it/s]"
     ]
    },
    {
     "name": "stdout",
     "output_type": "stream",
     "text": [
      "RSI only has 84 days of 1-min data from 6/1/20-9/30/20.\n"
     ]
    },
    {
     "name": "stderr",
     "output_type": "stream",
     "text": [
      " 72%|████████████████████████████           | 1868/2599 [23:18<05:18,  2.30it/s]"
     ]
    },
    {
     "name": "stdout",
     "output_type": "stream",
     "text": [
      "RKT only has 39 days of 1-min data from 6/1/20-9/30/20.\n"
     ]
    },
    {
     "name": "stderr",
     "output_type": "stream",
     "text": [
      " 72%|████████████████████████████▏          | 1877/2599 [23:22<05:41,  2.11it/s]"
     ]
    },
    {
     "name": "stdout",
     "output_type": "stream",
     "text": [
      "QS only has 31 days of 1-min data from 6/1/20-9/30/20.\n"
     ]
    },
    {
     "name": "stderr",
     "output_type": "stream",
     "text": [
      " 73%|████████████████████████████▌          | 1906/2599 [23:43<06:50,  1.69it/s]"
     ]
    },
    {
     "name": "stdout",
     "output_type": "stream",
     "text": [
      "ZI only has 83 days of 1-min data from 6/1/20-9/30/20.\n"
     ]
    },
    {
     "name": "stderr",
     "output_type": "stream",
     "text": [
      " 74%|████████████████████████████▋          | 1915/2599 [23:49<05:44,  1.98it/s]"
     ]
    },
    {
     "name": "stdout",
     "output_type": "stream",
     "text": [
      "RLAY only has 54 days of 1-min data from 6/1/20-9/30/20.\n"
     ]
    },
    {
     "name": "stderr",
     "output_type": "stream",
     "text": [
      " 76%|█████████████████████████████▌         | 1971/2599 [24:27<03:35,  2.91it/s]"
     ]
    },
    {
     "name": "stdout",
     "output_type": "stream",
     "text": [
      "HRMY only has 30 days of 1-min data from 6/1/20-9/30/20.\n"
     ]
    },
    {
     "name": "stderr",
     "output_type": "stream",
     "text": [
      " 77%|██████████████████████████████▏        | 2010/2599 [25:02<04:49,  2.04it/s]"
     ]
    },
    {
     "name": "stdout",
     "output_type": "stream",
     "text": [
      "YALA only has 1 days of 1-min data from 6/1/20-9/30/20.\n"
     ]
    },
    {
     "name": "stderr",
     "output_type": "stream",
     "text": [
      " 78%|██████████████████████████████▍        | 2029/2599 [25:15<04:01,  2.36it/s]"
     ]
    },
    {
     "name": "stdout",
     "output_type": "stream",
     "text": [
      "WMG only has 84 days of 1-min data from 6/1/20-9/30/20.\n"
     ]
    },
    {
     "name": "stderr",
     "output_type": "stream",
     "text": [
      " 78%|██████████████████████████████▌        | 2033/2599 [25:17<04:15,  2.22it/s]"
     ]
    },
    {
     "name": "stdout",
     "output_type": "stream",
     "text": [
      "MEG only has 49 days of 1-min data from 6/1/20-9/30/20.\n"
     ]
    },
    {
     "name": "stderr",
     "output_type": "stream",
     "text": [
      " 80%|███████████████████████████████        | 2072/2599 [25:49<07:31,  1.17it/s]"
     ]
    },
    {
     "name": "stdout",
     "output_type": "stream",
     "text": [
      "VERX only has 45 days of 1-min data from 6/1/20-9/30/20.\n"
     ]
    },
    {
     "name": "stderr",
     "output_type": "stream",
     "text": [
      " 80%|███████████████████████████████▏       | 2075/2599 [25:49<04:02,  2.16it/s]"
     ]
    },
    {
     "name": "stdout",
     "output_type": "stream",
     "text": [
      "U only has 9 days of 1-min data from 6/1/20-9/30/20.\n"
     ]
    },
    {
     "name": "stderr",
     "output_type": "stream",
     "text": [
      " 81%|███████████████████████████████▍       | 2097/2599 [26:02<04:17,  1.95it/s]"
     ]
    },
    {
     "name": "stdout",
     "output_type": "stream",
     "text": [
      "VNT only has 3 days of 1-min data from 6/1/20-9/30/20.\n"
     ]
    },
    {
     "name": "stderr",
     "output_type": "stream",
     "text": [
      " 81%|███████████████████████████████▋       | 2108/2599 [26:08<03:42,  2.21it/s]"
     ]
    },
    {
     "name": "stdout",
     "output_type": "stream",
     "text": [
      "VITL only has 43 days of 1-min data from 6/1/20-9/30/20.\n"
     ]
    },
    {
     "name": "stderr",
     "output_type": "stream",
     "text": [
      " 81%|███████████████████████████████▊       | 2116/2599 [26:13<04:26,  1.81it/s]"
     ]
    },
    {
     "name": "stdout",
     "output_type": "stream",
     "text": [
      "UWMC only has 6 days of 1-min data from 6/1/20-9/30/20.\n"
     ]
    },
    {
     "name": "stderr",
     "output_type": "stream",
     "text": [
      " 84%|████████████████████████████████▋      | 2181/2599 [27:02<03:50,  1.81it/s]"
     ]
    },
    {
     "name": "stdout",
     "output_type": "stream",
     "text": [
      "CRSR only has 6 days of 1-min data from 6/1/20-9/30/20.\n"
     ]
    },
    {
     "name": "stderr",
     "output_type": "stream",
     "text": [
      " 84%|████████████████████████████████▉      | 2191/2599 [27:09<03:59,  1.71it/s]"
     ]
    },
    {
     "name": "stdout",
     "output_type": "stream",
     "text": [
      "PCVX only has 77 days of 1-min data from 6/1/20-9/30/20.\n"
     ]
    },
    {
     "name": "stderr",
     "output_type": "stream",
     "text": [
      " 86%|█████████████████████████████████▋     | 2243/2599 [27:51<04:30,  1.32it/s]"
     ]
    },
    {
     "name": "stdout",
     "output_type": "stream",
     "text": [
      "THRY only has 0 days of 1-min data from 6/1/20-9/30/20.\n"
     ]
    },
    {
     "name": "stderr",
     "output_type": "stream",
     "text": [
      " 87%|█████████████████████████████████▉     | 2264/2599 [28:08<02:06,  2.64it/s]"
     ]
    },
    {
     "name": "stdout",
     "output_type": "stream",
     "text": [
      "NKTX only has 58 days of 1-min data from 6/1/20-9/30/20.\n"
     ]
    },
    {
     "name": "stderr",
     "output_type": "stream",
     "text": [
      " 90%|███████████████████████████████████▏   | 2345/2599 [29:11<01:54,  2.22it/s]"
     ]
    },
    {
     "name": "stdout",
     "output_type": "stream",
     "text": [
      "TALK only has 42 days of 1-min data from 6/1/20-9/30/20.\n"
     ]
    },
    {
     "name": "stderr",
     "output_type": "stream",
     "text": [
      " 92%|████████████████████████████████████   | 2402/2599 [29:54<02:04,  1.58it/s]"
     ]
    },
    {
     "name": "stdout",
     "output_type": "stream",
     "text": [
      "HPK only has 24 days of 1-min data from 6/1/20-9/30/20.\n"
     ]
    },
    {
     "name": "stderr",
     "output_type": "stream",
     "text": [
      " 93%|████████████████████████████████████▏  | 2413/2599 [30:03<01:33,  1.99it/s]"
     ]
    },
    {
     "name": "stdout",
     "output_type": "stream",
     "text": [
      "MAXN only has 24 days of 1-min data from 6/1/20-9/30/20.\n"
     ]
    },
    {
     "name": "stderr",
     "output_type": "stream",
     "text": [
      " 97%|█████████████████████████████████████▊ | 2524/2599 [31:29<00:41,  1.80it/s]"
     ]
    },
    {
     "name": "stdout",
     "output_type": "stream",
     "text": [
      "ACI only has 67 days of 1-min data from 6/1/20-9/30/20.\n"
     ]
    },
    {
     "name": "stderr",
     "output_type": "stream",
     "text": [
      " 98%|██████████████████████████████████████▎| 2553/2599 [31:55<00:42,  1.07it/s]"
     ]
    },
    {
     "name": "stdout",
     "output_type": "stream",
     "text": [
      "SII only has 66 days of 1-min data from 6/1/20-9/30/20.\n"
     ]
    },
    {
     "name": "stderr",
     "output_type": "stream",
     "text": [
      "100%|███████████████████████████████████████| 2599/2599 [32:35<00:00,  1.33it/s]\n"
     ]
    }
   ],
   "source": [
    "# Setting some initial paths and variables\n",
    "root_path_orig = '/Volumes/T7/Original_FRD_Data_Till_Dec_2024/unzipped-FRD-csv-full'\n",
    "missing_days_tickers = []\n",
    "\n",
    "# Cycling through all the appropriate tickers to make sure we have the necessary data\n",
    "for ticker in tqdm(ticker_list_filtered):\n",
    "\n",
    "    # Getting the ticker file name and path\n",
    "    ticker_1min_file = ticker + \"_full_1min_UNADJUSTED.csv\"\n",
    "    ticker_1min_path = os.path.join(root_path_orig, ticker_1min_file)\n",
    "\n",
    "    # Reading in the csv and converting to Datetime column to proper datetime format\n",
    "    df = pd.read_csv(ticker_1min_path)\n",
    "    df['Datetime'] = pd.to_datetime(df['Datetime'])\n",
    "\n",
    "    # Checking to see if the number of days is not equal to the expected number (86 days from 6/1/20-9/30/20)\n",
    "    num_days_ticker = df[(df['Datetime'] >= start_date) & (df['Datetime'] < end_date)]['Datetime'].dt.date.nunique()\n",
    "    if num_days_ticker != num_days_extra:\n",
    "        print(ticker, \"only has\", num_days_ticker, \"days of 1-min data from 6/1/20-9/30/20.\")\n",
    "        missing_days_tickers.append(ticker)\n"
   ]
  },
  {
   "cell_type": "code",
   "execution_count": 68,
   "id": "bbf70bb8-471e-4577-9924-67d35e6a46e0",
   "metadata": {},
   "outputs": [
    {
     "data": {
      "text/plain": [
       "103"
      ]
     },
     "execution_count": 68,
     "metadata": {},
     "output_type": "execute_result"
    }
   ],
   "source": [
    "# Checking to see how many days of missing data we have:\n",
    "len(missing_days_tickers)"
   ]
  },
  {
   "cell_type": "markdown",
   "id": "da8fec0d-44bc-493f-b32f-5191342de472",
   "metadata": {},
   "source": [
    "We now see that we still have a substantial amount of missing data, likely because the ticker didn't exist/was still private until 10/1/20, or that it simply didn't have the data. In either case, I've decided to stick with the data since 10/1/20 and perform my analyses from that. It's unfortunate that we'll be missing the extra days since 6/1/20, but it might be for the better anyway since that might introduce existing noise from the COVID-19 crash."
   ]
  },
  {
   "cell_type": "markdown",
   "id": "cadd890c-ea8c-46a8-ac6f-2ea9853e4a15",
   "metadata": {},
   "source": [
    "## Obtaining the cleaned 1-day data from the cleaned FRD 1-min dataset\n",
    "Because I still don't trust the day data from FRD, I'll need to create it myself from the FRD 1-min data (which I've already cleaned anyway)."
   ]
  },
  {
   "cell_type": "code",
   "execution_count": 84,
   "id": "1c60f802-a557-4a05-90ee-636f19b666e8",
   "metadata": {},
   "outputs": [
    {
     "name": "stderr",
     "output_type": "stream",
     "text": [
      "100%|███████████████████████████████████████| 2599/2599 [49:52<00:00,  1.15s/it]\n"
     ]
    }
   ],
   "source": [
    "# Getting the source and destination directories and defining the RTH time window\n",
    "input_root = \"/Volumes/T7/Filtered-Cleaned-Parquet-ML\"\n",
    "output_root = \"/Volumes/T7/Filtered-Cleaned-Parquet-1day\"\n",
    "os.makedirs(output_root, exist_ok=True)\n",
    "rth_start = pd.to_datetime(\"09:30\", format=\"%H:%M\").time()\n",
    "rth_end = pd.to_datetime(\"15:59\", format=\"%H:%M\").time()\n",
    "\n",
    "# Cycling through each folder to get the 1-day parquet files\n",
    "for folder_name in tqdm(os.listdir(input_root)):\n",
    "    if not folder_name.endswith(\"_1min_parquet\"):\n",
    "        continue\n",
    "    \n",
    "    ticker = folder_name.split(\"_\")[0]\n",
    "    folder_path = os.path.join(input_root, folder_name)\n",
    "\n",
    "    try:\n",
    "        # Reading all intraday parquet files into one DataFrame and adding helper columns\n",
    "        df = pd.read_parquet(folder_path)\n",
    "        df['Date'] = df.index.date\n",
    "        df['Time'] = df.index.time\n",
    "\n",
    "        # Defining the daily rows that we'll ultimately add to\n",
    "        daily_rows = []\n",
    "\n",
    "        # Grouping by trading day\n",
    "        for date, day_df in df.groupby('Date'):\n",
    "            rth_df = day_df[(day_df['Time'] >= rth_start) & (day_df['Time'] <= rth_end)]\n",
    "            pm_df = day_df[day_df['Time'] < rth_start]\n",
    "\n",
    "            if rth_df.empty:  # Skip if no valid RTH data\n",
    "                print(date, \"for\", ticker, \"is missing data.\")\n",
    "                continue\n",
    "\n",
    "            row = {\n",
    "                \"Datetime\": pd.Timestamp(date),\n",
    "                \"Open\": rth_df.iloc[0]['Open'],\n",
    "                \"High\": rth_df['High'].max(),\n",
    "                \"Low\": rth_df['Low'].min(),\n",
    "                \"Close\": rth_df.iloc[-1]['Close'],\n",
    "                \"Volume\": rth_df['Volume'].sum(),\n",
    "                \"PM_High\": pm_df['High'].max() if not pm_df.empty else None,\n",
    "                \"PM_Low\": pm_df['Low'].min() if not pm_df.empty else None,\n",
    "                \"PM_Volume\": pm_df['Volume'].sum() if not pm_df.empty else None,\n",
    "                \"Ticker\": ticker\n",
    "            }\n",
    "\n",
    "            daily_rows.append(row)\n",
    "\n",
    "        # Saving daily data\n",
    "        if daily_rows:\n",
    "            df_out = pd.DataFrame(daily_rows)\n",
    "            df_out = df_out.set_index(\"Datetime\")\n",
    "            output_path = os.path.join(output_root, f\"{ticker}_1day.parquet\")\n",
    "            df_out.to_parquet(output_path)\n",
    "\n",
    "    except Exception as e:\n",
    "        print(f\"Failed processing {folder_name}: {e}\")"
   ]
  },
  {
   "cell_type": "code",
   "execution_count": 85,
   "id": "2f471483-8a30-4b10-8929-24a806aed385",
   "metadata": {},
   "outputs": [
    {
     "data": {
      "text/plain": [
       "2599"
      ]
     },
     "execution_count": 85,
     "metadata": {},
     "output_type": "execute_result"
    }
   ],
   "source": [
    "# We can check to make sure that we still have the same number of files as before\n",
    "len(os.listdir(\"/Volumes/T7/Filtered-Cleaned-Parquet-1day\"))"
   ]
  },
  {
   "cell_type": "code",
   "execution_count": 86,
   "id": "924735e3-7053-4ebb-9752-6c8ab0a34cbe",
   "metadata": {},
   "outputs": [
    {
     "data": {
      "text/html": [
       "<div>\n",
       "<style scoped>\n",
       "    .dataframe tbody tr th:only-of-type {\n",
       "        vertical-align: middle;\n",
       "    }\n",
       "\n",
       "    .dataframe tbody tr th {\n",
       "        vertical-align: top;\n",
       "    }\n",
       "\n",
       "    .dataframe thead th {\n",
       "        text-align: right;\n",
       "    }\n",
       "</style>\n",
       "<table border=\"1\" class=\"dataframe\">\n",
       "  <thead>\n",
       "    <tr style=\"text-align: right;\">\n",
       "      <th></th>\n",
       "      <th>Open</th>\n",
       "      <th>High</th>\n",
       "      <th>Low</th>\n",
       "      <th>Close</th>\n",
       "      <th>Volume</th>\n",
       "      <th>PM_High</th>\n",
       "      <th>PM_Low</th>\n",
       "      <th>PM_Volume</th>\n",
       "      <th>Ticker</th>\n",
       "    </tr>\n",
       "    <tr>\n",
       "      <th>Datetime</th>\n",
       "      <th></th>\n",
       "      <th></th>\n",
       "      <th></th>\n",
       "      <th></th>\n",
       "      <th></th>\n",
       "      <th></th>\n",
       "      <th></th>\n",
       "      <th></th>\n",
       "      <th></th>\n",
       "    </tr>\n",
       "  </thead>\n",
       "  <tbody>\n",
       "    <tr>\n",
       "      <th>2020-10-01</th>\n",
       "      <td>117.700</td>\n",
       "      <td>117.72</td>\n",
       "      <td>115.83</td>\n",
       "      <td>116.80</td>\n",
       "      <td>92076075.0</td>\n",
       "      <td>118.1000</td>\n",
       "      <td>116.510</td>\n",
       "      <td>1755406.0</td>\n",
       "      <td>AAPL</td>\n",
       "    </tr>\n",
       "    <tr>\n",
       "      <th>2020-10-02</th>\n",
       "      <td>112.840</td>\n",
       "      <td>115.37</td>\n",
       "      <td>112.22</td>\n",
       "      <td>113.02</td>\n",
       "      <td>116084401.0</td>\n",
       "      <td>117.0800</td>\n",
       "      <td>112.560</td>\n",
       "      <td>4460967.0</td>\n",
       "      <td>AAPL</td>\n",
       "    </tr>\n",
       "    <tr>\n",
       "      <th>2020-10-05</th>\n",
       "      <td>113.920</td>\n",
       "      <td>116.65</td>\n",
       "      <td>113.55</td>\n",
       "      <td>116.54</td>\n",
       "      <td>84421170.0</td>\n",
       "      <td>114.7100</td>\n",
       "      <td>113.300</td>\n",
       "      <td>1690948.0</td>\n",
       "      <td>AAPL</td>\n",
       "    </tr>\n",
       "    <tr>\n",
       "      <th>2020-10-06</th>\n",
       "      <td>115.680</td>\n",
       "      <td>116.12</td>\n",
       "      <td>112.25</td>\n",
       "      <td>113.16</td>\n",
       "      <td>132805466.0</td>\n",
       "      <td>116.7900</td>\n",
       "      <td>115.230</td>\n",
       "      <td>1358666.0</td>\n",
       "      <td>AAPL</td>\n",
       "    </tr>\n",
       "    <tr>\n",
       "      <th>2020-10-07</th>\n",
       "      <td>114.640</td>\n",
       "      <td>115.55</td>\n",
       "      <td>114.13</td>\n",
       "      <td>115.05</td>\n",
       "      <td>78303638.0</td>\n",
       "      <td>114.7500</td>\n",
       "      <td>113.134</td>\n",
       "      <td>2071097.0</td>\n",
       "      <td>AAPL</td>\n",
       "    </tr>\n",
       "    <tr>\n",
       "      <th>...</th>\n",
       "      <td>...</td>\n",
       "      <td>...</td>\n",
       "      <td>...</td>\n",
       "      <td>...</td>\n",
       "      <td>...</td>\n",
       "      <td>...</td>\n",
       "      <td>...</td>\n",
       "      <td>...</td>\n",
       "      <td>...</td>\n",
       "    </tr>\n",
       "    <tr>\n",
       "      <th>2024-12-04</th>\n",
       "      <td>242.870</td>\n",
       "      <td>244.11</td>\n",
       "      <td>241.25</td>\n",
       "      <td>243.02</td>\n",
       "      <td>20217543.0</td>\n",
       "      <td>243.6900</td>\n",
       "      <td>242.044</td>\n",
       "      <td>466815.0</td>\n",
       "      <td>AAPL</td>\n",
       "    </tr>\n",
       "    <tr>\n",
       "      <th>2024-12-05</th>\n",
       "      <td>243.990</td>\n",
       "      <td>244.54</td>\n",
       "      <td>242.13</td>\n",
       "      <td>243.08</td>\n",
       "      <td>18743262.0</td>\n",
       "      <td>244.2767</td>\n",
       "      <td>242.100</td>\n",
       "      <td>206871.0</td>\n",
       "      <td>AAPL</td>\n",
       "    </tr>\n",
       "    <tr>\n",
       "      <th>2024-12-06</th>\n",
       "      <td>242.905</td>\n",
       "      <td>244.63</td>\n",
       "      <td>242.08</td>\n",
       "      <td>242.86</td>\n",
       "      <td>19207219.0</td>\n",
       "      <td>243.2300</td>\n",
       "      <td>242.410</td>\n",
       "      <td>169685.0</td>\n",
       "      <td>AAPL</td>\n",
       "    </tr>\n",
       "    <tr>\n",
       "      <th>2024-12-09</th>\n",
       "      <td>241.900</td>\n",
       "      <td>247.24</td>\n",
       "      <td>241.75</td>\n",
       "      <td>246.82</td>\n",
       "      <td>24141189.0</td>\n",
       "      <td>243.0000</td>\n",
       "      <td>241.570</td>\n",
       "      <td>193561.0</td>\n",
       "      <td>AAPL</td>\n",
       "    </tr>\n",
       "    <tr>\n",
       "      <th>2024-12-10</th>\n",
       "      <td>246.910</td>\n",
       "      <td>248.21</td>\n",
       "      <td>245.34</td>\n",
       "      <td>247.80</td>\n",
       "      <td>19346976.0</td>\n",
       "      <td>248.0000</td>\n",
       "      <td>246.134</td>\n",
       "      <td>286748.0</td>\n",
       "      <td>AAPL</td>\n",
       "    </tr>\n",
       "  </tbody>\n",
       "</table>\n",
       "<p>1055 rows × 9 columns</p>\n",
       "</div>"
      ],
      "text/plain": [
       "               Open    High     Low   Close       Volume   PM_High   PM_Low  \\\n",
       "Datetime                                                                      \n",
       "2020-10-01  117.700  117.72  115.83  116.80   92076075.0  118.1000  116.510   \n",
       "2020-10-02  112.840  115.37  112.22  113.02  116084401.0  117.0800  112.560   \n",
       "2020-10-05  113.920  116.65  113.55  116.54   84421170.0  114.7100  113.300   \n",
       "2020-10-06  115.680  116.12  112.25  113.16  132805466.0  116.7900  115.230   \n",
       "2020-10-07  114.640  115.55  114.13  115.05   78303638.0  114.7500  113.134   \n",
       "...             ...     ...     ...     ...          ...       ...      ...   \n",
       "2024-12-04  242.870  244.11  241.25  243.02   20217543.0  243.6900  242.044   \n",
       "2024-12-05  243.990  244.54  242.13  243.08   18743262.0  244.2767  242.100   \n",
       "2024-12-06  242.905  244.63  242.08  242.86   19207219.0  243.2300  242.410   \n",
       "2024-12-09  241.900  247.24  241.75  246.82   24141189.0  243.0000  241.570   \n",
       "2024-12-10  246.910  248.21  245.34  247.80   19346976.0  248.0000  246.134   \n",
       "\n",
       "            PM_Volume Ticker  \n",
       "Datetime                      \n",
       "2020-10-01  1755406.0   AAPL  \n",
       "2020-10-02  4460967.0   AAPL  \n",
       "2020-10-05  1690948.0   AAPL  \n",
       "2020-10-06  1358666.0   AAPL  \n",
       "2020-10-07  2071097.0   AAPL  \n",
       "...               ...    ...  \n",
       "2024-12-04   466815.0   AAPL  \n",
       "2024-12-05   206871.0   AAPL  \n",
       "2024-12-06   169685.0   AAPL  \n",
       "2024-12-09   193561.0   AAPL  \n",
       "2024-12-10   286748.0   AAPL  \n",
       "\n",
       "[1055 rows x 9 columns]"
      ]
     },
     "execution_count": 86,
     "metadata": {},
     "output_type": "execute_result"
    }
   ],
   "source": [
    "# We can also check to make sure the files look appropriate\n",
    "AAPL_1day_path = '/Volumes/T7/Filtered-Cleaned-Parquet-1day/AAPL_1day.parquet'\n",
    "pd.read_parquet(AAPL_1day_path)"
   ]
  },
  {
   "cell_type": "markdown",
   "id": "84dc8383-839c-490d-a72a-967ccbd8cad5",
   "metadata": {},
   "source": [
    "We now have cleaned day data that we can use for every ticker, and we can now finally start our machine learning process. I will perform my analyses in a separate notebook, using all the cleaned data from my SSD."
   ]
  },
  {
   "cell_type": "markdown",
   "id": "a344d0cd-1c79-4db3-97c8-3a9e6397f80b",
   "metadata": {},
   "source": [
    "## (Update) Adding in PM Highs, Lows, Close, and total Volume up till 9:27am and 9:28am\n",
    "I thought of this after the fact, but I realized that if I solely want to use PM metrics up till either 9:27am or 9:28am and didn't want to pull out the minute data right away, I'll need pre-calculated metrics for them. The reasoning is simply because I want to potentially trade at the Open, which means that my model will need to run before the Open occurs. Using a PM_threshold of 9:28am will give me one minute for inference, whereas a PM_threshold of 9:27am will give me two minutes. I'm not sure exactly how long I'll need, so I'll get both metrics to be safe.\n",
    "\n",
    "The PM High, Low, and Volume metrics will be calculated the same way as before, but instead of going to 9:29am, they will only go to 9:27am or 9:28am. The PM_Close at either time will be the Close price of that CS, and this will act as the new \"Open\" price when calculating metrics such as daily gap ups and such."
   ]
  },
  {
   "cell_type": "code",
   "execution_count": 39,
   "id": "de8460d4-9b4b-4bff-85bf-6d6ab78f365d",
   "metadata": {},
   "outputs": [
    {
     "name": "stderr",
     "output_type": "stream",
     "text": [
      "100%|███████████████████████████████████████| 2599/2599 [37:18<00:00,  1.16it/s]\n"
     ]
    }
   ],
   "source": [
    "# Getting the different paths and defining the PM time cutoffs\n",
    "minute_root = \"/Volumes/T7/Filtered-Cleaned-Parquet-ML\"\n",
    "day_root = \"/Volumes/T7/Filtered-Cleaned-Parquet-1day\"\n",
    "pm_cutoff_0927 = pd.to_datetime(\"09:27\", format=\"%H:%M\").time()\n",
    "pm_cutoff_0928 = pd.to_datetime(\"09:28\", format=\"%H:%M\").time()\n",
    "\n",
    "# Processing each ticker's 1-day parquet file\n",
    "for file_name in tqdm(os.listdir(day_root)):\n",
    "    if not file_name.endswith(\"_1day.parquet\"):\n",
    "        continue\n",
    "\n",
    "    ticker = file_name.split(\"_\")[0]\n",
    "    day_file_path = os.path.join(day_root, file_name)\n",
    "    minute_folder_path = os.path.join(minute_root, f\"{ticker}_1min_parquet\")\n",
    "\n",
    "    try:\n",
    "        # Loading the 1-day summary df\n",
    "        day_df = pd.read_parquet(day_file_path)\n",
    "        day_df.index = pd.to_datetime(day_df.index)\n",
    "\n",
    "        # Loading all the 1-min data for this ticker\n",
    "        df_minute = pd.read_parquet(minute_folder_path)\n",
    "        df_minute.index = pd.to_datetime(df_minute.index)\n",
    "\n",
    "        # Adding in Date and Time columns for grouping and filtering\n",
    "        df_minute['Date'] = df_minute.index.date\n",
    "        df_minute['Time'] = df_minute.index.time\n",
    "\n",
    "        # Preparing lists for new columns\n",
    "        pm_high_0927_list = []\n",
    "        pm_low_0927_list = []\n",
    "        pm_close_0927_list = []\n",
    "        pm_volume_0927_list = []\n",
    "\n",
    "        pm_high_0928_list = []\n",
    "        pm_low_0928_list = []\n",
    "        pm_close_0928_list = []\n",
    "        pm_volume_0928_list = []\n",
    "\n",
    "        # Grouping by date and calculating metrics\n",
    "        for date, day_min_df in df_minute.groupby('Date'):\n",
    "            if pd.Timestamp(date) not in day_df.index:\n",
    "                # Skip dates not in the 1-day summary\n",
    "                continue\n",
    "\n",
    "            # Filtering for PM metrics up to 9:27am\n",
    "            pm_0927_df = day_min_df[day_min_df['Time'] <= pm_cutoff_0927]\n",
    "            if not pm_0927_df.empty:\n",
    "                pm_high_0927_list.append(pm_0927_df['High'].max())\n",
    "                pm_low_0927_list.append(pm_0927_df['Low'].min())\n",
    "                pm_close_0927_list.append(pm_0927_df.iloc[-1]['Close'])\n",
    "                pm_volume_0927_list.append(pm_0927_df['Volume'].sum())\n",
    "            else:\n",
    "                pm_high_0927_list.append(None)\n",
    "                pm_low_0927_list.append(None)\n",
    "                pm_close_0927_list.append(None)\n",
    "                pm_volume_0927_list.append(None)\n",
    "            \n",
    "            # Filtering for PM metrics up to 9:28am\n",
    "            pm_0928_df = day_min_df[day_min_df['Time'] <= pm_cutoff_0928]\n",
    "            if not pm_0928_df.empty:\n",
    "                pm_high_0928_list.append(pm_0928_df['High'].max())\n",
    "                pm_low_0928_list.append(pm_0928_df['Low'].min())\n",
    "                pm_close_0928_list.append(pm_0928_df.iloc[-1]['Close'])\n",
    "                pm_volume_0928_list.append(pm_0928_df['Volume'].sum())\n",
    "            else:\n",
    "                pm_high_0928_list.append(None)\n",
    "                pm_low_0928_list.append(None)\n",
    "                pm_close_0928_list.append(None)\n",
    "                pm_volume_0928_list.append(None)\n",
    "\n",
    "        # Ensuring the lists align with day_df\n",
    "        day_df = day_df.loc[pd.to_datetime([pd.Timestamp(d).date() for d in df_minute['Date'].unique()])]\n",
    "\n",
    "        day_df['PM_High_0927'] = pm_high_0927_list\n",
    "        day_df['PM_Low_0927'] = pm_low_0927_list\n",
    "        day_df['PM_Close_0927'] = pm_close_0927_list\n",
    "        day_df['PM_Volume_0927'] = pm_volume_0927_list\n",
    "\n",
    "        day_df['PM_High_0928'] = pm_high_0928_list\n",
    "        day_df['PM_Low_0928'] = pm_low_0928_list\n",
    "        day_df['PM_Close_0928'] = pm_close_0928_list\n",
    "        day_df['PM_Volume_0928'] = pm_volume_0928_list\n",
    "\n",
    "        # Saving updated 1-day parquet file\n",
    "        day_df.to_parquet(day_file_path)\n",
    "\n",
    "    except Exception as e:\n",
    "        print(f\"Failed processing {file_name}: {e}\")"
   ]
  },
  {
   "cell_type": "code",
   "execution_count": 40,
   "id": "d266549e-3465-4f51-b906-cb98fbfd27d6",
   "metadata": {},
   "outputs": [
    {
     "data": {
      "text/plain": [
       "2599"
      ]
     },
     "execution_count": 40,
     "metadata": {},
     "output_type": "execute_result"
    }
   ],
   "source": [
    "# We can check to make sure that we still have the same number of files as before\n",
    "len(os.listdir(\"/Volumes/T7/Filtered-Cleaned-Parquet-1day\"))"
   ]
  },
  {
   "cell_type": "code",
   "execution_count": 41,
   "id": "7851a8b6-1ce3-4bb3-89df-8070fa89a90e",
   "metadata": {},
   "outputs": [
    {
     "data": {
      "text/html": [
       "<div>\n",
       "<style scoped>\n",
       "    .dataframe tbody tr th:only-of-type {\n",
       "        vertical-align: middle;\n",
       "    }\n",
       "\n",
       "    .dataframe tbody tr th {\n",
       "        vertical-align: top;\n",
       "    }\n",
       "\n",
       "    .dataframe thead th {\n",
       "        text-align: right;\n",
       "    }\n",
       "</style>\n",
       "<table border=\"1\" class=\"dataframe\">\n",
       "  <thead>\n",
       "    <tr style=\"text-align: right;\">\n",
       "      <th></th>\n",
       "      <th>Open</th>\n",
       "      <th>High</th>\n",
       "      <th>Low</th>\n",
       "      <th>Close</th>\n",
       "      <th>Volume</th>\n",
       "      <th>PM_High</th>\n",
       "      <th>PM_Low</th>\n",
       "      <th>PM_Volume</th>\n",
       "      <th>Ticker</th>\n",
       "      <th>PM_High_0927</th>\n",
       "      <th>PM_Low_0927</th>\n",
       "      <th>PM_Close_0927</th>\n",
       "      <th>PM_Volume_0927</th>\n",
       "      <th>PM_High_0928</th>\n",
       "      <th>PM_Low_0928</th>\n",
       "      <th>PM_Close_0928</th>\n",
       "      <th>PM_Volume_0928</th>\n",
       "    </tr>\n",
       "  </thead>\n",
       "  <tbody>\n",
       "    <tr>\n",
       "      <th>2020-10-01</th>\n",
       "      <td>117.700</td>\n",
       "      <td>117.72</td>\n",
       "      <td>115.83</td>\n",
       "      <td>116.80</td>\n",
       "      <td>92076075.0</td>\n",
       "      <td>118.1000</td>\n",
       "      <td>116.510</td>\n",
       "      <td>1755406.0</td>\n",
       "      <td>AAPL</td>\n",
       "      <td>118.10</td>\n",
       "      <td>116.510</td>\n",
       "      <td>117.4500</td>\n",
       "      <td>1690772.0</td>\n",
       "      <td>118.1000</td>\n",
       "      <td>116.510</td>\n",
       "      <td>117.6800</td>\n",
       "      <td>1726947.0</td>\n",
       "    </tr>\n",
       "    <tr>\n",
       "      <th>2020-10-02</th>\n",
       "      <td>112.840</td>\n",
       "      <td>115.37</td>\n",
       "      <td>112.22</td>\n",
       "      <td>113.02</td>\n",
       "      <td>116084401.0</td>\n",
       "      <td>117.0800</td>\n",
       "      <td>112.560</td>\n",
       "      <td>4460967.0</td>\n",
       "      <td>AAPL</td>\n",
       "      <td>117.08</td>\n",
       "      <td>112.700</td>\n",
       "      <td>113.0000</td>\n",
       "      <td>4319384.0</td>\n",
       "      <td>117.0800</td>\n",
       "      <td>112.560</td>\n",
       "      <td>112.7500</td>\n",
       "      <td>4389769.0</td>\n",
       "    </tr>\n",
       "    <tr>\n",
       "      <th>2020-10-05</th>\n",
       "      <td>113.920</td>\n",
       "      <td>116.65</td>\n",
       "      <td>113.55</td>\n",
       "      <td>116.54</td>\n",
       "      <td>84421170.0</td>\n",
       "      <td>114.7100</td>\n",
       "      <td>113.300</td>\n",
       "      <td>1690948.0</td>\n",
       "      <td>AAPL</td>\n",
       "      <td>114.71</td>\n",
       "      <td>113.300</td>\n",
       "      <td>113.9700</td>\n",
       "      <td>1671728.0</td>\n",
       "      <td>114.7100</td>\n",
       "      <td>113.300</td>\n",
       "      <td>113.9200</td>\n",
       "      <td>1685852.0</td>\n",
       "    </tr>\n",
       "    <tr>\n",
       "      <th>2020-10-06</th>\n",
       "      <td>115.680</td>\n",
       "      <td>116.12</td>\n",
       "      <td>112.25</td>\n",
       "      <td>113.16</td>\n",
       "      <td>132805466.0</td>\n",
       "      <td>116.7900</td>\n",
       "      <td>115.230</td>\n",
       "      <td>1358666.0</td>\n",
       "      <td>AAPL</td>\n",
       "      <td>116.79</td>\n",
       "      <td>115.230</td>\n",
       "      <td>116.0100</td>\n",
       "      <td>1303941.0</td>\n",
       "      <td>116.7900</td>\n",
       "      <td>115.230</td>\n",
       "      <td>115.8500</td>\n",
       "      <td>1331333.0</td>\n",
       "    </tr>\n",
       "    <tr>\n",
       "      <th>2020-10-07</th>\n",
       "      <td>114.640</td>\n",
       "      <td>115.55</td>\n",
       "      <td>114.13</td>\n",
       "      <td>115.05</td>\n",
       "      <td>78303638.0</td>\n",
       "      <td>114.7500</td>\n",
       "      <td>113.134</td>\n",
       "      <td>2071097.0</td>\n",
       "      <td>AAPL</td>\n",
       "      <td>114.75</td>\n",
       "      <td>113.134</td>\n",
       "      <td>114.7000</td>\n",
       "      <td>2032261.0</td>\n",
       "      <td>114.7500</td>\n",
       "      <td>113.134</td>\n",
       "      <td>114.6000</td>\n",
       "      <td>2042679.0</td>\n",
       "    </tr>\n",
       "    <tr>\n",
       "      <th>...</th>\n",
       "      <td>...</td>\n",
       "      <td>...</td>\n",
       "      <td>...</td>\n",
       "      <td>...</td>\n",
       "      <td>...</td>\n",
       "      <td>...</td>\n",
       "      <td>...</td>\n",
       "      <td>...</td>\n",
       "      <td>...</td>\n",
       "      <td>...</td>\n",
       "      <td>...</td>\n",
       "      <td>...</td>\n",
       "      <td>...</td>\n",
       "      <td>...</td>\n",
       "      <td>...</td>\n",
       "      <td>...</td>\n",
       "      <td>...</td>\n",
       "    </tr>\n",
       "    <tr>\n",
       "      <th>2024-12-04</th>\n",
       "      <td>242.870</td>\n",
       "      <td>244.11</td>\n",
       "      <td>241.25</td>\n",
       "      <td>243.02</td>\n",
       "      <td>20217543.0</td>\n",
       "      <td>243.6900</td>\n",
       "      <td>242.044</td>\n",
       "      <td>466815.0</td>\n",
       "      <td>AAPL</td>\n",
       "      <td>243.69</td>\n",
       "      <td>242.044</td>\n",
       "      <td>242.8200</td>\n",
       "      <td>457759.0</td>\n",
       "      <td>243.6900</td>\n",
       "      <td>242.044</td>\n",
       "      <td>243.0500</td>\n",
       "      <td>463699.0</td>\n",
       "    </tr>\n",
       "    <tr>\n",
       "      <th>2024-12-05</th>\n",
       "      <td>243.990</td>\n",
       "      <td>244.54</td>\n",
       "      <td>242.13</td>\n",
       "      <td>243.08</td>\n",
       "      <td>18743262.0</td>\n",
       "      <td>244.2767</td>\n",
       "      <td>242.100</td>\n",
       "      <td>206871.0</td>\n",
       "      <td>AAPL</td>\n",
       "      <td>244.06</td>\n",
       "      <td>242.100</td>\n",
       "      <td>244.0600</td>\n",
       "      <td>166440.0</td>\n",
       "      <td>244.2767</td>\n",
       "      <td>242.100</td>\n",
       "      <td>243.9400</td>\n",
       "      <td>196704.0</td>\n",
       "    </tr>\n",
       "    <tr>\n",
       "      <th>2024-12-06</th>\n",
       "      <td>242.905</td>\n",
       "      <td>244.63</td>\n",
       "      <td>242.08</td>\n",
       "      <td>242.86</td>\n",
       "      <td>19207219.0</td>\n",
       "      <td>243.2300</td>\n",
       "      <td>242.410</td>\n",
       "      <td>169685.0</td>\n",
       "      <td>AAPL</td>\n",
       "      <td>243.20</td>\n",
       "      <td>242.410</td>\n",
       "      <td>242.9799</td>\n",
       "      <td>163273.0</td>\n",
       "      <td>243.2300</td>\n",
       "      <td>242.410</td>\n",
       "      <td>242.9690</td>\n",
       "      <td>168492.0</td>\n",
       "    </tr>\n",
       "    <tr>\n",
       "      <th>2024-12-09</th>\n",
       "      <td>241.900</td>\n",
       "      <td>247.24</td>\n",
       "      <td>241.75</td>\n",
       "      <td>246.82</td>\n",
       "      <td>24141189.0</td>\n",
       "      <td>243.0000</td>\n",
       "      <td>241.570</td>\n",
       "      <td>193561.0</td>\n",
       "      <td>AAPL</td>\n",
       "      <td>243.00</td>\n",
       "      <td>241.970</td>\n",
       "      <td>242.1200</td>\n",
       "      <td>166778.0</td>\n",
       "      <td>243.0000</td>\n",
       "      <td>241.570</td>\n",
       "      <td>241.8899</td>\n",
       "      <td>187306.0</td>\n",
       "    </tr>\n",
       "    <tr>\n",
       "      <th>2024-12-10</th>\n",
       "      <td>246.910</td>\n",
       "      <td>248.21</td>\n",
       "      <td>245.34</td>\n",
       "      <td>247.80</td>\n",
       "      <td>19346976.0</td>\n",
       "      <td>248.0000</td>\n",
       "      <td>246.134</td>\n",
       "      <td>286748.0</td>\n",
       "      <td>AAPL</td>\n",
       "      <td>248.00</td>\n",
       "      <td>246.134</td>\n",
       "      <td>247.2100</td>\n",
       "      <td>282328.0</td>\n",
       "      <td>248.0000</td>\n",
       "      <td>246.134</td>\n",
       "      <td>247.0900</td>\n",
       "      <td>284190.0</td>\n",
       "    </tr>\n",
       "  </tbody>\n",
       "</table>\n",
       "<p>1055 rows × 17 columns</p>\n",
       "</div>"
      ],
      "text/plain": [
       "               Open    High     Low   Close       Volume   PM_High   PM_Low  \\\n",
       "2020-10-01  117.700  117.72  115.83  116.80   92076075.0  118.1000  116.510   \n",
       "2020-10-02  112.840  115.37  112.22  113.02  116084401.0  117.0800  112.560   \n",
       "2020-10-05  113.920  116.65  113.55  116.54   84421170.0  114.7100  113.300   \n",
       "2020-10-06  115.680  116.12  112.25  113.16  132805466.0  116.7900  115.230   \n",
       "2020-10-07  114.640  115.55  114.13  115.05   78303638.0  114.7500  113.134   \n",
       "...             ...     ...     ...     ...          ...       ...      ...   \n",
       "2024-12-04  242.870  244.11  241.25  243.02   20217543.0  243.6900  242.044   \n",
       "2024-12-05  243.990  244.54  242.13  243.08   18743262.0  244.2767  242.100   \n",
       "2024-12-06  242.905  244.63  242.08  242.86   19207219.0  243.2300  242.410   \n",
       "2024-12-09  241.900  247.24  241.75  246.82   24141189.0  243.0000  241.570   \n",
       "2024-12-10  246.910  248.21  245.34  247.80   19346976.0  248.0000  246.134   \n",
       "\n",
       "            PM_Volume Ticker  PM_High_0927  PM_Low_0927  PM_Close_0927  \\\n",
       "2020-10-01  1755406.0   AAPL        118.10      116.510       117.4500   \n",
       "2020-10-02  4460967.0   AAPL        117.08      112.700       113.0000   \n",
       "2020-10-05  1690948.0   AAPL        114.71      113.300       113.9700   \n",
       "2020-10-06  1358666.0   AAPL        116.79      115.230       116.0100   \n",
       "2020-10-07  2071097.0   AAPL        114.75      113.134       114.7000   \n",
       "...               ...    ...           ...          ...            ...   \n",
       "2024-12-04   466815.0   AAPL        243.69      242.044       242.8200   \n",
       "2024-12-05   206871.0   AAPL        244.06      242.100       244.0600   \n",
       "2024-12-06   169685.0   AAPL        243.20      242.410       242.9799   \n",
       "2024-12-09   193561.0   AAPL        243.00      241.970       242.1200   \n",
       "2024-12-10   286748.0   AAPL        248.00      246.134       247.2100   \n",
       "\n",
       "            PM_Volume_0927  PM_High_0928  PM_Low_0928  PM_Close_0928  \\\n",
       "2020-10-01       1690772.0      118.1000      116.510       117.6800   \n",
       "2020-10-02       4319384.0      117.0800      112.560       112.7500   \n",
       "2020-10-05       1671728.0      114.7100      113.300       113.9200   \n",
       "2020-10-06       1303941.0      116.7900      115.230       115.8500   \n",
       "2020-10-07       2032261.0      114.7500      113.134       114.6000   \n",
       "...                    ...           ...          ...            ...   \n",
       "2024-12-04        457759.0      243.6900      242.044       243.0500   \n",
       "2024-12-05        166440.0      244.2767      242.100       243.9400   \n",
       "2024-12-06        163273.0      243.2300      242.410       242.9690   \n",
       "2024-12-09        166778.0      243.0000      241.570       241.8899   \n",
       "2024-12-10        282328.0      248.0000      246.134       247.0900   \n",
       "\n",
       "            PM_Volume_0928  \n",
       "2020-10-01       1726947.0  \n",
       "2020-10-02       4389769.0  \n",
       "2020-10-05       1685852.0  \n",
       "2020-10-06       1331333.0  \n",
       "2020-10-07       2042679.0  \n",
       "...                    ...  \n",
       "2024-12-04        463699.0  \n",
       "2024-12-05        196704.0  \n",
       "2024-12-06        168492.0  \n",
       "2024-12-09        187306.0  \n",
       "2024-12-10        284190.0  \n",
       "\n",
       "[1055 rows x 17 columns]"
      ]
     },
     "execution_count": 41,
     "metadata": {},
     "output_type": "execute_result"
    }
   ],
   "source": [
    "# We can also check to make sure the files look appropriate\n",
    "AAPL_1day_path = '/Volumes/T7/Filtered-Cleaned-Parquet-1day/AAPL_1day.parquet'\n",
    "pd.read_parquet(AAPL_1day_path)"
   ]
  },
  {
   "cell_type": "markdown",
   "id": "d568a7f0-1503-42bd-9165-403d7c8912bd",
   "metadata": {},
   "source": [
    "With this updated data, we can now use PM prices that more closely reflect what will happen in reality. Furthermore, even though the process is slightly different from before (we're reading in the parquet files rather than creating them outright), it still took less time than before, which gives me more confidence that this Macbook can run more quickly than my previous Mac."
   ]
  },
  {
   "cell_type": "code",
   "execution_count": null,
   "id": "08cc0f2d-9109-4b49-84c8-73b44e803029",
   "metadata": {},
   "outputs": [],
   "source": []
  }
 ],
 "metadata": {
  "kernelspec": {
   "display_name": "Python [conda env:base] *",
   "language": "python",
   "name": "conda-base-py"
  },
  "language_info": {
   "codemirror_mode": {
    "name": "ipython",
    "version": 3
   },
   "file_extension": ".py",
   "mimetype": "text/x-python",
   "name": "python",
   "nbconvert_exporter": "python",
   "pygments_lexer": "ipython3",
   "version": "3.12.7"
  }
 },
 "nbformat": 4,
 "nbformat_minor": 5
}
